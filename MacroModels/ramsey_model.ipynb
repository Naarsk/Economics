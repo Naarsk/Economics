{
 "cells": [
  {
   "cell_type": "code",
   "id": "initial_id",
   "metadata": {
    "collapsed": true,
    "ExecuteTime": {
     "end_time": "2024-10-29T16:52:56.992004Z",
     "start_time": "2024-10-29T16:52:56.146646Z"
    }
   },
   "source": [
    "from Finance.UtilityFunctions import CRRA\n",
    "from MacroModels.NeoclassicalModel import RamseyModel\n",
    "from MacroModels.ProductionFunctions import CobbDouglas, CES\n",
    "from MacroModels.ExogenousVariables import ExogenousFunctions\n",
    "from MacroModels.GrowthFunctions import compounded_growth, identity\n",
    "\n",
    "cobb_douglas = CobbDouglas(alpha=0.5)\n",
    "\n",
    "time_horizon = 5\n",
    "\n",
    "starting_pop = 100\n",
    "labor_growth_rate = 0.4\n",
    "labor_growth_function = lambda x: compounded_growth(x, labor_growth_rate)\n",
    "\n",
    "exogenous_variables = ExogenousFunctions(starting_pop=starting_pop, starting_hicks=1, starting_solow=1,\n",
    "                                                 starting_harrods=1, hicks_progress_function=identity,\n",
    "                                                 solow_progress_function=identity, harrods_progress_function=identity,\n",
    "                                                 time_horizon=time_horizon, labor_growth_function=labor_growth_function)\n",
    "\n",
    "crra = CRRA(params=0.5)\n",
    "\n",
    "crra(x=0.3)\n",
    "\n",
    "crra.absolute_risk_aversion(x=100)"
   ],
   "outputs": [
    {
     "data": {
      "text/plain": [
       "0.5"
      ]
     },
     "execution_count": 1,
     "metadata": {},
     "output_type": "execute_result"
    }
   ],
   "execution_count": 1
  },
  {
   "metadata": {
    "ExecuteTime": {
     "end_time": "2024-10-29T16:52:57.073506Z",
     "start_time": "2024-10-29T16:52:57.066478Z"
    }
   },
   "cell_type": "code",
   "source": "ramsey_model = RamseyModel(discounting_rate=0.04, depreciation_rate=0.02, starting_capital=100, production_function=cobb_douglas, exogenous_variables=exogenous_variables, utility_function=crra)\n",
   "id": "b443492f3f08b396",
   "outputs": [],
   "execution_count": 2
  },
  {
   "metadata": {
    "ExecuteTime": {
     "end_time": "2024-10-29T16:52:58.159873Z",
     "start_time": "2024-10-29T16:52:57.346478Z"
    }
   },
   "cell_type": "code",
   "source": "ramsey_model()",
   "id": "24e8ebbaec5551c",
   "outputs": [
    {
     "name": "stderr",
     "output_type": "stream",
     "text": [
      "C:\\Users\\leocr\\Projects\\Economics\\MacroModels\\ProductionFunctions.py:144: RuntimeWarning: invalid value encountered in scalar power\n",
      "  return k ** alpha * l ** (1 - alpha)\n",
      "C:\\Users\\leocr\\Projects\\Economics\\MacroModels\\NeoclassicalModel.py:50: ODEintWarning: Excess accuracy requested (tolerances too small). Run with full_output = 1 to get quantitative information.\n",
      "  sol = odeint(equations, x0, self.time)\n"
     ]
    },
    {
     "ename": "ValueError",
     "evalue": "setting an array element with a sequence. The requested array has an inhomogeneous shape after 1 dimensions. The detected shape was (2,) + inhomogeneous part.",
     "output_type": "error",
     "traceback": [
      "\u001B[1;31m---------------------------------------------------------------------------\u001B[0m",
      "\u001B[1;31mValueError\u001B[0m                                Traceback (most recent call last)",
      "Cell \u001B[1;32mIn[3], line 1\u001B[0m\n\u001B[1;32m----> 1\u001B[0m \u001B[43mramsey_model\u001B[49m\u001B[43m(\u001B[49m\u001B[43m)\u001B[49m\n",
      "File \u001B[1;32m~\\Projects\\Economics\\MacroModels\\NeoclassicalModel.py:53\u001B[0m, in \u001B[0;36mRamseyModel.__call__\u001B[1;34m(self)\u001B[0m\n\u001B[0;32m     50\u001B[0m     sol \u001B[38;5;241m=\u001B[39m odeint(equations, x0, \u001B[38;5;28mself\u001B[39m\u001B[38;5;241m.\u001B[39mtime)\n\u001B[0;32m     51\u001B[0m     \u001B[38;5;28;01mreturn\u001B[39;00m sol[:, \u001B[38;5;241m1\u001B[39m][\u001B[38;5;241m-\u001B[39m\u001B[38;5;241m1\u001B[39m] \u001B[38;5;241m-\u001B[39m \u001B[38;5;28mself\u001B[39m\u001B[38;5;241m.\u001B[39mconsumption[\u001B[38;5;241m-\u001B[39m\u001B[38;5;241m1\u001B[39m]\n\u001B[1;32m---> 53\u001B[0m \u001B[38;5;28mself\u001B[39m\u001B[38;5;241m.\u001B[39mconsumption[\u001B[38;5;241m0\u001B[39m] \u001B[38;5;241m=\u001B[39m \u001B[43mroot_scalar\u001B[49m\u001B[43m(\u001B[49m\u001B[43mintegrate\u001B[49m\u001B[43m,\u001B[49m\u001B[43m \u001B[49m\u001B[43mx0\u001B[49m\u001B[38;5;241;43m=\u001B[39;49m\u001B[38;5;28;43mself\u001B[39;49m\u001B[38;5;241;43m.\u001B[39;49m\u001B[43mstarting_capital\u001B[49m\u001B[43m)\u001B[49m\u001B[38;5;241m.\u001B[39mroot\n\u001B[0;32m     55\u001B[0m \u001B[38;5;28;01mfor\u001B[39;00m t \u001B[38;5;129;01min\u001B[39;00m \u001B[38;5;28mself\u001B[39m\u001B[38;5;241m.\u001B[39mtime[:\u001B[38;5;241m-\u001B[39m\u001B[38;5;241m1\u001B[39m]:\n\u001B[0;32m     56\u001B[0m     \u001B[38;5;28mself\u001B[39m\u001B[38;5;241m.\u001B[39mincome[t] \u001B[38;5;241m=\u001B[39m \u001B[38;5;28mself\u001B[39m\u001B[38;5;241m.\u001B[39mproduction_function([ \u001B[38;5;28mself\u001B[39m\u001B[38;5;241m.\u001B[39mcapital[t], \u001B[38;5;28mself\u001B[39m\u001B[38;5;241m.\u001B[39mlabor[t]])\n",
      "File \u001B[1;32m~\\Projects\\Economics\\.venv\\Lib\\site-packages\\scipy\\optimize\\_root_scalar.py:315\u001B[0m, in \u001B[0;36mroot_scalar\u001B[1;34m(f, args, method, bracket, fprime, fprime2, x0, x1, xtol, rtol, maxiter, options)\u001B[0m\n\u001B[0;32m    313\u001B[0m     \u001B[38;5;28;01mif\u001B[39;00m \u001B[38;5;124m'\u001B[39m\u001B[38;5;124mxtol\u001B[39m\u001B[38;5;124m'\u001B[39m \u001B[38;5;129;01min\u001B[39;00m kwargs:\n\u001B[0;32m    314\u001B[0m         kwargs[\u001B[38;5;124m'\u001B[39m\u001B[38;5;124mtol\u001B[39m\u001B[38;5;124m'\u001B[39m] \u001B[38;5;241m=\u001B[39m kwargs\u001B[38;5;241m.\u001B[39mpop(\u001B[38;5;124m'\u001B[39m\u001B[38;5;124mxtol\u001B[39m\u001B[38;5;124m'\u001B[39m)\n\u001B[1;32m--> 315\u001B[0m     r, sol \u001B[38;5;241m=\u001B[39m \u001B[43mmethodc\u001B[49m\u001B[43m(\u001B[49m\u001B[43mf\u001B[49m\u001B[43m,\u001B[49m\u001B[43m \u001B[49m\u001B[43mx0\u001B[49m\u001B[43m,\u001B[49m\u001B[43m \u001B[49m\u001B[43margs\u001B[49m\u001B[38;5;241;43m=\u001B[39;49m\u001B[43margs\u001B[49m\u001B[43m,\u001B[49m\u001B[43m \u001B[49m\u001B[43mfprime\u001B[49m\u001B[38;5;241;43m=\u001B[39;49m\u001B[43mfprime\u001B[49m\u001B[43m,\u001B[49m\u001B[43m \u001B[49m\u001B[43mfprime2\u001B[49m\u001B[38;5;241;43m=\u001B[39;49m\u001B[38;5;28;43;01mNone\u001B[39;49;00m\u001B[43m,\u001B[49m\n\u001B[0;32m    316\u001B[0m \u001B[43m                     \u001B[49m\u001B[38;5;241;43m*\u001B[39;49m\u001B[38;5;241;43m*\u001B[39;49m\u001B[43mkwargs\u001B[49m\u001B[43m)\u001B[49m\n\u001B[0;32m    317\u001B[0m \u001B[38;5;28;01melif\u001B[39;00m meth \u001B[38;5;129;01min\u001B[39;00m [\u001B[38;5;124m'\u001B[39m\u001B[38;5;124mhalley\u001B[39m\u001B[38;5;124m'\u001B[39m]:\n\u001B[0;32m    318\u001B[0m     \u001B[38;5;28;01mif\u001B[39;00m x0 \u001B[38;5;129;01mis\u001B[39;00m \u001B[38;5;28;01mNone\u001B[39;00m:\n",
      "File \u001B[1;32m~\\Projects\\Economics\\.venv\\Lib\\site-packages\\scipy\\optimize\\_zeros_py.py:314\u001B[0m, in \u001B[0;36mnewton\u001B[1;34m(func, x0, fprime, args, tol, maxiter, fprime2, x1, rtol, full_output, disp)\u001B[0m\n\u001B[0;32m    311\u001B[0m \u001B[38;5;28;01mif\u001B[39;00m fval \u001B[38;5;241m==\u001B[39m \u001B[38;5;241m0\u001B[39m:\n\u001B[0;32m    312\u001B[0m     \u001B[38;5;28;01mreturn\u001B[39;00m _results_select(\n\u001B[0;32m    313\u001B[0m         full_output, (p0, funcalls, itr, _ECONVERGED), method)\n\u001B[1;32m--> 314\u001B[0m fder \u001B[38;5;241m=\u001B[39m \u001B[43mfprime\u001B[49m\u001B[43m(\u001B[49m\u001B[43mp0\u001B[49m\u001B[43m,\u001B[49m\u001B[43m \u001B[49m\u001B[38;5;241;43m*\u001B[39;49m\u001B[43margs\u001B[49m\u001B[43m)\u001B[49m\n\u001B[0;32m    315\u001B[0m funcalls \u001B[38;5;241m+\u001B[39m\u001B[38;5;241m=\u001B[39m \u001B[38;5;241m1\u001B[39m\n\u001B[0;32m    316\u001B[0m \u001B[38;5;28;01mif\u001B[39;00m fder \u001B[38;5;241m==\u001B[39m \u001B[38;5;241m0\u001B[39m:\n",
      "File \u001B[1;32m~\\Projects\\Economics\\.venv\\Lib\\site-packages\\scipy\\optimize\\_root_scalar.py:311\u001B[0m, in \u001B[0;36mroot_scalar.<locals>.fprime\u001B[1;34m(x, *args)\u001B[0m\n\u001B[0;32m    306\u001B[0m \u001B[38;5;28;01mdef\u001B[39;00m \u001B[38;5;21mfprime\u001B[39m(x, \u001B[38;5;241m*\u001B[39margs):\n\u001B[0;32m    307\u001B[0m     \u001B[38;5;66;03m# `root_scalar` doesn't actually seem to support vectorized\u001B[39;00m\n\u001B[0;32m    308\u001B[0m     \u001B[38;5;66;03m# use of `newton`. In that case, `approx_derivative` will\u001B[39;00m\n\u001B[0;32m    309\u001B[0m     \u001B[38;5;66;03m# always get scalar input. Nonetheless, it always returns an\u001B[39;00m\n\u001B[0;32m    310\u001B[0m     \u001B[38;5;66;03m# array, so we extract the element to produce scalar output.\u001B[39;00m\n\u001B[1;32m--> 311\u001B[0m     \u001B[38;5;28;01mreturn\u001B[39;00m \u001B[43mapprox_derivative\u001B[49m\u001B[43m(\u001B[49m\u001B[43mf\u001B[49m\u001B[43m,\u001B[49m\u001B[43m \u001B[49m\u001B[43mx\u001B[49m\u001B[43m,\u001B[49m\u001B[43m \u001B[49m\u001B[43mmethod\u001B[49m\u001B[38;5;241;43m=\u001B[39;49m\u001B[38;5;124;43m'\u001B[39;49m\u001B[38;5;124;43m2-point\u001B[39;49m\u001B[38;5;124;43m'\u001B[39;49m\u001B[43m,\u001B[49m\u001B[43m \u001B[49m\u001B[43margs\u001B[49m\u001B[38;5;241;43m=\u001B[39;49m\u001B[43margs\u001B[49m\u001B[43m)\u001B[49m[\u001B[38;5;241m0\u001B[39m]\n",
      "File \u001B[1;32m~\\Projects\\Economics\\.venv\\Lib\\site-packages\\scipy\\optimize\\_numdiff.py:477\u001B[0m, in \u001B[0;36mapprox_derivative\u001B[1;34m(fun, x0, method, rel_step, abs_step, f0, bounds, sparsity, as_linear_operator, args, kwargs)\u001B[0m\n\u001B[0;32m    474\u001B[0m     \u001B[38;5;28;01mreturn\u001B[39;00m f\n\u001B[0;32m    476\u001B[0m \u001B[38;5;28;01mif\u001B[39;00m f0 \u001B[38;5;129;01mis\u001B[39;00m \u001B[38;5;28;01mNone\u001B[39;00m:\n\u001B[1;32m--> 477\u001B[0m     f0 \u001B[38;5;241m=\u001B[39m \u001B[43mfun_wrapped\u001B[49m\u001B[43m(\u001B[49m\u001B[43mx0\u001B[49m\u001B[43m)\u001B[49m\n\u001B[0;32m    478\u001B[0m \u001B[38;5;28;01melse\u001B[39;00m:\n\u001B[0;32m    479\u001B[0m     f0 \u001B[38;5;241m=\u001B[39m np\u001B[38;5;241m.\u001B[39matleast_1d(f0)\n",
      "File \u001B[1;32m~\\Projects\\Economics\\.venv\\Lib\\site-packages\\scipy\\optimize\\_numdiff.py:470\u001B[0m, in \u001B[0;36mapprox_derivative.<locals>.fun_wrapped\u001B[1;34m(x)\u001B[0m\n\u001B[0;32m    467\u001B[0m \u001B[38;5;28;01mif\u001B[39;00m xp\u001B[38;5;241m.\u001B[39misdtype(x\u001B[38;5;241m.\u001B[39mdtype, \u001B[38;5;124m\"\u001B[39m\u001B[38;5;124mreal floating\u001B[39m\u001B[38;5;124m\"\u001B[39m):\n\u001B[0;32m    468\u001B[0m     x \u001B[38;5;241m=\u001B[39m xp\u001B[38;5;241m.\u001B[39mastype(x, x0\u001B[38;5;241m.\u001B[39mdtype)\n\u001B[1;32m--> 470\u001B[0m f \u001B[38;5;241m=\u001B[39m np\u001B[38;5;241m.\u001B[39matleast_1d(\u001B[43mfun\u001B[49m\u001B[43m(\u001B[49m\u001B[43mx\u001B[49m\u001B[43m,\u001B[49m\u001B[43m \u001B[49m\u001B[38;5;241;43m*\u001B[39;49m\u001B[43margs\u001B[49m\u001B[43m,\u001B[49m\u001B[43m \u001B[49m\u001B[38;5;241;43m*\u001B[39;49m\u001B[38;5;241;43m*\u001B[39;49m\u001B[43mkwargs\u001B[49m\u001B[43m)\u001B[49m)\n\u001B[0;32m    471\u001B[0m \u001B[38;5;28;01mif\u001B[39;00m f\u001B[38;5;241m.\u001B[39mndim \u001B[38;5;241m>\u001B[39m \u001B[38;5;241m1\u001B[39m:\n\u001B[0;32m    472\u001B[0m     \u001B[38;5;28;01mraise\u001B[39;00m \u001B[38;5;167;01mRuntimeError\u001B[39;00m(\u001B[38;5;124m\"\u001B[39m\u001B[38;5;124m`fun` return value has \u001B[39m\u001B[38;5;124m\"\u001B[39m\n\u001B[0;32m    473\u001B[0m                        \u001B[38;5;124m\"\u001B[39m\u001B[38;5;124mmore than 1 dimension.\u001B[39m\u001B[38;5;124m\"\u001B[39m)\n",
      "File \u001B[1;32m~\\Projects\\Economics\\MacroModels\\NeoclassicalModel.py:50\u001B[0m, in \u001B[0;36mRamseyModel.__call__.<locals>.integrate\u001B[1;34m(c_0_guess)\u001B[0m\n\u001B[0;32m     48\u001B[0m \u001B[38;5;28;01mdef\u001B[39;00m \u001B[38;5;21mintegrate\u001B[39m(c_0_guess):\n\u001B[0;32m     49\u001B[0m     x0 \u001B[38;5;241m=\u001B[39m [\u001B[38;5;28mself\u001B[39m\u001B[38;5;241m.\u001B[39mstarting_capital, c_0_guess]\n\u001B[1;32m---> 50\u001B[0m     sol \u001B[38;5;241m=\u001B[39m \u001B[43modeint\u001B[49m\u001B[43m(\u001B[49m\u001B[43mequations\u001B[49m\u001B[43m,\u001B[49m\u001B[43m \u001B[49m\u001B[43mx0\u001B[49m\u001B[43m,\u001B[49m\u001B[43m \u001B[49m\u001B[38;5;28;43mself\u001B[39;49m\u001B[38;5;241;43m.\u001B[39;49m\u001B[43mtime\u001B[49m\u001B[43m)\u001B[49m\n\u001B[0;32m     51\u001B[0m     \u001B[38;5;28;01mreturn\u001B[39;00m sol[:, \u001B[38;5;241m1\u001B[39m][\u001B[38;5;241m-\u001B[39m\u001B[38;5;241m1\u001B[39m] \u001B[38;5;241m-\u001B[39m \u001B[38;5;28mself\u001B[39m\u001B[38;5;241m.\u001B[39mconsumption[\u001B[38;5;241m-\u001B[39m\u001B[38;5;241m1\u001B[39m]\n",
      "File \u001B[1;32m~\\Projects\\Economics\\.venv\\Lib\\site-packages\\scipy\\integrate\\_odepack_py.py:247\u001B[0m, in \u001B[0;36modeint\u001B[1;34m(func, y0, t, args, Dfun, col_deriv, full_output, ml, mu, rtol, atol, tcrit, h0, hmax, hmin, ixpr, mxstep, mxhnil, mxordn, mxords, printmessg, tfirst)\u001B[0m\n\u001B[0;32m    245\u001B[0m t \u001B[38;5;241m=\u001B[39m copy(t)\n\u001B[0;32m    246\u001B[0m y0 \u001B[38;5;241m=\u001B[39m copy(y0)\n\u001B[1;32m--> 247\u001B[0m output \u001B[38;5;241m=\u001B[39m \u001B[43m_odepack\u001B[49m\u001B[38;5;241;43m.\u001B[39;49m\u001B[43modeint\u001B[49m\u001B[43m(\u001B[49m\u001B[43mfunc\u001B[49m\u001B[43m,\u001B[49m\u001B[43m \u001B[49m\u001B[43my0\u001B[49m\u001B[43m,\u001B[49m\u001B[43m \u001B[49m\u001B[43mt\u001B[49m\u001B[43m,\u001B[49m\u001B[43m \u001B[49m\u001B[43margs\u001B[49m\u001B[43m,\u001B[49m\u001B[43m \u001B[49m\u001B[43mDfun\u001B[49m\u001B[43m,\u001B[49m\u001B[43m \u001B[49m\u001B[43mcol_deriv\u001B[49m\u001B[43m,\u001B[49m\u001B[43m \u001B[49m\u001B[43mml\u001B[49m\u001B[43m,\u001B[49m\u001B[43m \u001B[49m\u001B[43mmu\u001B[49m\u001B[43m,\u001B[49m\n\u001B[0;32m    248\u001B[0m \u001B[43m                         \u001B[49m\u001B[43mfull_output\u001B[49m\u001B[43m,\u001B[49m\u001B[43m \u001B[49m\u001B[43mrtol\u001B[49m\u001B[43m,\u001B[49m\u001B[43m \u001B[49m\u001B[43matol\u001B[49m\u001B[43m,\u001B[49m\u001B[43m \u001B[49m\u001B[43mtcrit\u001B[49m\u001B[43m,\u001B[49m\u001B[43m \u001B[49m\u001B[43mh0\u001B[49m\u001B[43m,\u001B[49m\u001B[43m \u001B[49m\u001B[43mhmax\u001B[49m\u001B[43m,\u001B[49m\u001B[43m \u001B[49m\u001B[43mhmin\u001B[49m\u001B[43m,\u001B[49m\n\u001B[0;32m    249\u001B[0m \u001B[43m                         \u001B[49m\u001B[43mixpr\u001B[49m\u001B[43m,\u001B[49m\u001B[43m \u001B[49m\u001B[43mmxstep\u001B[49m\u001B[43m,\u001B[49m\u001B[43m \u001B[49m\u001B[43mmxhnil\u001B[49m\u001B[43m,\u001B[49m\u001B[43m \u001B[49m\u001B[43mmxordn\u001B[49m\u001B[43m,\u001B[49m\u001B[43m \u001B[49m\u001B[43mmxords\u001B[49m\u001B[43m,\u001B[49m\n\u001B[0;32m    250\u001B[0m \u001B[43m                         \u001B[49m\u001B[38;5;28;43mint\u001B[39;49m\u001B[43m(\u001B[49m\u001B[38;5;28;43mbool\u001B[39;49m\u001B[43m(\u001B[49m\u001B[43mtfirst\u001B[49m\u001B[43m)\u001B[49m\u001B[43m)\u001B[49m\u001B[43m)\u001B[49m\n\u001B[0;32m    251\u001B[0m \u001B[38;5;28;01mif\u001B[39;00m output[\u001B[38;5;241m-\u001B[39m\u001B[38;5;241m1\u001B[39m] \u001B[38;5;241m<\u001B[39m \u001B[38;5;241m0\u001B[39m:\n\u001B[0;32m    252\u001B[0m     warning_msg \u001B[38;5;241m=\u001B[39m (\u001B[38;5;124mf\u001B[39m\u001B[38;5;124m\"\u001B[39m\u001B[38;5;132;01m{\u001B[39;00m_msgs[output[\u001B[38;5;241m-\u001B[39m\u001B[38;5;241m1\u001B[39m]]\u001B[38;5;132;01m}\u001B[39;00m\u001B[38;5;124m Run with full_output = 1 to \u001B[39m\u001B[38;5;124m\"\u001B[39m\n\u001B[0;32m    253\u001B[0m                    \u001B[38;5;124mf\u001B[39m\u001B[38;5;124m\"\u001B[39m\u001B[38;5;124mget quantitative information.\u001B[39m\u001B[38;5;124m\"\u001B[39m)\n",
      "\u001B[1;31mValueError\u001B[0m: setting an array element with a sequence. The requested array has an inhomogeneous shape after 1 dimensions. The detected shape was (2,) + inhomogeneous part."
     ]
    }
   ],
   "execution_count": 3
  },
  {
   "metadata": {},
   "cell_type": "code",
   "source": "",
   "id": "ad1dae05ad0b997d",
   "outputs": [],
   "execution_count": null
  }
 ],
 "metadata": {
  "kernelspec": {
   "display_name": "Python 3",
   "language": "python",
   "name": "python3"
  },
  "language_info": {
   "codemirror_mode": {
    "name": "ipython",
    "version": 2
   },
   "file_extension": ".py",
   "mimetype": "text/x-python",
   "name": "python",
   "nbconvert_exporter": "python",
   "pygments_lexer": "ipython2",
   "version": "2.7.6"
  }
 },
 "nbformat": 4,
 "nbformat_minor": 5
}
