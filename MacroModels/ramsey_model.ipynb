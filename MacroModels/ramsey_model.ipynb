{
 "cells": [
  {
   "cell_type": "code",
   "id": "initial_id",
   "metadata": {
    "collapsed": true,
    "ExecuteTime": {
     "end_time": "2024-10-29T13:26:13.812615Z",
     "start_time": "2024-10-29T13:26:12.682705Z"
    }
   },
   "source": [
    "from Finance.UtilityFunctions import CRRA\n",
    "from MacroModels.NeoclassicalModel import RamseyModel\n",
    "from MacroModels.ProductionFunctions import CobbDouglas, CES\n",
    "from MacroModels.ExogenousVariables import ExogenousFunctions\n",
    "from MacroModels.GrowthFunctions import compounded_growth, identity\n",
    "\n",
    "cobb_douglas = CobbDouglas(alpha=0.5)\n",
    "\n",
    "time_horizon = 50\n",
    "\n",
    "starting_pop = 100\n",
    "labor_growth_rate = 0.4\n",
    "labor_growth_function = lambda x: compounded_growth(x, labor_growth_rate)\n",
    "\n",
    "exogenous_variables = ExogenousFunctions(starting_pop=starting_pop, starting_hicks=1, starting_solow=1,\n",
    "                                                 starting_harrods=1, hicks_progress_function=identity,\n",
    "                                                 solow_progress_function=identity, harrods_progress_function=identity,\n",
    "                                                 time_horizon=time_horizon, labor_growth_function=labor_growth_function)\n",
    "\n",
    "crra = CRRA(params=0.5)\n",
    "\n",
    "crra(x=0.3)\n",
    "\n",
    "crra.absolute_risk_aversion(x=100)"
   ],
   "outputs": [
    {
     "data": {
      "text/plain": [
       "np.float64(0.005000000000140102)"
      ]
     },
     "execution_count": 1,
     "metadata": {},
     "output_type": "execute_result"
    }
   ],
   "execution_count": 1
  },
  {
   "metadata": {
    "ExecuteTime": {
     "end_time": "2024-10-29T13:26:13.885486Z",
     "start_time": "2024-10-29T13:26:13.879803Z"
    }
   },
   "cell_type": "code",
   "source": "ramsey_model = RamseyModel(discounting_rate=0.04, depreciation_rate=0.02, starting_capital=100, production_function=cobb_douglas, exogenous_variables=exogenous_variables, utility_function=crra)\n",
   "id": "b443492f3f08b396",
   "outputs": [],
   "execution_count": 2
  },
  {
   "metadata": {
    "ExecuteTime": {
     "end_time": "2024-10-29T13:26:15.150431Z",
     "start_time": "2024-10-29T13:26:14.110333Z"
    }
   },
   "cell_type": "code",
   "source": "ramsey_model()",
   "id": "24e8ebbaec5551c",
   "outputs": [
    {
     "name": "stdout",
     "output_type": "stream",
     "text": [
      "100.0\n",
      "100.00012325413854\n",
      "100.00012402150419\n",
      "100.00024804301316\n",
      "100.00024882488486\n",
      "100.00123090580182\n",
      "100.00123297229928\n",
      "100.00226741848925\n",
      "100.00227183948401\n",
      "100.00336984753412\n",
      "100.00337573683122\n",
      "100.00496797207865\n",
      "100.00497694937334\n",
      "100.00676557488103\n",
      "100.00677246313789\n",
      "100.00882992672756\n",
      "100.00885583826823\n",
      "100.00823953313781\n",
      "100.00824939164053\n",
      "100.00992596925744\n",
      "100.00994234646717\n",
      "100.00960012996005\n",
      "100.00960889484197\n",
      "100.01115957901534\n",
      "100.01117687578599\n",
      "100.01083971409902\n",
      "100.01084859256108\n",
      "100.01226899695993\n",
      "100.01228648563306\n",
      "100.01197216696777\n",
      "100.01198104113956\n",
      "100.01328574876682\n",
      "100.01330388035768\n",
      "100.01300264174888\n",
      "100.01301156180563\n",
      "100.0142059313705\n",
      "100.014224746168\n",
      "100.01393699059372\n",
      "100.01394595158142\n",
      "100.0150359868477\n",
      "100.01505559459936\n",
      "100.0147806636683\n",
      "100.01478966710935\n",
      "100.01578096236958\n",
      "100.0158014763605\n",
      "100.01553901520055\n",
      "100.01554805959933\n",
      "100.01644610426561\n",
      "100.01646766630697\n",
      "100.01621726274156\n",
      "100.01622634535575\n",
      "100.01703648325115\n",
      "100.01705926881654\n",
      "100.0168204954735\n",
      "100.01682961116894\n",
      "100.01755704480092\n",
      "100.01758127528261\n",
      "100.01735367124301\n",
      "100.01736281138054\n",
      "100.01801259372245\n",
      "100.01803855273793\n",
      "100.01782161491937\n",
      "100.01783076549987\n",
      "100.0184077903633\n",
      "100.01843584773638\n",
      "100.0182290160475\n",
      "100.01823815485061\n",
      "100.01874714262767\n",
      "100.01877778994057\n",
      "100.01858042623621\n",
      "100.01858951833808\n",
      "100.01903499545733\n",
      "100.01906889963718\n",
      "100.01888025668796\n",
      "100.01888924746123\n",
      "100.01927551713521\n",
      "100.01931360166984\n",
      "100.01913277745767\n",
      "100.01914158186352\n",
      "100.01947268475492\n",
      "100.01951625015941\n",
      "100.0193433786904\n",
      "100.0193560174736\n",
      "100.01917930704118\n",
      "100.01917948149215\n",
      "100.0192190471077\n",
      "100.01921917056906\n",
      "100.01926077257072\n",
      "100.01926092989072\n",
      "100.0193515507486\n",
      "100.01935217584722\n",
      "100.01945709954077\n",
      "100.01945816852283\n",
      "100.01958570463185\n",
      "100.019589896976\n",
      "100.01976484423766\n",
      "100.01979411908381\n",
      "100.01972242102428\n",
      "100.01973801473757\n",
      "100.01961424123144\n",
      "100.0196144136777\n",
      "100.01964035554691\n",
      "100.01964050105646\n",
      "100.01966830462558\n",
      "100.01966850751963\n",
      "100.01973142743248\n",
      "100.01973252744166\n",
      "100.0198122416189\n",
      "100.01981616868679\n",
      "100.01993552797117\n",
      "100.02005822966463\n",
      "100.0199083935467\n",
      "100.01994040818109\n",
      "100.01983272586634\n",
      "100.01983295631192\n",
      "100.0198511487232\n",
      "100.01985137211679\n",
      "100.01987163949728\n",
      "100.01987201362168\n",
      "100.01992109610502\n",
      "100.0199275656187\n",
      "100.020006455956\n",
      "nan\n"
     ]
    },
    {
     "name": "stderr",
     "output_type": "stream",
     "text": [
      "C:\\Users\\leocr\\Projects\\Economics\\MacroModels\\ProductionFunctions.py:144: RuntimeWarning: invalid value encountered in scalar power\n",
      "  return k ** alpha * l ** (1 - alpha)\n"
     ]
    },
    {
     "ename": "IndexError",
     "evalue": "list index out of range",
     "output_type": "error",
     "traceback": [
      "\u001B[1;31m---------------------------------------------------------------------------\u001B[0m",
      "\u001B[1;31mIndexError\u001B[0m                                Traceback (most recent call last)",
      "Cell \u001B[1;32mIn[3], line 1\u001B[0m\n\u001B[1;32m----> 1\u001B[0m \u001B[43mramsey_model\u001B[49m\u001B[43m(\u001B[49m\u001B[43m)\u001B[49m\n",
      "File \u001B[1;32m~\\Projects\\Economics\\MacroModels\\NeoclassicalModel.py:53\u001B[0m, in \u001B[0;36mRamseyModel.__call__\u001B[1;34m(self)\u001B[0m\n\u001B[0;32m     50\u001B[0m     sol \u001B[38;5;241m=\u001B[39m odeint(equations, x0, \u001B[38;5;28mself\u001B[39m\u001B[38;5;241m.\u001B[39mtime)\n\u001B[0;32m     51\u001B[0m     \u001B[38;5;28;01mreturn\u001B[39;00m sol[:, \u001B[38;5;241m1\u001B[39m][\u001B[38;5;241m-\u001B[39m\u001B[38;5;241m1\u001B[39m] \u001B[38;5;241m-\u001B[39m \u001B[38;5;28mself\u001B[39m\u001B[38;5;241m.\u001B[39mconsumption[\u001B[38;5;241m-\u001B[39m\u001B[38;5;241m1\u001B[39m]\n\u001B[1;32m---> 53\u001B[0m \u001B[38;5;28mself\u001B[39m\u001B[38;5;241m.\u001B[39mconsumption[\u001B[38;5;241m0\u001B[39m] \u001B[38;5;241m=\u001B[39m \u001B[43mroot_scalar\u001B[49m\u001B[43m(\u001B[49m\u001B[43mintegrate\u001B[49m\u001B[43m,\u001B[49m\u001B[43m \u001B[49m\u001B[43mx0\u001B[49m\u001B[38;5;241;43m=\u001B[39;49m\u001B[38;5;241;43m0.01\u001B[39;49m\u001B[43m)\u001B[49m\u001B[38;5;241m.\u001B[39mroot\n\u001B[0;32m     55\u001B[0m \u001B[38;5;28;01mfor\u001B[39;00m t \u001B[38;5;129;01min\u001B[39;00m \u001B[38;5;28mself\u001B[39m\u001B[38;5;241m.\u001B[39mtime[:\u001B[38;5;241m-\u001B[39m\u001B[38;5;241m1\u001B[39m]:\n\u001B[0;32m     56\u001B[0m     \u001B[38;5;28mself\u001B[39m\u001B[38;5;241m.\u001B[39mincome[t] \u001B[38;5;241m=\u001B[39m \u001B[38;5;28mself\u001B[39m\u001B[38;5;241m.\u001B[39mproduction_function([ \u001B[38;5;28mself\u001B[39m\u001B[38;5;241m.\u001B[39mcapital[t], \u001B[38;5;28mself\u001B[39m\u001B[38;5;241m.\u001B[39mlabor[t]])\n",
      "File \u001B[1;32m~\\Projects\\Economics\\.venv\\Lib\\site-packages\\scipy\\optimize\\_root_scalar.py:315\u001B[0m, in \u001B[0;36mroot_scalar\u001B[1;34m(f, args, method, bracket, fprime, fprime2, x0, x1, xtol, rtol, maxiter, options)\u001B[0m\n\u001B[0;32m    313\u001B[0m     \u001B[38;5;28;01mif\u001B[39;00m \u001B[38;5;124m'\u001B[39m\u001B[38;5;124mxtol\u001B[39m\u001B[38;5;124m'\u001B[39m \u001B[38;5;129;01min\u001B[39;00m kwargs:\n\u001B[0;32m    314\u001B[0m         kwargs[\u001B[38;5;124m'\u001B[39m\u001B[38;5;124mtol\u001B[39m\u001B[38;5;124m'\u001B[39m] \u001B[38;5;241m=\u001B[39m kwargs\u001B[38;5;241m.\u001B[39mpop(\u001B[38;5;124m'\u001B[39m\u001B[38;5;124mxtol\u001B[39m\u001B[38;5;124m'\u001B[39m)\n\u001B[1;32m--> 315\u001B[0m     r, sol \u001B[38;5;241m=\u001B[39m \u001B[43mmethodc\u001B[49m\u001B[43m(\u001B[49m\u001B[43mf\u001B[49m\u001B[43m,\u001B[49m\u001B[43m \u001B[49m\u001B[43mx0\u001B[49m\u001B[43m,\u001B[49m\u001B[43m \u001B[49m\u001B[43margs\u001B[49m\u001B[38;5;241;43m=\u001B[39;49m\u001B[43margs\u001B[49m\u001B[43m,\u001B[49m\u001B[43m \u001B[49m\u001B[43mfprime\u001B[49m\u001B[38;5;241;43m=\u001B[39;49m\u001B[43mfprime\u001B[49m\u001B[43m,\u001B[49m\u001B[43m \u001B[49m\u001B[43mfprime2\u001B[49m\u001B[38;5;241;43m=\u001B[39;49m\u001B[38;5;28;43;01mNone\u001B[39;49;00m\u001B[43m,\u001B[49m\n\u001B[0;32m    316\u001B[0m \u001B[43m                     \u001B[49m\u001B[38;5;241;43m*\u001B[39;49m\u001B[38;5;241;43m*\u001B[39;49m\u001B[43mkwargs\u001B[49m\u001B[43m)\u001B[49m\n\u001B[0;32m    317\u001B[0m \u001B[38;5;28;01melif\u001B[39;00m meth \u001B[38;5;129;01min\u001B[39;00m [\u001B[38;5;124m'\u001B[39m\u001B[38;5;124mhalley\u001B[39m\u001B[38;5;124m'\u001B[39m]:\n\u001B[0;32m    318\u001B[0m     \u001B[38;5;28;01mif\u001B[39;00m x0 \u001B[38;5;129;01mis\u001B[39;00m \u001B[38;5;28;01mNone\u001B[39;00m:\n",
      "File \u001B[1;32m~\\Projects\\Economics\\.venv\\Lib\\site-packages\\scipy\\optimize\\_zeros_py.py:308\u001B[0m, in \u001B[0;36mnewton\u001B[1;34m(func, x0, fprime, args, tol, maxiter, fprime2, x1, rtol, full_output, disp)\u001B[0m\n\u001B[0;32m    305\u001B[0m method \u001B[38;5;241m=\u001B[39m \u001B[38;5;124m\"\u001B[39m\u001B[38;5;124mnewton\u001B[39m\u001B[38;5;124m\"\u001B[39m\n\u001B[0;32m    306\u001B[0m \u001B[38;5;28;01mfor\u001B[39;00m itr \u001B[38;5;129;01min\u001B[39;00m \u001B[38;5;28mrange\u001B[39m(maxiter):\n\u001B[0;32m    307\u001B[0m     \u001B[38;5;66;03m# first evaluate fval\u001B[39;00m\n\u001B[1;32m--> 308\u001B[0m     fval \u001B[38;5;241m=\u001B[39m \u001B[43mfunc\u001B[49m\u001B[43m(\u001B[49m\u001B[43mp0\u001B[49m\u001B[43m,\u001B[49m\u001B[43m \u001B[49m\u001B[38;5;241;43m*\u001B[39;49m\u001B[43margs\u001B[49m\u001B[43m)\u001B[49m\n\u001B[0;32m    309\u001B[0m     funcalls \u001B[38;5;241m+\u001B[39m\u001B[38;5;241m=\u001B[39m \u001B[38;5;241m1\u001B[39m\n\u001B[0;32m    310\u001B[0m     \u001B[38;5;66;03m# If fval is 0, a root has been found, then terminate\u001B[39;00m\n",
      "File \u001B[1;32m~\\Projects\\Economics\\MacroModels\\NeoclassicalModel.py:50\u001B[0m, in \u001B[0;36mRamseyModel.__call__.<locals>.integrate\u001B[1;34m(c_0_guess)\u001B[0m\n\u001B[0;32m     48\u001B[0m \u001B[38;5;28;01mdef\u001B[39;00m \u001B[38;5;21mintegrate\u001B[39m(c_0_guess):\n\u001B[0;32m     49\u001B[0m     x0 \u001B[38;5;241m=\u001B[39m [\u001B[38;5;28mself\u001B[39m\u001B[38;5;241m.\u001B[39mstarting_capital, c_0_guess]\n\u001B[1;32m---> 50\u001B[0m     sol \u001B[38;5;241m=\u001B[39m \u001B[43modeint\u001B[49m\u001B[43m(\u001B[49m\u001B[43mequations\u001B[49m\u001B[43m,\u001B[49m\u001B[43m \u001B[49m\u001B[43mx0\u001B[49m\u001B[43m,\u001B[49m\u001B[43m \u001B[49m\u001B[38;5;28;43mself\u001B[39;49m\u001B[38;5;241;43m.\u001B[39;49m\u001B[43mtime\u001B[49m\u001B[43m)\u001B[49m\n\u001B[0;32m     51\u001B[0m     \u001B[38;5;28;01mreturn\u001B[39;00m sol[:, \u001B[38;5;241m1\u001B[39m][\u001B[38;5;241m-\u001B[39m\u001B[38;5;241m1\u001B[39m] \u001B[38;5;241m-\u001B[39m \u001B[38;5;28mself\u001B[39m\u001B[38;5;241m.\u001B[39mconsumption[\u001B[38;5;241m-\u001B[39m\u001B[38;5;241m1\u001B[39m]\n",
      "File \u001B[1;32m~\\Projects\\Economics\\.venv\\Lib\\site-packages\\scipy\\integrate\\_odepack_py.py:247\u001B[0m, in \u001B[0;36modeint\u001B[1;34m(func, y0, t, args, Dfun, col_deriv, full_output, ml, mu, rtol, atol, tcrit, h0, hmax, hmin, ixpr, mxstep, mxhnil, mxordn, mxords, printmessg, tfirst)\u001B[0m\n\u001B[0;32m    245\u001B[0m t \u001B[38;5;241m=\u001B[39m copy(t)\n\u001B[0;32m    246\u001B[0m y0 \u001B[38;5;241m=\u001B[39m copy(y0)\n\u001B[1;32m--> 247\u001B[0m output \u001B[38;5;241m=\u001B[39m \u001B[43m_odepack\u001B[49m\u001B[38;5;241;43m.\u001B[39;49m\u001B[43modeint\u001B[49m\u001B[43m(\u001B[49m\u001B[43mfunc\u001B[49m\u001B[43m,\u001B[49m\u001B[43m \u001B[49m\u001B[43my0\u001B[49m\u001B[43m,\u001B[49m\u001B[43m \u001B[49m\u001B[43mt\u001B[49m\u001B[43m,\u001B[49m\u001B[43m \u001B[49m\u001B[43margs\u001B[49m\u001B[43m,\u001B[49m\u001B[43m \u001B[49m\u001B[43mDfun\u001B[49m\u001B[43m,\u001B[49m\u001B[43m \u001B[49m\u001B[43mcol_deriv\u001B[49m\u001B[43m,\u001B[49m\u001B[43m \u001B[49m\u001B[43mml\u001B[49m\u001B[43m,\u001B[49m\u001B[43m \u001B[49m\u001B[43mmu\u001B[49m\u001B[43m,\u001B[49m\n\u001B[0;32m    248\u001B[0m \u001B[43m                         \u001B[49m\u001B[43mfull_output\u001B[49m\u001B[43m,\u001B[49m\u001B[43m \u001B[49m\u001B[43mrtol\u001B[49m\u001B[43m,\u001B[49m\u001B[43m \u001B[49m\u001B[43matol\u001B[49m\u001B[43m,\u001B[49m\u001B[43m \u001B[49m\u001B[43mtcrit\u001B[49m\u001B[43m,\u001B[49m\u001B[43m \u001B[49m\u001B[43mh0\u001B[49m\u001B[43m,\u001B[49m\u001B[43m \u001B[49m\u001B[43mhmax\u001B[49m\u001B[43m,\u001B[49m\u001B[43m \u001B[49m\u001B[43mhmin\u001B[49m\u001B[43m,\u001B[49m\n\u001B[0;32m    249\u001B[0m \u001B[43m                         \u001B[49m\u001B[43mixpr\u001B[49m\u001B[43m,\u001B[49m\u001B[43m \u001B[49m\u001B[43mmxstep\u001B[49m\u001B[43m,\u001B[49m\u001B[43m \u001B[49m\u001B[43mmxhnil\u001B[49m\u001B[43m,\u001B[49m\u001B[43m \u001B[49m\u001B[43mmxordn\u001B[49m\u001B[43m,\u001B[49m\u001B[43m \u001B[49m\u001B[43mmxords\u001B[49m\u001B[43m,\u001B[49m\n\u001B[0;32m    250\u001B[0m \u001B[43m                         \u001B[49m\u001B[38;5;28;43mint\u001B[39;49m\u001B[43m(\u001B[49m\u001B[38;5;28;43mbool\u001B[39;49m\u001B[43m(\u001B[49m\u001B[43mtfirst\u001B[49m\u001B[43m)\u001B[49m\u001B[43m)\u001B[49m\u001B[43m)\u001B[49m\n\u001B[0;32m    251\u001B[0m \u001B[38;5;28;01mif\u001B[39;00m output[\u001B[38;5;241m-\u001B[39m\u001B[38;5;241m1\u001B[39m] \u001B[38;5;241m<\u001B[39m \u001B[38;5;241m0\u001B[39m:\n\u001B[0;32m    252\u001B[0m     warning_msg \u001B[38;5;241m=\u001B[39m (\u001B[38;5;124mf\u001B[39m\u001B[38;5;124m\"\u001B[39m\u001B[38;5;132;01m{\u001B[39;00m_msgs[output[\u001B[38;5;241m-\u001B[39m\u001B[38;5;241m1\u001B[39m]]\u001B[38;5;132;01m}\u001B[39;00m\u001B[38;5;124m Run with full_output = 1 to \u001B[39m\u001B[38;5;124m\"\u001B[39m\n\u001B[0;32m    253\u001B[0m                    \u001B[38;5;124mf\u001B[39m\u001B[38;5;124m\"\u001B[39m\u001B[38;5;124mget quantitative information.\u001B[39m\u001B[38;5;124m\"\u001B[39m)\n",
      "File \u001B[1;32m~\\Projects\\Economics\\MacroModels\\NeoclassicalModel.py:43\u001B[0m, in \u001B[0;36mRamseyModel.__call__.<locals>.equations\u001B[1;34m(x, t)\u001B[0m\n\u001B[0;32m     41\u001B[0m w \u001B[38;5;241m=\u001B[39m approx_fprime(np\u001B[38;5;241m.\u001B[39marray([k, labor_function(t)]), \u001B[38;5;28mself\u001B[39m\u001B[38;5;241m.\u001B[39mproduction_function)[\u001B[38;5;241m1\u001B[39m]\n\u001B[0;32m     42\u001B[0m \u001B[38;5;28mprint\u001B[39m(c)\n\u001B[1;32m---> 43\u001B[0m e \u001B[38;5;241m=\u001B[39m  \u001B[38;5;28;43mself\u001B[39;49m\u001B[38;5;241;43m.\u001B[39;49m\u001B[43mutility_function\u001B[49m\u001B[38;5;241;43m.\u001B[39;49m\u001B[43mabsolute_risk_aversion\u001B[49m\u001B[43m(\u001B[49m\u001B[38;5;28;43mfloat\u001B[39;49m\u001B[43m(\u001B[49m\u001B[43mc\u001B[49m\u001B[43m)\u001B[49m\u001B[43m)\u001B[49m \u001B[38;5;241m*\u001B[39m c  \u001B[38;5;66;03m# elasticity of substitution\u001B[39;00m\n\u001B[0;32m     44\u001B[0m dc_dt \u001B[38;5;241m=\u001B[39m (r \u001B[38;5;241m-\u001B[39m \u001B[38;5;28mself\u001B[39m\u001B[38;5;241m.\u001B[39mdepreciation_rate) \u001B[38;5;241m*\u001B[39m c \u001B[38;5;241m/\u001B[39m e\n\u001B[0;32m     45\u001B[0m dk_dt \u001B[38;5;241m=\u001B[39m r\u001B[38;5;241m*\u001B[39mk\u001B[38;5;241m+\u001B[39m(w\u001B[38;5;241m-\u001B[39mc)\u001B[38;5;241m*\u001B[39mlabor_function(t)\n",
      "File \u001B[1;32m~\\Projects\\Economics\\Finance\\UtilityFunctions.py:54\u001B[0m, in \u001B[0;36mUtilityFunction.absolute_risk_aversion\u001B[1;34m(self, x)\u001B[0m\n\u001B[0;32m     40\u001B[0m \u001B[38;5;28;01mdef\u001B[39;00m \u001B[38;5;21mabsolute_risk_aversion\u001B[39m(\u001B[38;5;28mself\u001B[39m, x):\n\u001B[0;32m     41\u001B[0m \u001B[38;5;250m    \u001B[39m\u001B[38;5;124;03m\"\"\"\u001B[39;00m\n\u001B[0;32m     42\u001B[0m \u001B[38;5;124;03m    Calculate the arrow-pratt measure of absolute risk aversion of the utility function at the given value of x.\u001B[39;00m\n\u001B[0;32m     43\u001B[0m \n\u001B[1;32m   (...)\u001B[0m\n\u001B[0;32m     52\u001B[0m \u001B[38;5;124;03m        The absolute risk aversion of the utility function at x.\u001B[39;00m\n\u001B[0;32m     53\u001B[0m \u001B[38;5;124;03m    \"\"\"\u001B[39;00m\n\u001B[1;32m---> 54\u001B[0m     \u001B[38;5;28;01mreturn\u001B[39;00m \u001B[38;5;241m-\u001B[39m \u001B[43mnd\u001B[49m\u001B[38;5;241;43m.\u001B[39;49m\u001B[43mDerivative\u001B[49m\u001B[43m(\u001B[49m\u001B[38;5;28;43mself\u001B[39;49m\u001B[43m,\u001B[49m\u001B[43m \u001B[49m\u001B[43mn\u001B[49m\u001B[38;5;241;43m=\u001B[39;49m\u001B[38;5;241;43m2\u001B[39;49m\u001B[43m)\u001B[49m\u001B[43m(\u001B[49m\u001B[43mx\u001B[49m\u001B[43m)\u001B[49m\u001B[38;5;241m/\u001B[39mnd\u001B[38;5;241m.\u001B[39mDerivative(\u001B[38;5;28mself\u001B[39m, n\u001B[38;5;241m=\u001B[39m\u001B[38;5;241m1\u001B[39m)(x)\n",
      "File \u001B[1;32m~\\Projects\\Economics\\.venv\\Lib\\site-packages\\numdifftools\\core.py:288\u001B[0m, in \u001B[0;36mDerivative.__call__\u001B[1;34m(self, x, *args, **kwds)\u001B[0m\n\u001B[0;32m    286\u001B[0m x_i \u001B[38;5;241m=\u001B[39m np\u001B[38;5;241m.\u001B[39masarray(x)\n\u001B[0;32m    287\u001B[0m \u001B[38;5;28;01mwith\u001B[39;00m np\u001B[38;5;241m.\u001B[39merrstate(divide\u001B[38;5;241m=\u001B[39m\u001B[38;5;124m'\u001B[39m\u001B[38;5;124mignore\u001B[39m\u001B[38;5;124m'\u001B[39m, invalid\u001B[38;5;241m=\u001B[39m\u001B[38;5;124m'\u001B[39m\u001B[38;5;124mignore\u001B[39m\u001B[38;5;124m'\u001B[39m):\n\u001B[1;32m--> 288\u001B[0m     results, f_xi \u001B[38;5;241m=\u001B[39m \u001B[38;5;28;43mself\u001B[39;49m\u001B[38;5;241;43m.\u001B[39;49m\u001B[43m_derivative\u001B[49m\u001B[43m(\u001B[49m\u001B[43mx_i\u001B[49m\u001B[43m,\u001B[49m\u001B[43m \u001B[49m\u001B[43margs\u001B[49m\u001B[43m,\u001B[49m\u001B[43m \u001B[49m\u001B[43mkwds\u001B[49m\u001B[43m)\u001B[49m\n\u001B[0;32m    289\u001B[0m     derivative, info \u001B[38;5;241m=\u001B[39m \u001B[38;5;28mself\u001B[39m\u001B[38;5;241m.\u001B[39m_extrapolate(\u001B[38;5;241m*\u001B[39mresults)\n\u001B[0;32m    290\u001B[0m \u001B[38;5;28;01mif\u001B[39;00m \u001B[38;5;28mself\u001B[39m\u001B[38;5;241m.\u001B[39mfull_output:\n",
      "File \u001B[1;32m~\\Projects\\Economics\\.venv\\Lib\\site-packages\\numdifftools\\core.py:242\u001B[0m, in \u001B[0;36mDerivative._derivative_nonzero_order\u001B[1;34m(self, x_i, args, kwds)\u001B[0m\n\u001B[0;32m    238\u001B[0m results \u001B[38;5;241m=\u001B[39m [diff(f, fxi, x_i, h) \u001B[38;5;28;01mfor\u001B[39;00m h \u001B[38;5;129;01min\u001B[39;00m steps]\n\u001B[0;32m    240\u001B[0m \u001B[38;5;28mself\u001B[39m\u001B[38;5;241m.\u001B[39mset_richardson_rule(step_ratio, \u001B[38;5;28mself\u001B[39m\u001B[38;5;241m.\u001B[39mrichardson_terms)\n\u001B[1;32m--> 242\u001B[0m \u001B[38;5;28;01mreturn\u001B[39;00m \u001B[38;5;28;43mself\u001B[39;49m\u001B[38;5;241;43m.\u001B[39;49m\u001B[43mfd_rule\u001B[49m\u001B[38;5;241;43m.\u001B[39;49m\u001B[43mapply\u001B[49m\u001B[43m(\u001B[49m\u001B[43mresults\u001B[49m\u001B[43m,\u001B[49m\u001B[43m \u001B[49m\u001B[43msteps\u001B[49m\u001B[43m,\u001B[49m\u001B[43m \u001B[49m\u001B[43mstep_ratio\u001B[49m\u001B[43m)\u001B[49m, fxi\n",
      "File \u001B[1;32m~\\Projects\\Economics\\.venv\\Lib\\site-packages\\numdifftools\\finite_difference.py:583\u001B[0m, in \u001B[0;36mLogRule.apply\u001B[1;34m(self, sequence, steps, step_ratio)\u001B[0m\n\u001B[0;32m    571\u001B[0m \u001B[38;5;28;01mdef\u001B[39;00m \u001B[38;5;21mapply\u001B[39m(\u001B[38;5;28mself\u001B[39m, sequence, steps, step_ratio\u001B[38;5;241m=\u001B[39m\u001B[38;5;241m2.0\u001B[39m):\n\u001B[0;32m    572\u001B[0m \u001B[38;5;250m    \u001B[39m\u001B[38;5;124;03m\"\"\"\u001B[39;00m\n\u001B[0;32m    573\u001B[0m \u001B[38;5;124;03m    Apply finite difference rule along the first axis.\u001B[39;00m\n\u001B[0;32m    574\u001B[0m \n\u001B[1;32m   (...)\u001B[0m\n\u001B[0;32m    581\u001B[0m \n\u001B[0;32m    582\u001B[0m \u001B[38;5;124;03m    \"\"\"\u001B[39;00m\n\u001B[1;32m--> 583\u001B[0m     f_del, h, original_shape \u001B[38;5;241m=\u001B[39m \u001B[38;5;28;43mself\u001B[39;49m\u001B[38;5;241;43m.\u001B[39;49m\u001B[43m_vstack\u001B[49m\u001B[43m(\u001B[49m\u001B[43msequence\u001B[49m\u001B[43m,\u001B[49m\u001B[43m \u001B[49m\u001B[43msteps\u001B[49m\u001B[43m)\u001B[49m\n\u001B[0;32m    584\u001B[0m     der_init, h \u001B[38;5;241m=\u001B[39m \u001B[38;5;28mself\u001B[39m\u001B[38;5;241m.\u001B[39m_apply(f_del, h, step_ratio)\n\u001B[0;32m    585\u001B[0m     \u001B[38;5;28;01mreturn\u001B[39;00m der_init, h, original_shape\n",
      "File \u001B[1;32m~\\Projects\\Economics\\.venv\\Lib\\site-packages\\numdifftools\\finite_difference.py:563\u001B[0m, in \u001B[0;36mLogRule._vstack\u001B[1;34m(sequence, steps)\u001B[0m\n\u001B[0;32m    561\u001B[0m \u001B[38;5;129m@staticmethod\u001B[39m\n\u001B[0;32m    562\u001B[0m \u001B[38;5;28;01mdef\u001B[39;00m \u001B[38;5;21m_vstack\u001B[39m(sequence, steps):\n\u001B[1;32m--> 563\u001B[0m     original_shape \u001B[38;5;241m=\u001B[39m np\u001B[38;5;241m.\u001B[39mshape(\u001B[43msequence\u001B[49m\u001B[43m[\u001B[49m\u001B[38;5;241;43m0\u001B[39;49m\u001B[43m]\u001B[49m)\n\u001B[0;32m    564\u001B[0m     f_del \u001B[38;5;241m=\u001B[39m np\u001B[38;5;241m.\u001B[39mvstack([np\u001B[38;5;241m.\u001B[39mravel(r) \u001B[38;5;28;01mfor\u001B[39;00m r \u001B[38;5;129;01min\u001B[39;00m sequence])\n\u001B[0;32m    565\u001B[0m     one \u001B[38;5;241m=\u001B[39m np\u001B[38;5;241m.\u001B[39mones(original_shape)\n",
      "\u001B[1;31mIndexError\u001B[0m: list index out of range"
     ]
    }
   ],
   "execution_count": 3
  },
  {
   "metadata": {},
   "cell_type": "code",
   "source": "",
   "id": "ad1dae05ad0b997d",
   "outputs": [],
   "execution_count": null
  }
 ],
 "metadata": {
  "kernelspec": {
   "display_name": "Python 3",
   "language": "python",
   "name": "python3"
  },
  "language_info": {
   "codemirror_mode": {
    "name": "ipython",
    "version": 2
   },
   "file_extension": ".py",
   "mimetype": "text/x-python",
   "name": "python",
   "nbconvert_exporter": "python",
   "pygments_lexer": "ipython2",
   "version": "2.7.6"
  }
 },
 "nbformat": 4,
 "nbformat_minor": 5
}
