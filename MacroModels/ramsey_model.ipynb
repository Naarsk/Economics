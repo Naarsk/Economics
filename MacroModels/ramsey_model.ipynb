{
 "cells": [
  {
   "cell_type": "code",
   "id": "initial_id",
   "metadata": {
    "collapsed": true
   },
   "source": [
    "from Finance.UtilityFunctions import CRRA\n",
    "from MacroModels.NeoclassicalModel import RamseyModel\n",
    "from MacroModels.ProductionFunctions import CobbDouglas, CES\n",
    "from MacroModels.ExogenousVariables import ExogenousFunctions\n",
    "from MacroModels.GrowthFunctions import compounded_growth, identity\n",
    "\n",
    "cobb_douglas = CobbDouglas(alpha=0.5)\n",
    "\n",
    "time_horizon = 5\n",
    "\n",
    "starting_pop = 100\n",
    "labor_growth_rate = 0.4\n",
    "labor_growth_function = lambda x: compounded_growth(x, labor_growth_rate)\n",
    "\n",
    "exogenous_variables = ExogenousFunctions(starting_pop=starting_pop, starting_hicks=1, starting_solow=1,\n",
    "                                                 starting_harrods=1, hicks_progress_function=identity,\n",
    "                                                 solow_progress_function=identity, harrods_progress_function=identity,\n",
    "                                                 time_horizon=time_horizon, labor_growth_function=labor_growth_function)\n",
    "\n",
    "crra = CRRA(params=0.5)\n",
    "\n",
    "crra(x=0.3)\n",
    "\n",
    "crra.absolute_risk_aversion(x=100)"
   ],
   "outputs": [],
   "execution_count": null
  },
  {
   "metadata": {},
   "cell_type": "code",
   "source": "ramsey_model = RamseyModel(discounting_rate=0.04, depreciation_rate=0.02, starting_capital=100, production_function=cobb_douglas, exogenous_variables=exogenous_variables, utility_function=crra)\n",
   "id": "b443492f3f08b396",
   "outputs": [],
   "execution_count": null
  },
  {
   "metadata": {},
   "cell_type": "code",
   "source": "ramsey_model()",
   "id": "24e8ebbaec5551c",
   "outputs": [],
   "execution_count": null
  }
 ],
 "metadata": {
  "kernelspec": {
   "display_name": "Python 3",
   "language": "python",
   "name": "python3"
  },
  "language_info": {
   "codemirror_mode": {
    "name": "ipython",
    "version": 2
   },
   "file_extension": ".py",
   "mimetype": "text/x-python",
   "name": "python",
   "nbconvert_exporter": "python",
   "pygments_lexer": "ipython2",
   "version": "2.7.6"
  }
 },
 "nbformat": 4,
 "nbformat_minor": 5
}
