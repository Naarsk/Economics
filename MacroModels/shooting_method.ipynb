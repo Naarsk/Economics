{
 "cells": [
  {
   "cell_type": "code",
   "id": "initial_id",
   "metadata": {
    "collapsed": true
   },
   "source": [
    "import numpy as np\n",
    "from scipy.integrate import odeint\n",
    "from scipy.optimize import root_scalar\n",
    "\n",
    "# Define the system of differential equations\n",
    "def equations(y, x):\n",
    "    y1, y2 = y\n",
    "    dy1dx = -y1 + y2 + x\n",
    "    dy2dx = y1 - 2*y2\n",
    "    return [dy1dx, dy2dx]\n",
    "\n",
    "# Define the initial condition for y1\n",
    "y10 = 1.0\n",
    "\n",
    "# Define the terminal condition for y2\n",
    "y20 = 0.5\n",
    "\n",
    "# Define the interval of integration\n",
    "x = np.linspace(0, 1, 100)\n",
    "\n",
    "# Define the function to integrate the system of differential equations\n",
    "def integrate(y20_guess):\n",
    "    y0 = [y10, y20_guess]\n",
    "    sol = odeint(equations, y0, x)\n",
    "    return sol[:, 1][-1] - y20\n",
    "\n",
    "# Use the root_scalar function to find the correct initial condition for y2\n",
    "sol = root_scalar(integrate, bracket=[-10, 10], method='brentq')\n",
    "\n",
    "# Print the solution\n",
    "print(\"The correct initial condition for y2 is:\", sol.root)\n",
    "\n",
    "# Integrate the system of differential equations with the correct initial condition\n",
    "y0 = [y10, sol.root]\n",
    "sol = odeint(equations, y0, x)\n",
    "\n",
    "# Plot the solution\n",
    "import matplotlib.pyplot as plt\n",
    "plt.plot(x, sol[:, 0], label='y1')\n",
    "plt.plot(x, sol[:, 1], label='y2')\n",
    "plt.xlabel('x')\n",
    "plt.ylabel('y')\n",
    "plt.legend()\n",
    "plt.show()"
   ],
   "outputs": [],
   "execution_count": null
  },
  {
   "metadata": {},
   "cell_type": "code",
   "source": [
    "import numpy as np\n",
    "def fun(x, y):\n",
    "    return np.vstack((y[1], -np.exp(y[0])))"
   ],
   "id": "87c009903de49d13",
   "outputs": [],
   "execution_count": null
  },
  {
   "metadata": {},
   "cell_type": "code",
   "source": [
    "def bc(ya, yb):\n",
    "    return np.array([ya[0], yb[0]])"
   ],
   "id": "45436213535b1a86",
   "outputs": [],
   "execution_count": null
  },
  {
   "metadata": {},
   "cell_type": "code",
   "source": "x = np.linspace(0, 1, 5)\n",
   "id": "622cc0d734000ce0",
   "outputs": [],
   "execution_count": null
  },
  {
   "metadata": {},
   "cell_type": "code",
   "source": [
    "y_a = np.zeros((2, x.size))\n",
    "y_b = np.zeros((2, x.size))\n",
    "y_b[0] = 3"
   ],
   "id": "842ea65cd855f0a7",
   "outputs": [],
   "execution_count": null
  },
  {
   "metadata": {},
   "cell_type": "code",
   "source": [
    "from scipy.integrate import solve_bvp\n",
    "res_a = solve_bvp(fun, bc, x, y_a)\n",
    "res_b = solve_bvp(fun, bc, x, y_b)"
   ],
   "id": "e07989527cd5672c",
   "outputs": [],
   "execution_count": null
  },
  {
   "metadata": {},
   "cell_type": "code",
   "source": [
    "x_plot = np.linspace(0, 1, 100)\n",
    "y_plot_a = res_a.sol(x_plot)[0]\n",
    "y_plot_b = res_b.sol(x_plot)[0]\n",
    "import matplotlib.pyplot as plt\n",
    "plt.plot(x_plot, y_plot_a, label='y_a')\n",
    "plt.plot(x_plot, y_plot_b, label='y_b')\n",
    "plt.legend()\n",
    "plt.xlabel(\"x\")\n",
    "plt.ylabel(\"y\")\n",
    "plt.show()"
   ],
   "id": "ce89cd5ca953d4aa",
   "outputs": [],
   "execution_count": null
  },
  {
   "metadata": {},
   "cell_type": "code",
   "source": [
    "from MacroModels.ProductionFunctions import CobbDouglas\n",
    "from Finance.UtilityFunctions import CRRA\n",
    "import numpy as np\n",
    "from scipy.integrate import solve_bvp\n",
    "\n",
    "l0=100\n",
    "n=0.04\n",
    "depreciation_rate = 0.1\n",
    "discounting_rate = 0.08\n",
    "\n",
    "utility_function = CRRA(params=2)\n",
    "production_function = CobbDouglas(alpha=0.3)\n",
    "\n",
    "def labor_function(t):\n",
    "    return l0*np.exp(n*t)\n",
    "\n",
    "# Define the function that returns the derivatives\n",
    "def fun(t, y):\n",
    "    k, c = y\n",
    "    l = labor_function(t)\n",
    "\n",
    "    r = production_function.gradient([k, l])[0] - depreciation_rate # rate of return\n",
    "    w = production_function.gradient([k, l])[1]  # wage\n",
    "    e = utility_function.absolute_risk_aversion(c) * c  # elasticity of substitution\n",
    "\n",
    "    # print(pd.DataFrame({'k': k, 'c': c, 'l': l, 'r': r, 'w': w, 'e': e}))\n",
    "\n",
    "    dc_dt = (r - discounting_rate) * c / e\n",
    "    dk_dt = r * k + (w - c) * l\n",
    "\n",
    "    return [dk_dt, dc_dt]\n",
    "\n",
    "# Define the boundary conditions\n",
    "def bc(ya, yb, c_t_max):\n",
    "    return np.array([ya[0] -100,  # k(0) = 1\n",
    "                     yb[1] - c_t_max])  # c(T_max) = 1\n",
    "\n",
    "# Define the initial guess for the solution\n",
    "def init_guess(t):\n",
    "    return np.zeros((2, len(t))) + 1.0  # initial guess for k and c\n",
    "\n",
    "# Define the time points where the solution is desired\n",
    "T_max = 10\n",
    "t = np.linspace(0, T_max, 10000)\n",
    "\n",
    "# Set the value of c(T_max)\n",
    "c_T_max = 0.0  # or 100.0, or any other value you want\n",
    "\n",
    "# Solve the boundary value problem\n",
    "sol = solve_bvp(fun, lambda ya, yb: bc(ya, yb, c_T_max), t, init_guess(t))\n",
    "\n",
    "# Print the solution at the desired time points\n",
    "print(sol.sol(t))"
   ],
   "id": "8bba6308d29570dc",
   "outputs": [],
   "execution_count": null
  },
  {
   "metadata": {},
   "cell_type": "code",
   "source": [
    "k, c = sol.sol(t)\n",
    "import matplotlib.pyplot as plt\n",
    "#plt.plot(t, k, label='k')\n",
    "plt.plot(t, c, label='c')\n",
    "plt.xlabel('t')\n",
    "plt.ylabel('y')\n",
    "plt.legend()\n"
   ],
   "id": "1c2551df3e2671f8",
   "outputs": [],
   "execution_count": null
  }
 ],
 "metadata": {
  "kernelspec": {
   "display_name": "Python 3",
   "language": "python",
   "name": "python3"
  },
  "language_info": {
   "codemirror_mode": {
    "name": "ipython",
    "version": 2
   },
   "file_extension": ".py",
   "mimetype": "text/x-python",
   "name": "python",
   "nbconvert_exporter": "python",
   "pygments_lexer": "ipython2",
   "version": "2.7.6"
  }
 },
 "nbformat": 4,
 "nbformat_minor": 5
}
