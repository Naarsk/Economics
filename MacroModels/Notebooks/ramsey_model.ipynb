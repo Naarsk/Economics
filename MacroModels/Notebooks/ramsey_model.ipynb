{
 "cells": [
  {
   "cell_type": "code",
   "id": "initial_id",
   "metadata": {
    "collapsed": true
   },
   "source": [
    "from Finance.UtilityFunctions import CRRA\n",
    "from MacroModels.NeoclassicalModel import RamseyModel\n",
    "from MacroModels.ProductionFunctions import CobbDouglas\n",
    "from MacroModels.ExogenousVariables import ExogenousFunctions\n",
    "from MacroModels.GrowthFunctions import compounded_growth, identity\n",
    "\n",
    "cobb_douglas = CobbDouglas(alpha=0.3)\n",
    "\n",
    "time_horizon = 3\n",
    "\n",
    "starting_pop = 100\n",
    "labor_growth_rate = 0.04\n",
    "labor_growth_function = lambda x: compounded_growth(x, labor_growth_rate)\n",
    "\n",
    "exogenous_variables = ExogenousFunctions(starting_pop=starting_pop, starting_hicks=1, starting_solow=1,\n",
    "                                                 starting_harrods=1, hicks_progress_function=identity,\n",
    "                                                 solow_progress_function=identity, harrods_progress_function=identity,\n",
    "                                                 time_horizon=time_horizon, labor_growth_function=labor_growth_function)\n",
    "\n",
    "utility_function = CRRA(params=2)\n",
    "\n",
    "utility_function(x=0.35)\n",
    "\n",
    "utility_function.absolute_risk_aversion(x=10)"
   ],
   "outputs": [],
   "execution_count": null
  },
  {
   "metadata": {},
   "cell_type": "code",
   "source": [
    "def f(x,a):\n",
    "    return x**2+a**2\n",
    "\n",
    "def g(x,a):\n",
    "    return x*0.9 + a*0.1\n",
    "\n",
    "# V(x) = max_a (f(x,a) + 0.9*V(g(x,a)))\n"
   ],
   "id": "54b0e122fbe5f425",
   "outputs": [],
   "execution_count": null
  },
  {
   "metadata": {},
   "cell_type": "code",
   "outputs": [],
   "execution_count": null,
   "source": "",
   "id": "d2c0d22569149e7b"
  },
  {
   "metadata": {},
   "cell_type": "code",
   "outputs": [],
   "execution_count": null,
   "source": "",
   "id": "132ac95ec507e04a"
  }
 ],
 "metadata": {
  "kernelspec": {
   "display_name": "Python 3",
   "language": "python",
   "name": "python3"
  },
  "language_info": {
   "codemirror_mode": {
    "name": "ipython",
    "version": 2
   },
   "file_extension": ".py",
   "mimetype": "text/x-python",
   "name": "python",
   "nbconvert_exporter": "python",
   "pygments_lexer": "ipython2",
   "version": "2.7.6"
  }
 },
 "nbformat": 4,
 "nbformat_minor": 5
}
