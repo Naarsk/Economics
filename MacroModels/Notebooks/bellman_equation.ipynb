{
 "cells": [
  {
   "cell_type": "code",
   "id": "initial_id",
   "metadata": {
    "collapsed": true,
    "ExecuteTime": {
     "end_time": "2024-10-27T08:49:51.627431Z",
     "start_time": "2024-10-27T08:49:51.620845Z"
    }
   },
   "source": [
    "import numpy as np\n",
    "\n",
    "def bellman_equation(Q, A, B, x0, u, T):\n",
    "    \"\"\"\n",
    "    Q: cost matrix\n",
    "    A: state transition matrix\n",
    "    B: control input matrix\n",
    "    x0: initial state\n",
    "    u: control input sequence\n",
    "    T: time horizon\n",
    "    \"\"\"\n",
    "    N = Q.shape[0]\n",
    "    x = np.zeros((N, T+1))\n",
    "    c = np.zeros(T)\n",
    "    for t in range(T):\n",
    "        x[:, t] = A @ x[:, t-1] + B @ u[:, t]\n",
    "    c[t] = np.sum(Q @ x[:, t]) + np.sum(u[:, t].T @ B.T @ Q @ x[:, t]) + np.sum(u[:, t].T @ B.T @ B @ u[:, t])\n",
    "    return c, x"
   ],
   "outputs": [],
   "execution_count": 3
  },
  {
   "metadata": {
    "ExecuteTime": {
     "end_time": "2024-10-27T08:49:52.897913Z",
     "start_time": "2024-10-27T08:49:52.889570Z"
    }
   },
   "cell_type": "code",
   "source": [
    "import numpy as np\n",
    "\n",
    "# Define the revenue matrices for each year\n",
    "Q1 = np.array([[200, 0], [0, 180]])\n",
    "Q2 = np.array([[220, 0], [0, 200]])\n",
    "Q3 = np.array([[240, 0], [0, 220]])\n",
    "\n",
    "# Define the state transition matrix (identity matrix)\n",
    "A = np.array([[1, 0], [0, 1]])\n",
    "\n",
    "# Define the control input matrix (identity matrix)\n",
    "B = np.array([[1, 0], [0, 1]])\n",
    "\n",
    "# Define the initial state (0 acres allocated to wheat and barley)\n",
    "x0 = np.array([0, 0])\n",
    "\n",
    "# Define the time horizon (3 years)\n",
    "T = 3\n",
    "\n",
    "# Define the control input sequence (number of acres allocated to barley each year)\n",
    "u = np.array([[20, 30, 40], [80, 70, 60]])\n",
    "\n",
    "# Define the cost function (negative revenue)\n",
    "def cost(x, u):\n",
    "    return -np.dot(x.T, Q1) - np.dot(u.T, Q2) - np.dot(x.T, Q3)\n",
    "\n",
    "# Apply the Bellman equation\n",
    "c, x = bellman_equation(Q1, A, B, x0, u, T)\n",
    "\n",
    "print(\"Optimal revenue:\", -c)\n",
    "print(\"Optimal allocation:\", x)"
   ],
   "id": "835cc1295f3a5cce",
   "outputs": [
    {
     "name": "stdout",
     "output_type": "stream",
     "text": [
      "Optimal revenue: [      -0.       -0. -3049000.]\n",
      "Optimal allocation: [[ 20.  50.  90.   0.]\n",
      " [ 80. 150. 210.   0.]]\n"
     ]
    }
   ],
   "execution_count": 4
  },
  {
   "metadata": {},
   "cell_type": "code",
   "outputs": [],
   "execution_count": null,
   "source": "",
   "id": "127126020991837"
  }
 ],
 "metadata": {
  "kernelspec": {
   "display_name": "Python 3",
   "language": "python",
   "name": "python3"
  },
  "language_info": {
   "codemirror_mode": {
    "name": "ipython",
    "version": 2
   },
   "file_extension": ".py",
   "mimetype": "text/x-python",
   "name": "python",
   "nbconvert_exporter": "python",
   "pygments_lexer": "ipython2",
   "version": "2.7.6"
  }
 },
 "nbformat": 4,
 "nbformat_minor": 5
}
