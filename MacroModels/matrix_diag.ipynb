{
 "cells": [
  {
   "cell_type": "code",
   "id": "initial_id",
   "metadata": {
    "collapsed": true,
    "ExecuteTime": {
     "end_time": "2024-09-27T19:11:14.825095Z",
     "start_time": "2024-09-27T19:11:14.328349Z"
    }
   },
   "source": [
    "from sympy import Matrix,init_printing\n",
    "from sympy.abc import a, b, c, d\n",
    "init_printing(use_unicode=True)\n",
    "\n",
    "M=Matrix([[a,b],[c,d]])"
   ],
   "outputs": [],
   "execution_count": 1
  },
  {
   "metadata": {},
   "cell_type": "code",
   "outputs": [],
   "execution_count": null,
   "source": "",
   "id": "1cb444a0626b9db9"
  },
  {
   "metadata": {
    "ExecuteTime": {
     "end_time": "2024-09-27T19:11:56.243351Z",
     "start_time": "2024-09-27T19:11:56.134748Z"
    }
   },
   "cell_type": "code",
   "source": "M.diagonalize()",
   "id": "6fa18039b3f27e60",
   "outputs": [
    {
     "data": {
      "text/plain": [
       "⎛                                                                              ↪\n",
       "⎜                                                                              ↪\n",
       "⎜⎡           _________________________             _________________________⎤  ↪\n",
       "⎜⎢          ╱  2                    2             ╱  2                    2 ⎥  ↪\n",
       "⎜⎢a - d - ╲╱  a  - 2⋅a⋅d + 4⋅b⋅c + d    a - d + ╲╱  a  - 2⋅a⋅d + 4⋅b⋅c + d  ⎥  ↪\n",
       "⎜⎢────────────────────────────────────  ────────────────────────────────────⎥, ↪\n",
       "⎜⎢                2⋅c                                   2⋅c                 ⎥  ↪\n",
       "⎜⎢                                                                          ⎥  ↪\n",
       "⎜⎣                 1                                     1                  ⎦  ↪\n",
       "⎜                                                                              ↪\n",
       "⎝                                                                              ↪\n",
       "\n",
       "↪  ⎡           _________________________                                       ↪\n",
       "↪  ⎢          ╱  2                    2                                        ↪\n",
       "↪  ⎢a   d   ╲╱  a  - 2⋅a⋅d + 4⋅b⋅c + d                                         ↪\n",
       "↪  ⎢─ + ─ - ────────────────────────────                   0                   ↪\n",
       "↪  ⎢2   2                2                                                     ↪\n",
       "↪  ⎢                                                                           ↪\n",
       "↪  ⎢                                                 _________________________ ↪\n",
       "↪  ⎢                                                ╱  2                    2  ↪\n",
       "↪  ⎢                                      a   d   ╲╱  a  - 2⋅a⋅d + 4⋅b⋅c + d   ↪\n",
       "↪  ⎢                 0                    ─ + ─ + ──────────────────────────── ↪\n",
       "↪  ⎣                                      2   2                2               ↪\n",
       "\n",
       "↪ ⎤⎞\n",
       "↪ ⎥⎟\n",
       "↪ ⎥⎟\n",
       "↪ ⎥⎟\n",
       "↪ ⎥⎟\n",
       "↪ ⎥⎟\n",
       "↪ ⎥⎟\n",
       "↪ ⎥⎟\n",
       "↪ ⎥⎟\n",
       "↪ ⎥⎟\n",
       "↪ ⎦⎠"
      ],
      "text/latex": "$\\displaystyle \\left( \\left[\\begin{matrix}\\frac{a - d - \\sqrt{a^{2} - 2 a d + 4 b c + d^{2}}}{2 c} & \\frac{a - d + \\sqrt{a^{2} - 2 a d + 4 b c + d^{2}}}{2 c}\\\\1 & 1\\end{matrix}\\right], \\  \\left[\\begin{matrix}\\frac{a}{2} + \\frac{d}{2} - \\frac{\\sqrt{a^{2} - 2 a d + 4 b c + d^{2}}}{2} & 0\\\\0 & \\frac{a}{2} + \\frac{d}{2} + \\frac{\\sqrt{a^{2} - 2 a d + 4 b c + d^{2}}}{2}\\end{matrix}\\right]\\right)$"
     },
     "execution_count": 4,
     "metadata": {},
     "output_type": "execute_result"
    }
   ],
   "execution_count": 4
  },
  {
   "metadata": {
    "ExecuteTime": {
     "end_time": "2024-09-27T19:20:42.679361Z",
     "start_time": "2024-09-27T19:20:42.620527Z"
    }
   },
   "cell_type": "code",
   "source": "Matrix([[0,b],[c,0]]).diagonalize()",
   "id": "f3852a97ce4903fb",
   "outputs": [
    {
     "data": {
      "text/plain": [
       "⎛⎡   _____     _____⎤                     ⎞\n",
       "⎜⎢-╲╱ b⋅c    ╲╱ b⋅c ⎥  ⎡   _____         ⎤⎟\n",
       "⎜⎢─────────  ───────⎥  ⎢-╲╱ b⋅c      0   ⎥⎟\n",
       "⎜⎢    c         c   ⎥, ⎢                 ⎥⎟\n",
       "⎜⎢                  ⎥  ⎢            _____⎥⎟\n",
       "⎝⎣    1         1   ⎦  ⎣   0      ╲╱ b⋅c ⎦⎠"
      ],
      "text/latex": "$\\displaystyle \\left( \\left[\\begin{matrix}- \\frac{\\sqrt{b c}}{c} & \\frac{\\sqrt{b c}}{c}\\\\1 & 1\\end{matrix}\\right], \\  \\left[\\begin{matrix}- \\sqrt{b c} & 0\\\\0 & \\sqrt{b c}\\end{matrix}\\right]\\right)$"
     },
     "execution_count": 5,
     "metadata": {},
     "output_type": "execute_result"
    }
   ],
   "execution_count": 5
  },
  {
   "metadata": {},
   "cell_type": "code",
   "outputs": [],
   "execution_count": null,
   "source": "",
   "id": "81e75d0eb968b544"
  }
 ],
 "metadata": {
  "kernelspec": {
   "display_name": "Python 3",
   "language": "python",
   "name": "python3"
  },
  "language_info": {
   "codemirror_mode": {
    "name": "ipython",
    "version": 2
   },
   "file_extension": ".py",
   "mimetype": "text/x-python",
   "name": "python",
   "nbconvert_exporter": "python",
   "pygments_lexer": "ipython2",
   "version": "2.7.6"
  }
 },
 "nbformat": 4,
 "nbformat_minor": 5
}
