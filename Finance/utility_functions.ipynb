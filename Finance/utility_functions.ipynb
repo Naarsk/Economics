{
 "cells": [
  {
   "cell_type": "code",
   "id": "initial_id",
   "metadata": {
    "collapsed": true,
    "ExecuteTime": {
     "end_time": "2024-10-24T05:55:54.777764Z",
     "start_time": "2024-10-24T05:55:54.496069Z"
    }
   },
   "source": [
    "from Finance.UtilityFunctions import CARA, CRRA\n",
    "\n",
    "cara=CARA(0.05)\n",
    "crra=CRRA(0.05)"
   ],
   "outputs": [],
   "execution_count": 1
  },
  {
   "metadata": {
    "ExecuteTime": {
     "end_time": "2024-10-24T05:55:54.785234Z",
     "start_time": "2024-10-24T05:55:54.777764Z"
    }
   },
   "cell_type": "code",
   "source": "print(cara(4), crra(4))",
   "id": "6a8fba73b7c16894",
   "outputs": [
    {
     "name": "stdout",
     "output_type": "stream",
     "text": [
      "-0.8187307530779818 3.928559964365505\n"
     ]
    }
   ],
   "execution_count": 2
  },
  {
   "metadata": {
    "ExecuteTime": {
     "end_time": "2024-10-24T05:55:54.988699Z",
     "start_time": "2024-10-24T05:55:54.979906Z"
    }
   },
   "cell_type": "code",
   "source": "print(cara.absolute_risk_aversion(2),crra.absolute_risk_aversion(2))",
   "id": "1562844faaae219",
   "outputs": [
    {
     "name": "stdout",
     "output_type": "stream",
     "text": [
      "0.05000000000005113 0.024999999999432327\n"
     ]
    }
   ],
   "execution_count": 3
  },
  {
   "metadata": {
    "ExecuteTime": {
     "end_time": "2024-10-24T05:55:55.084836Z",
     "start_time": "2024-10-24T05:55:55.072600Z"
    }
   },
   "cell_type": "code",
   "source": "",
   "id": "9aa26a7a7a826320",
   "outputs": [],
   "execution_count": null
  }
 ],
 "metadata": {
  "kernelspec": {
   "display_name": "Python 3",
   "language": "python",
   "name": "python3"
  },
  "language_info": {
   "codemirror_mode": {
    "name": "ipython",
    "version": 2
   },
   "file_extension": ".py",
   "mimetype": "text/x-python",
   "name": "python",
   "nbconvert_exporter": "python",
   "pygments_lexer": "ipython2",
   "version": "2.7.6"
  }
 },
 "nbformat": 4,
 "nbformat_minor": 5
}
