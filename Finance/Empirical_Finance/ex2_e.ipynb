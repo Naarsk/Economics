{
 "cells": [
  {
   "metadata": {
    "collapsed": true,
    "ExecuteTime": {
     "end_time": "2025-03-23T20:33:26.775381Z",
     "start_time": "2025-03-23T20:33:18.998831Z"
    }
   },
   "cell_type": "code",
   "source": [
    "from scipy.stats import norm\n",
    "import numpy as np\n",
    "from statsmodels.tsa.stattools import acovf\n",
    "\n",
    "def newey_west_errors(y):\n",
    "    sample_var = np.var(y)\n",
    "    autocov = acovf(y)\n",
    "    weights  = np.array([1-j/T for j in range(1,T)])\n",
    "    adjusted_var = np.sum(weights * autocov) + sample_var \n",
    "    return sample_var, adjusted_var\n",
    "\n",
    "def simulate_ar1(rho, sigma, T, reps, alpha=0.05, random_seed=1234):\n",
    "    \"\"\"\n",
    "    Simulates an AR(1) process y_t = rho*y_{t-1} + eps_t (eps ~ N(0,sigma^2)).\n",
    "    Tests H0: E[y_t] = 0 against H1: E[y_t] != 0.\n",
    "    Returns the empirical rejection frequency.\n",
    "    \"\"\"\n",
    "    np.random.seed(random_seed)\n",
    "    reject_count = 0\n",
    "    critical_value_2_sides = norm.ppf(1 - alpha/2)\n",
    "    \n",
    "    for _ in range(reps):\n",
    "        # Generate data\n",
    "        e = np.random.normal(0, sigma, T)\n",
    "        y = np.zeros(T)\n",
    "        for t in range(1, T):\n",
    "            y[t] = rho * y[t-1] + e[t]\n",
    "                \n",
    "        sample_mean = np.mean(y)\n",
    "        sample_var = np.var(y)\n",
    "        \n",
    "        # Compute t-statistic\n",
    "        t_stat = sample_mean / np.sqrt(sample_var/T)\n",
    "        \n",
    "        # Check if t-statistic is greater than critical value\n",
    "        if np.abs(t_stat) > critical_value_2_sides:\n",
    "            reject_count += 1\n",
    "        \n",
    "    return reject_count / reps\n",
    "\n",
    "\n",
    "# Parameters\n",
    "rho = 0.8      # True phi under H0\n",
    "sigma = 0.1    # Std dev of eps\n",
    "T = 50         # Sample size\n",
    "reps = 10000   # Number of Monte Carlo replications\n",
    "\n",
    "for seed in range(10):\n",
    "    empirical_size = simulate_ar1(rho, sigma, T, reps, random_seed=37*seed**2)\n",
    "    print(f\"Empirical rejection frequency at nominal 5% = {empirical_size*100:.2f}%\")"
   ],
   "id": "initial_id",
   "outputs": [
    {
     "name": "stdout",
     "output_type": "stream",
     "text": [
      "Empirical rejection frequency at nominal 5% = 54.61%\n",
      "Empirical rejection frequency at nominal 5% = 53.45%\n",
      "Empirical rejection frequency at nominal 5% = 53.43%\n",
      "Empirical rejection frequency at nominal 5% = 54.28%\n",
      "Empirical rejection frequency at nominal 5% = 53.57%\n",
      "Empirical rejection frequency at nominal 5% = 54.07%\n",
      "Empirical rejection frequency at nominal 5% = 54.41%\n",
      "Empirical rejection frequency at nominal 5% = 54.59%\n",
      "Empirical rejection frequency at nominal 5% = 54.24%\n",
      "Empirical rejection frequency at nominal 5% = 53.35%\n"
     ]
    }
   ],
   "execution_count": 4
  },
  {
   "metadata": {
    "ExecuteTime": {
     "end_time": "2025-03-23T20:33:31.923914Z",
     "start_time": "2025-03-23T20:33:26.788546Z"
    }
   },
   "cell_type": "code",
   "source": [
    "# Check for gaussian that rej. rate=0.5%:\n",
    "rho=0\n",
    "for seed in range(10):\n",
    "    empirical_size = simulate_ar1(rho, sigma, T, reps, random_seed=37*seed**2)\n",
    "    print(f\"Empirical rejection frequency at nominal 5% = {empirical_size*100:.2f}%\")"
   ],
   "id": "8367f89b40b16f11",
   "outputs": [
    {
     "name": "stdout",
     "output_type": "stream",
     "text": [
      "Empirical rejection frequency at nominal 5% = 5.68%\n",
      "Empirical rejection frequency at nominal 5% = 5.95%\n",
      "Empirical rejection frequency at nominal 5% = 5.55%\n",
      "Empirical rejection frequency at nominal 5% = 5.61%\n",
      "Empirical rejection frequency at nominal 5% = 5.41%\n",
      "Empirical rejection frequency at nominal 5% = 5.73%\n",
      "Empirical rejection frequency at nominal 5% = 5.40%\n",
      "Empirical rejection frequency at nominal 5% = 5.66%\n",
      "Empirical rejection frequency at nominal 5% = 5.33%\n",
      "Empirical rejection frequency at nominal 5% = 5.55%\n"
     ]
    }
   ],
   "execution_count": 5
  },
  {
   "metadata": {
    "ExecuteTime": {
     "end_time": "2025-03-23T20:35:33.092046Z",
     "start_time": "2025-03-23T20:35:33.032072Z"
    }
   },
   "cell_type": "code",
   "source": [
    "# Compute errors\n",
    "T = 5000\n",
    "for seed in range(10):\n",
    "    np.random.seed(37*seed**2)\n",
    "    e = np.random.normal(0, sigma, T)\n",
    "    y = np.zeros(T)\n",
    "    for t in range(1, T):\n",
    "        y[t] = rho * y[t-1] + e[t]\n",
    "    print(\"Sample Var\" ,newey_west_errors(y)[0], \"\\tAdjusted Var\", newey_west_errors(y)[1])"
   ],
   "id": "aecdc4ccb8f75958",
   "outputs": [
    {
     "name": "stdout",
     "output_type": "stream",
     "text": [
      "Sample Var 0.009702557567966022 \tAdjusted Var 0.006825298838599346\n",
      "Sample Var 0.009844004266610685 \tAdjusted Var 0.00543274449653488\n",
      "Sample Var 0.01010460637294522 \tAdjusted Var 0.0054708619741310385\n",
      "Sample Var 0.009610506748650596 \tAdjusted Var 0.00519011651459303\n",
      "Sample Var 0.01001888016939426 \tAdjusted Var 0.010962976084914401\n",
      "Sample Var 0.009950890897207744 \tAdjusted Var 0.005697114404920476\n",
      "Sample Var 0.010256293387400589 \tAdjusted Var 0.005731254372109187\n",
      "Sample Var 0.009926258815127285 \tAdjusted Var 0.011263666456381386\n",
      "Sample Var 0.009964704570126671 \tAdjusted Var 0.010865573602025613\n",
      "Sample Var 0.0102059417147313 \tAdjusted Var 0.006316204983909915\n"
     ]
    }
   ],
   "execution_count": 8
  },
  {
   "metadata": {},
   "cell_type": "code",
   "outputs": [],
   "execution_count": null,
   "source": "",
   "id": "84567a91ba8fa834"
  }
 ],
 "metadata": {
  "kernelspec": {
   "display_name": "Python 3",
   "language": "python",
   "name": "python3"
  },
  "language_info": {
   "codemirror_mode": {
    "name": "ipython",
    "version": 2
   },
   "file_extension": ".py",
   "mimetype": "text/x-python",
   "name": "python",
   "nbconvert_exporter": "python",
   "pygments_lexer": "ipython2",
   "version": "2.7.6"
  }
 },
 "nbformat": 4,
 "nbformat_minor": 5
}
