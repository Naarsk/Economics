{
 "cells": [
  {
   "metadata": {
    "ExecuteTime": {
     "end_time": "2025-04-06T11:54:45.885301Z",
     "start_time": "2025-04-06T11:54:44.744790Z"
    }
   },
   "cell_type": "code",
   "source": [
    "import numpy as np\n",
    "from scipy.optimize import minimize\n",
    "import matplotlib.pyplot as plt\n"
   ],
   "id": "abf6f0a8dc5718d6",
   "outputs": [],
   "execution_count": 3
  },
  {
   "metadata": {},
   "cell_type": "markdown",
   "source": "# Exercise 3",
   "id": "4fe570f6a7129737"
  },
  {
   "metadata": {},
   "cell_type": "markdown",
   "source": [
    "## a) Additional moments\n",
    "Expand the programs so that estimation is performed using the first four uncentered moments for the normal distribution."
   ],
   "id": "bb5aff973243cad2"
  },
  {
   "metadata": {
    "ExecuteTime": {
     "end_time": "2025-04-06T11:54:45.916223Z",
     "start_time": "2025-04-06T11:54:45.910216Z"
    }
   },
   "cell_type": "code",
   "source": [
    "# Define the GMM objective function\n",
    "def myfun(theta, y):\n",
    "    # Sample moments\n",
    "    G = np.mean([\n",
    "        y - theta[0],\n",
    "        y**2 - theta[0]**2 - theta[1]**2,\n",
    "        y**3 - theta[0]**3 - 3*theta[0]*theta[1]**2,\n",
    "        y**4 - theta[0]**4 - 6*theta[0]**2*theta[1]**2 - 3*theta[1]**4\n",
    "    ], axis=1).reshape(-1, 1)\n",
    "\n",
    "    # GMM objective function (identity weighting matrix)\n",
    "    GMM = G.T @ G\n",
    "    return GMM.item()  # Return as scalar"
   ],
   "id": "3ec5ac9bce36dddf",
   "outputs": [],
   "execution_count": 4
  },
  {
   "metadata": {},
   "cell_type": "markdown",
   "source": "## Simulations",
   "id": "5eec0732e1a040dd"
  },
  {
   "metadata": {
    "ExecuteTime": {
     "end_time": "2025-04-06T11:54:46.588056Z",
     "start_time": "2025-04-06T11:54:45.929752Z"
    }
   },
   "cell_type": "code",
   "source": [
    "# Number of simulations to run\n",
    "NSIM = 20\n",
    "\n",
    "# Placeholder to store estimates from all simulations\n",
    "theta_all = []\n",
    "\n",
    "# Simulation loop\n",
    "for k in range(NSIM):\n",
    "    N = 200  # Sample size for each simulation\n",
    "\n",
    "    # True population parameters\n",
    "    musubzero = 5.0\n",
    "    sigsubzero = 2.0\n",
    "\n",
    "    # Generate sample data\n",
    "    y = sigsubzero * np.random.randn(N) + musubzero\n",
    "\n",
    "    # Starting values for optimization\n",
    "    startvalues = [0.0, 0.01]\n",
    "\n",
    "    # Run the optimizer (minimize the GMM objective)\n",
    "    result = minimize(\n",
    "        fun=myfun,\n",
    "        x0=startvalues,\n",
    "        args=(y,),\n",
    "        method='BFGS',  # Equivalent to MATLAB's fminunc\n",
    "        options={'disp': False}\n",
    "    )\n",
    "\n",
    "    thetaHAT = result.x      # Estimated parameters\n",
    "    GMMvalue = result.fun    # GMM objective value at solution\n",
    "\n",
    "    # Display results for each simulation\n",
    "    print(f\"Simulation {k+1}:\")\n",
    "    print(\"  thetaHAT =\", thetaHAT)\n",
    "    print(\"  GMMvalue =\", GMMvalue)\n",
    "    print()\n",
    "\n",
    "    # Store the estimates in a list\n",
    "    theta_all.append(thetaHAT)\n",
    "\n",
    "# Convert list to NumPy array for further processing\n",
    "theta_all = np.array(theta_all)\n",
    "\n",
    "# Display all theta estimates\n",
    "print(\"All theta estimates across simulations:\")\n",
    "print(theta_all)\n",
    "\n",
    "# Optional: compute mean and standard deviation across simulations\n",
    "theta_mean = theta_all.mean(axis=0)\n",
    "theta_std = theta_all.std(axis=0)\n",
    "print(\"\\nMean of estimates:\", theta_mean)\n",
    "print(\"Standard deviation of estimates:\", theta_std)\n",
    "\n",
    "# ------------------------------\n",
    "# Suggestions for Optimization:\n",
    "# ------------------------------\n",
    "# - Use `np.stack` if preallocating and filling an array instead of appending (faster for large NSIM).\n",
    "# - For large-scale simulation, consider multiprocessing to parallelize the loop.\n",
    "# - You can seed each run for reproducibility using `np.random.seed(seed + k)` inside the loop.\n"
   ],
   "id": "e4d0b13b48801880",
   "outputs": [
    {
     "name": "stdout",
     "output_type": "stream",
     "text": [
      "Simulation 1:\n",
      "  thetaHAT = [4.9373353  1.78962971]\n",
      "  GMMvalue = 0.025839861725211716\n",
      "\n",
      "Simulation 2:\n",
      "  thetaHAT = [4.82234592 2.19404377]\n",
      "  GMMvalue = 0.002760183468537557\n",
      "\n",
      "Simulation 3:\n",
      "  thetaHAT = [4.91452709 1.78370991]\n",
      "  GMMvalue = 0.0007630657296689913\n",
      "\n",
      "Simulation 4:\n",
      "  thetaHAT = [5.03502921 1.80603431]\n",
      "  GMMvalue = 0.0046261054531954926\n",
      "\n",
      "Simulation 5:\n",
      "  thetaHAT = [5.05067611 1.9037775 ]\n",
      "  GMMvalue = 0.0018915643805588207\n",
      "\n",
      "Simulation 6:\n",
      "  thetaHAT = [4.90847248 1.99317023]\n",
      "  GMMvalue = 0.0010912313328916348\n",
      "\n",
      "Simulation 7:\n",
      "  thetaHAT = [5.08765721 1.86964436]\n",
      "  GMMvalue = 0.0037467462426314046\n",
      "\n",
      "Simulation 8:\n",
      "  thetaHAT = [4.80445041 1.9121144 ]\n",
      "  GMMvalue = 0.01964115101910958\n",
      "\n",
      "Simulation 9:\n",
      "  thetaHAT = [4.90364164 1.98791888]\n",
      "  GMMvalue = 0.0028132366729972645\n",
      "\n",
      "Simulation 10:\n",
      "  thetaHAT = [4.94724446 2.08190642]\n",
      "  GMMvalue = 0.0016247421762131961\n",
      "\n",
      "Simulation 11:\n",
      "  thetaHAT = [4.97042647 2.07127128]\n",
      "  GMMvalue = 0.003005687509141404\n",
      "\n",
      "Simulation 12:\n",
      "  thetaHAT = [5.09188239 1.77972215]\n",
      "  GMMvalue = 0.023409300375589144\n",
      "\n",
      "Simulation 13:\n",
      "  thetaHAT = [4.94383252 2.18503392]\n",
      "  GMMvalue = 0.0018946598439385333\n",
      "\n",
      "Simulation 14:\n",
      "  thetaHAT = [4.9856763  2.15918736]\n",
      "  GMMvalue = 0.00017711567455907848\n",
      "\n",
      "Simulation 15:\n",
      "  thetaHAT = [5.11269965 1.80519108]\n",
      "  GMMvalue = 0.003410839957032191\n",
      "\n",
      "Simulation 16:\n",
      "  thetaHAT = [4.98021031 2.22382791]\n",
      "  GMMvalue = 0.04357283015035061\n",
      "\n",
      "Simulation 17:\n",
      "  thetaHAT = [4.92258487 1.97278861]\n",
      "  GMMvalue = 0.002401705952230718\n",
      "\n",
      "Simulation 18:\n",
      "  thetaHAT = [4.96642111 1.94304262]\n",
      "  GMMvalue = 0.005393446000469184\n",
      "\n",
      "Simulation 19:\n",
      "  thetaHAT = [4.94342501 1.93797612]\n",
      "  GMMvalue = 0.004439309977530432\n",
      "\n",
      "Simulation 20:\n",
      "  thetaHAT = [4.78064541 2.00164135]\n",
      "  GMMvalue = 0.007372459725372506\n",
      "\n",
      "All theta estimates across simulations:\n",
      "[[4.9373353  1.78962971]\n",
      " [4.82234592 2.19404377]\n",
      " [4.91452709 1.78370991]\n",
      " [5.03502921 1.80603431]\n",
      " [5.05067611 1.9037775 ]\n",
      " [4.90847248 1.99317023]\n",
      " [5.08765721 1.86964436]\n",
      " [4.80445041 1.9121144 ]\n",
      " [4.90364164 1.98791888]\n",
      " [4.94724446 2.08190642]\n",
      " [4.97042647 2.07127128]\n",
      " [5.09188239 1.77972215]\n",
      " [4.94383252 2.18503392]\n",
      " [4.9856763  2.15918736]\n",
      " [5.11269965 1.80519108]\n",
      " [4.98021031 2.22382791]\n",
      " [4.92258487 1.97278861]\n",
      " [4.96642111 1.94304262]\n",
      " [4.94342501 1.93797612]\n",
      " [4.78064541 2.00164135]]\n",
      "\n",
      "Mean of estimates: [4.95545919 1.9700816 ]\n",
      "Standard deviation of estimates: [0.08873761 0.14112952]\n"
     ]
    }
   ],
   "execution_count": 5
  },
  {
   "metadata": {},
   "cell_type": "markdown",
   "source": [
    "## b) Convergence\n",
    "Use one of the simulation programs to demonstrate that the method of moment estimators\n",
    "converges at the rate $\\sqrt{T}$\n"
   ],
   "id": "d0103259cfa3f59"
  },
  {
   "metadata": {
    "ExecuteTime": {
     "end_time": "2025-04-06T11:54:46.618094Z",
     "start_time": "2025-04-06T11:54:46.612904Z"
    }
   },
   "cell_type": "code",
   "source": [
    "# True population parameters\n",
    "musubzero = 5.0\n",
    "sigsubzero = 2.0\n",
    "\n",
    "def simulation(N, seed=0, musubzero=musubzero, sigsubzero=sigsubzero):\n",
    "    np.random.seed(seed)\n",
    "    # Generate sample data\n",
    "    y = sigsubzero * np.random.randn(N) + musubzero\n",
    "    # Starting values for optimization\n",
    "    startvalues = [0.0, 0.01]\n",
    "    # Run the optimizer (minimize the GMM objective)\n",
    "    result = minimize(\n",
    "        fun=myfun,\n",
    "        x0=startvalues,\n",
    "        args=(y,),\n",
    "        method='BFGS',  # Equivalent to MATLAB's fminunc\n",
    "        options={'disp': False}\n",
    "    )\n",
    "    return result.x  # Estimated parameters"
   ],
   "id": "a5a98453cbad2ea3",
   "outputs": [],
   "execution_count": 6
  },
  {
   "metadata": {
    "ExecuteTime": {
     "end_time": "2025-04-06T11:55:53.479665Z",
     "start_time": "2025-04-06T11:54:46.628741Z"
    }
   },
   "cell_type": "code",
   "source": [
    "n_max = 100000\n",
    "n_step = 1000\n",
    "n_min = n_step\n",
    "\n",
    "n_values = np.arange(n_min, n_max, n_step)\n",
    "thetas = np.empty((len(n_values), 2))\n",
    "\n",
    "for n in n_values:\n",
    "    thetas[n // n_step-1] = simulation(n, seed=0)"
   ],
   "id": "65e720f204671ded",
   "outputs": [],
   "execution_count": 7
  },
  {
   "metadata": {},
   "cell_type": "markdown",
   "source": "Log-log plot of the absolute difference between the estimated and true parameters. The green line has slope 1/2.",
   "id": "1e0b5c3187cfa517"
  },
  {
   "metadata": {
    "ExecuteTime": {
     "end_time": "2025-04-06T11:55:53.990153Z",
     "start_time": "2025-04-06T11:55:53.494979Z"
    }
   },
   "cell_type": "code",
   "source": [
    "plt.loglog(n_values, np.abs(thetas[:, 0]-musubzero), label=r'$\\mu$')\n",
    "plt.loglog(n_values, np.abs(thetas[:, 1]-sigsubzero), label=r'$\\sigma$')\n",
    "plt.loglog(n_values, 1/np.sqrt(n_values), label=r'$\\frac{1}{\\sqrt{T}}$')\n",
    "\n",
    "plt.xlabel('T')\n",
    "plt.ylabel(r'$|\\theta-\\theta_0|$')\n",
    "plt.legend()\n",
    "plt.show()"
   ],
   "id": "8570b3fd9a4b1624",
   "outputs": [
    {
     "data": {
      "text/plain": [
       "<Figure size 640x480 with 1 Axes>"
      ],
      "image/png": "[encoded data removed]"
     },
     "metadata": {},
     "output_type": "display_data"
    }
   ],
   "execution_count": 8
  },
  {
   "metadata": {},
   "cell_type": "markdown",
   "source": "## 2 Stage GMM (with optimal weighting matrix)",
   "id": "7527e3b07716e2b1"
  },
  {
   "metadata": {
    "ExecuteTime": {
     "end_time": "2025-04-06T11:55:54.015071Z",
     "start_time": "2025-04-06T11:55:54.006074Z"
    }
   },
   "cell_type": "code",
   "source": [
    "class GMMEstimator:\n",
    "    def __init__(self, y, startvalues):\n",
    "        self.y = y\n",
    "        self.N = len(y)\n",
    "        self.startvalues = startvalues\n",
    "        self.g = None  # Initialize g as None\n",
    "        self.W = np.eye(2)  # Initial weighting matrix: identity\n",
    "\n",
    "    def myfun(self, theta, W):\n",
    "        # Compute the individual moment conditions for each observation\n",
    "        self.g = np.column_stack([\n",
    "            self.y - theta[0],\n",
    "            self.y**2 - theta[0]**2 - theta[1]**2\n",
    "        ])\n",
    "        \n",
    "        # Compute the sample moments (mean of g)\n",
    "        G = np.mean(self.g, axis=0).reshape(-1, 1)\n",
    "\n",
    "        # Compute the GMM objective function with the weighting matrix\n",
    "        GMM = G.T @ W @ G\n",
    "        return GMM.item()  # Return the scalar value\n",
    "\n",
    "    def first_stage_estimation(self):\n",
    "        # Perform the first-stage GMM estimation\n",
    "        result_1 = minimize(\n",
    "            fun=self.myfun,\n",
    "            x0=self.startvalues,\n",
    "            args=(self.W,),\n",
    "            method='BFGS',\n",
    "            options={'disp': True}\n",
    "        )\n",
    "        thetaHAT_1 = result_1.x\n",
    "        GMMvalue_1 = result_1.fun\n",
    "\n",
    "        print(\"\\nFirst-stage estimates:\")\n",
    "        print(\"thetaHAT =\", thetaHAT_1)\n",
    "        print(\"GMMvalue =\", GMMvalue_1)\n",
    "\n",
    "        return thetaHAT_1\n",
    "\n",
    "    def second_stage_estimation(self, thetaHAT_1):\n",
    "        # Compute the optimal weighting matrix\n",
    "        W_optimal = np.linalg.inv((self.g.T @ self.g) / self.N)\n",
    "\n",
    "        # Perform the second-stage GMM estimation\n",
    "        result_2 = minimize(\n",
    "            fun=self.myfun,\n",
    "            x0=self.startvalues,\n",
    "            args=(W_optimal,),\n",
    "            method='BFGS',\n",
    "            options={'disp': True}\n",
    "        )\n",
    "        thetaHAT_2 = result_2.x\n",
    "        GMMvalue_2 = result_2.fun\n",
    "\n",
    "        print(\"\\nSecond-stage estimates:\")\n",
    "        print(\"thetaHAT =\", thetaHAT_2)\n",
    "        print(\"GMMvalue =\", GMMvalue_2)\n",
    "\n",
    "        return thetaHAT_2\n"
   ],
   "id": "3abda5e9e8f0565e",
   "outputs": [],
   "execution_count": 9
  },
  {
   "metadata": {
    "ExecuteTime": {
     "end_time": "2025-04-06T11:55:54.076695Z",
     "start_time": "2025-04-06T11:55:54.048738Z"
    }
   },
   "cell_type": "code",
   "source": [
    "# Set random seed for reproducibility\n",
    "np.random.seed(12)\n",
    "\n",
    "N = 200  # Sample size\n",
    "\n",
    "# Population parameters\n",
    "musubzero = 5.0\n",
    "sigsubzero = 2.0\n",
    "\n",
    "# Generate simulated data\n",
    "y = sigsubzero * np.random.randn(N) + musubzero\n",
    "\n",
    "# Starting values for the parameters\n",
    "startvalues = [0.0, 0.01]\n",
    "\n",
    "# Create GMM estimator object\n",
    "gmm_estimator = GMMEstimator(y, startvalues)\n",
    "\n",
    "# First-stage estimation\n",
    "thetaHAT_1 = gmm_estimator.first_stage_estimation()\n",
    "\n",
    "# Second-stage estimation\n",
    "thetaHAT_2 = gmm_estimator.second_stage_estimation(thetaHAT_1);"
   ],
   "id": "da8374e2910c1066",
   "outputs": [
    {
     "name": "stdout",
     "output_type": "stream",
     "text": [
      "Optimization terminated successfully.\n",
      "         Current function value: 0.000000\n",
      "         Iterations: 17\n",
      "         Function evaluations: 72\n",
      "         Gradient evaluations: 24\n",
      "\n",
      "First-stage estimates:\n",
      "thetaHAT = [4.63944894 2.07368061]\n",
      "GMMvalue = 2.2824147405684435e-13\n",
      "Optimization terminated successfully.\n",
      "         Current function value: 0.000000\n",
      "         Iterations: 17\n",
      "         Function evaluations: 90\n",
      "         Gradient evaluations: 30\n",
      "\n",
      "Second-stage estimates:\n",
      "thetaHAT = [4.63944635 2.073676  ]\n",
      "GMMvalue = 1.0824782526055311e-11\n"
     ]
    }
   ],
   "execution_count": 10
  }
 ],
 "metadata": {
  "kernelspec": {
   "display_name": "Python 3",
   "language": "python",
   "name": "python3"
  },
  "language_info": {
   "codemirror_mode": {
    "name": "ipython",
    "version": 2
   },
   "file_extension": ".py",
   "mimetype": "text/x-python",
   "name": "python",
   "nbconvert_exporter": "python",
   "pygments_lexer": "ipython2",
   "version": "2.7.6"
  }
 },
 "nbformat": 4,
 "nbformat_minor": 5
}
