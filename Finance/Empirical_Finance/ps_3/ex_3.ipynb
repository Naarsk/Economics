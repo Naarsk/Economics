{
 "cells": [
  {
   "metadata": {
    "ExecuteTime": {
     "end_time": "2025-04-05T18:21:00.237337Z",
     "start_time": "2025-04-05T18:20:59.183935Z"
    }
   },
   "cell_type": "code",
   "source": [
    "import numpy as np\n",
    "from scipy.optimize import minimize\n",
    "import matplotlib.pyplot as plt\n"
   ],
   "id": "abf6f0a8dc5718d6",
   "outputs": [],
   "execution_count": 13
  },
  {
   "metadata": {},
   "cell_type": "markdown",
   "source": "# Exercise 3",
   "id": "4fe570f6a7129737"
  },
  {
   "metadata": {},
   "cell_type": "markdown",
   "source": [
    "## a) Additional moments\n",
    "Expand the programs so that estimation is performed using the first four uncentered moments for the normal distribution."
   ],
   "id": "bb5aff973243cad2"
  },
  {
   "metadata": {
    "ExecuteTime": {
     "end_time": "2025-04-05T18:42:24.405267Z",
     "start_time": "2025-04-05T18:42:24.398581Z"
    }
   },
   "cell_type": "code",
   "source": [
    "# Define the GMM objective function\n",
    "def myfun(theta, y):\n",
    "    # Sample moments\n",
    "    G = np.mean([\n",
    "        y - theta[0],\n",
    "        y**2 - theta[0]**2 - theta[1]**2,\n",
    "        y**3 - theta[0]**3 - 3*theta[0]*theta[1]**2,\n",
    "        y**4 - theta[0]**4 - 6*theta[0]**2*theta[1]**2 - 3*theta[1]**4\n",
    "    ], axis=1).reshape(-1, 1)\n",
    "\n",
    "    # GMM objective function (identity weighting matrix)\n",
    "    GMM = G.T @ G\n",
    "    return GMM.item()  # Return as scalar"
   ],
   "id": "3ec5ac9bce36dddf",
   "outputs": [],
   "execution_count": 53
  },
  {
   "metadata": {},
   "cell_type": "markdown",
   "source": "## Simulations",
   "id": "5eec0732e1a040dd"
  },
  {
   "metadata": {
    "ExecuteTime": {
     "end_time": "2025-04-05T18:42:26.863736Z",
     "start_time": "2025-04-05T18:42:26.099194Z"
    }
   },
   "cell_type": "code",
   "source": [
    "# Number of simulations to run\n",
    "NSIM = 20\n",
    "\n",
    "# Placeholder to store estimates from all simulations\n",
    "theta_all = []\n",
    "\n",
    "# Simulation loop\n",
    "for k in range(NSIM):\n",
    "    N = 200  # Sample size for each simulation\n",
    "\n",
    "    # True population parameters\n",
    "    musubzero = 5.0\n",
    "    sigsubzero = 2.0\n",
    "\n",
    "    # Generate sample data\n",
    "    y = sigsubzero * np.random.randn(N) + musubzero\n",
    "\n",
    "    # Starting values for optimization\n",
    "    startvalues = [0.0, 0.01]\n",
    "\n",
    "    # Run the optimizer (minimize the GMM objective)\n",
    "    result = minimize(\n",
    "        fun=myfun,\n",
    "        x0=startvalues,\n",
    "        args=(y,),\n",
    "        method='BFGS',  # Equivalent to MATLAB's fminunc\n",
    "        options={'disp': False}\n",
    "    )\n",
    "\n",
    "    thetaHAT = result.x      # Estimated parameters\n",
    "    GMMvalue = result.fun    # GMM objective value at solution\n",
    "\n",
    "    # Display results for each simulation\n",
    "    print(f\"Simulation {k+1}:\")\n",
    "    print(\"  thetaHAT =\", thetaHAT)\n",
    "    print(\"  GMMvalue =\", GMMvalue)\n",
    "    print()\n",
    "\n",
    "    # Store the estimates in a list\n",
    "    theta_all.append(thetaHAT)\n",
    "\n",
    "# Convert list to NumPy array for further processing\n",
    "theta_all = np.array(theta_all)\n",
    "\n",
    "# Display all theta estimates\n",
    "print(\"All theta estimates across simulations:\")\n",
    "print(theta_all)\n",
    "\n",
    "# Optional: compute mean and standard deviation across simulations\n",
    "theta_mean = theta_all.mean(axis=0)\n",
    "theta_std = theta_all.std(axis=0)\n",
    "print(\"\\nMean of estimates:\", theta_mean)\n",
    "print(\"Standard deviation of estimates:\", theta_std)\n",
    "\n",
    "# ------------------------------\n",
    "# Suggestions for Optimization:\n",
    "# ------------------------------\n",
    "# - Use `np.stack` if preallocating and filling an array instead of appending (faster for large NSIM).\n",
    "# - For large-scale simulation, consider multiprocessing to parallelize the loop.\n",
    "# - You can seed each run for reproducibility using `np.random.seed(seed + k)` inside the loop.\n"
   ],
   "id": "e4d0b13b48801880",
   "outputs": [
    {
     "name": "stdout",
     "output_type": "stream",
     "text": [
      "Simulation 1:\n",
      "  thetaHAT = [4.93005014 2.02601766]\n",
      "  GMMvalue = 0.016714328244025873\n",
      "\n",
      "Simulation 2:\n",
      "  thetaHAT = [5.17316787 1.92076777]\n",
      "  GMMvalue = 0.004353125371505394\n",
      "\n",
      "Simulation 3:\n",
      "  thetaHAT = [4.98099423 1.90356461]\n",
      "  GMMvalue = 0.03659464691980708\n",
      "\n",
      "Simulation 4:\n",
      "  thetaHAT = [5.08893847 2.14014563]\n",
      "  GMMvalue = 0.005050552681081228\n",
      "\n",
      "Simulation 5:\n",
      "  thetaHAT = [5.13515283 2.0844101 ]\n",
      "  GMMvalue = 0.006883733816605836\n",
      "\n",
      "Simulation 6:\n",
      "  thetaHAT = [5.03541038 1.7637415 ]\n",
      "  GMMvalue = 0.0014368091503187562\n",
      "\n",
      "Simulation 7:\n",
      "  thetaHAT = [5.05636651 2.07922641]\n",
      "  GMMvalue = 0.0020601513158659407\n",
      "\n",
      "Simulation 8:\n",
      "  thetaHAT = [5.10886342 2.0727705 ]\n",
      "  GMMvalue = 0.00041152892031543766\n",
      "\n",
      "Simulation 9:\n",
      "  thetaHAT = [5.01080869 1.96103824]\n",
      "  GMMvalue = 0.0009733341094094609\n",
      "\n",
      "Simulation 10:\n",
      "  thetaHAT = [4.70812655 1.82866628]\n",
      "  GMMvalue = 0.013292879270210502\n",
      "\n",
      "Simulation 11:\n",
      "  thetaHAT = [4.96551218 1.99230391]\n",
      "  GMMvalue = 0.01146400049530901\n",
      "\n",
      "Simulation 12:\n",
      "  thetaHAT = [5.3070452  2.25107871]\n",
      "  GMMvalue = 0.005375837319549562\n",
      "\n",
      "Simulation 13:\n",
      "  thetaHAT = [5.17386225 1.97458771]\n",
      "  GMMvalue = 0.050456767091694395\n",
      "\n",
      "Simulation 14:\n",
      "  thetaHAT = [4.94314939 2.333453  ]\n",
      "  GMMvalue = 0.0958581707334222\n",
      "\n",
      "Simulation 15:\n",
      "  thetaHAT = [4.84664333 2.14562039]\n",
      "  GMMvalue = 0.0010502376842649692\n",
      "\n",
      "Simulation 16:\n",
      "  thetaHAT = [4.9013081  2.16624361]\n",
      "  GMMvalue = 0.04426918172920552\n",
      "\n",
      "Simulation 17:\n",
      "  thetaHAT = [5.20665436 1.88415995]\n",
      "  GMMvalue = 0.002052701452462708\n",
      "\n",
      "Simulation 18:\n",
      "  thetaHAT = [4.97857648 1.7807496 ]\n",
      "  GMMvalue = 0.010491550819962876\n",
      "\n",
      "Simulation 19:\n",
      "  thetaHAT = [5.05148299 1.94347668]\n",
      "  GMMvalue = 0.09064214331004843\n",
      "\n",
      "Simulation 20:\n",
      "  thetaHAT = [4.87359619 1.61696939]\n",
      "  GMMvalue = 0.04467610530433513\n",
      "\n",
      "All theta estimates across simulations:\n",
      "[[4.93005014 2.02601766]\n",
      " [5.17316787 1.92076777]\n",
      " [4.98099423 1.90356461]\n",
      " [5.08893847 2.14014563]\n",
      " [5.13515283 2.0844101 ]\n",
      " [5.03541038 1.7637415 ]\n",
      " [5.05636651 2.07922641]\n",
      " [5.10886342 2.0727705 ]\n",
      " [5.01080869 1.96103824]\n",
      " [4.70812655 1.82866628]\n",
      " [4.96551218 1.99230391]\n",
      " [5.3070452  2.25107871]\n",
      " [5.17386225 1.97458771]\n",
      " [4.94314939 2.333453  ]\n",
      " [4.84664333 2.14562039]\n",
      " [4.9013081  2.16624361]\n",
      " [5.20665436 1.88415995]\n",
      " [4.97857648 1.7807496 ]\n",
      " [5.05148299 1.94347668]\n",
      " [4.87359619 1.61696939]]\n",
      "\n",
      "Mean of estimates: [5.02378548 1.99344958]\n",
      "Standard deviation of estimates: [0.1370529  0.16964692]\n"
     ]
    }
   ],
   "execution_count": 54
  },
  {
   "metadata": {},
   "cell_type": "markdown",
   "source": [
    "## b) Convergence\n",
    "Use one of the simulation programs to demonstrate that the method of moment estimators\n",
    "converges at the rate $\\sqrt{T}$\n"
   ],
   "id": "d0103259cfa3f59"
  },
  {
   "metadata": {
    "ExecuteTime": {
     "end_time": "2025-04-05T18:19:34.132709Z",
     "start_time": "2025-04-05T18:19:34.126192Z"
    }
   },
   "cell_type": "code",
   "source": [
    "# True population parameters\n",
    "musubzero = 5.0\n",
    "sigsubzero = 2.0\n",
    "\n",
    "def simulation(N, seed=0, musubzero=musubzero, sigsubzero=sigsubzero):\n",
    "    np.random.seed(seed)\n",
    "    # Generate sample data\n",
    "    y = sigsubzero * np.random.randn(N) + musubzero\n",
    "    # Starting values for optimization\n",
    "    startvalues = [0.0, 0.01]\n",
    "    # Run the optimizer (minimize the GMM objective)\n",
    "    result = minimize(\n",
    "        fun=myfun,\n",
    "        x0=startvalues,\n",
    "        args=(y,),\n",
    "        method='BFGS',  # Equivalent to MATLAB's fminunc\n",
    "        options={'disp': False}\n",
    "    )\n",
    "    return result.x  # Estimated parameters"
   ],
   "id": "a5a98453cbad2ea3",
   "outputs": [],
   "execution_count": 10
  },
  {
   "metadata": {
    "ExecuteTime": {
     "end_time": "2025-04-05T18:38:35.771269Z",
     "start_time": "2025-04-05T18:38:32.589785Z"
    }
   },
   "cell_type": "code",
   "source": [
    "n_max = 100000\n",
    "n_step = 1000\n",
    "n_min = n_step\n",
    "\n",
    "n_values = np.arange(n_min, n_max, n_step)\n",
    "thetas = np.empty((len(n_values), 2))\n",
    "\n",
    "for n in n_values:\n",
    "    thetas[n // n_step-1] = simulation(n, seed=0)"
   ],
   "id": "65e720f204671ded",
   "outputs": [],
   "execution_count": 47
  },
  {
   "metadata": {},
   "cell_type": "markdown",
   "source": "Log-log plot of the absolute difference between the estimated and true parameters. The green line has slope 1/2.",
   "id": "1e0b5c3187cfa517"
  },
  {
   "metadata": {
    "ExecuteTime": {
     "end_time": "2025-04-05T18:38:36.066192Z",
     "start_time": "2025-04-05T18:38:35.780443Z"
    }
   },
   "cell_type": "code",
   "outputs": [
    {
     "data": {
      "text/plain": [
       "<Figure size 640x480 with 1 Axes>"
      ],
      "image/png": "[encoded data removed]"
     },
     "metadata": {},
     "output_type": "display_data"
    }
   ],
   "execution_count": 48,
   "source": [
    "plt.loglog(n_values, np.abs(thetas[:, 0]-musubzero), label=r'$\\mu$')\n",
    "plt.loglog(n_values, np.abs(thetas[:, 1]-sigsubzero), label=r'$\\sigma$')\n",
    "plt.loglog(n_values, 1/np.sqrt(n_values), label=r'$\\frac{1}{\\sqrt{T}}$')\n",
    "\n",
    "plt.xlabel('T')\n",
    "plt.ylabel(r'$|\\theta-\\theta_0|$')\n",
    "plt.legend()\n",
    "plt.show()"
   ],
   "id": "8570b3fd9a4b1624"
  },
  {
   "metadata": {},
   "cell_type": "markdown",
   "source": "## 2 Stage GMM (with optimal weighting matrix)",
   "id": "7527e3b07716e2b1"
  },
  {
   "metadata": {
    "ExecuteTime": {
     "end_time": "2025-04-05T19:19:38.545119Z",
     "start_time": "2025-04-05T19:19:38.536604Z"
    }
   },
   "cell_type": "code",
   "source": [
    "class GMMEstimator:\n",
    "    def __init__(self, y, N, startvalues):\n",
    "        self.y = y\n",
    "        self.N = N\n",
    "        self.startvalues = startvalues\n",
    "        self.g = None  # Initialize g as None\n",
    "        self.W = np.eye(2)  # Initial weighting matrix: identity\n",
    "\n",
    "    def myfun(self, theta, W):\n",
    "        # Compute the individual moment conditions for each observation\n",
    "        self.g = np.column_stack([\n",
    "            self.y - theta[0],\n",
    "            self.y**2 - theta[0]**2 - theta[1]**2\n",
    "        ])\n",
    "        \n",
    "        # Compute the sample moments (mean of g)\n",
    "        G = np.mean(self.g, axis=0).reshape(-1, 1)\n",
    "\n",
    "        # Compute the GMM objective function with the weighting matrix\n",
    "        GMM = G.T @ W @ G\n",
    "        return GMM.item()  # Return the scalar value\n",
    "\n",
    "    def first_stage_estimation(self):\n",
    "        # Perform the first-stage GMM estimation\n",
    "        result_1 = minimize(\n",
    "            fun=self.myfun,\n",
    "            x0=self.startvalues,\n",
    "            args=(self.W,),\n",
    "            method='BFGS',\n",
    "            options={'disp': True}\n",
    "        )\n",
    "        thetaHAT_1 = result_1.x\n",
    "        GMMvalue_1 = result_1.fun\n",
    "\n",
    "        print(\"\\nFirst-stage estimates:\")\n",
    "        print(\"thetaHAT =\", thetaHAT_1)\n",
    "        print(\"GMMvalue =\", GMMvalue_1)\n",
    "\n",
    "        return thetaHAT_1\n",
    "\n",
    "    def second_stage_estimation(self, thetaHAT_1):\n",
    "        # Compute the optimal weighting matrix\n",
    "        W_optimal = np.linalg.inv((self.g.T @ self.g) / self.N)\n",
    "\n",
    "        # Perform the second-stage GMM estimation\n",
    "        result_2 = minimize(\n",
    "            fun=self.myfun,\n",
    "            x0=self.startvalues,\n",
    "            args=(W_optimal,),\n",
    "            method='BFGS',\n",
    "            options={'disp': True}\n",
    "        )\n",
    "        thetaHAT_2 = result_2.x\n",
    "        GMMvalue_2 = result_2.fun\n",
    "\n",
    "        print(\"\\nSecond-stage estimates:\")\n",
    "        print(\"thetaHAT =\", thetaHAT_2)\n",
    "        print(\"GMMvalue =\", GMMvalue_2)\n",
    "\n",
    "        return thetaHAT_2\n"
   ],
   "id": "3abda5e9e8f0565e",
   "outputs": [],
   "execution_count": 56
  },
  {
   "metadata": {
    "ExecuteTime": {
     "end_time": "2025-04-05T19:20:23.535878Z",
     "start_time": "2025-04-05T19:20:23.507094Z"
    }
   },
   "cell_type": "code",
   "source": [
    "# Set random seed for reproducibility\n",
    "np.random.seed(12)\n",
    "\n",
    "N = 200  # Sample size\n",
    "\n",
    "# Population parameters\n",
    "musubzero = 5.0\n",
    "sigsubzero = 2.0\n",
    "\n",
    "# Generate simulated data\n",
    "y = sigsubzero * np.random.randn(N) + musubzero\n",
    "\n",
    "# Starting values for the parameters\n",
    "startvalues = [0.0, 0.01]\n",
    "\n",
    "# Create GMM estimator object\n",
    "gmm_estimator = GMMEstimator(y, N, startvalues)\n",
    "\n",
    "# First-stage estimation\n",
    "thetaHAT_1 = gmm_estimator.first_stage_estimation()\n",
    "\n",
    "# Second-stage estimation\n",
    "thetaHAT_2 = gmm_estimator.second_stage_estimation(thetaHAT_1);"
   ],
   "id": "da8374e2910c1066",
   "outputs": [
    {
     "name": "stdout",
     "output_type": "stream",
     "text": [
      "Optimization terminated successfully.\n",
      "         Current function value: 0.000000\n",
      "         Iterations: 17\n",
      "         Function evaluations: 72\n",
      "         Gradient evaluations: 24\n",
      "\n",
      "First-stage estimates:\n",
      "thetaHAT = [4.63944894 2.07368061]\n",
      "GMMvalue = 2.2824147405684435e-13\n",
      "Optimization terminated successfully.\n",
      "         Current function value: 0.000000\n",
      "         Iterations: 17\n",
      "         Function evaluations: 90\n",
      "         Gradient evaluations: 30\n",
      "\n",
      "Second-stage estimates:\n",
      "thetaHAT = [4.63944635 2.073676  ]\n",
      "GMMvalue = 1.0824782526055311e-11\n"
     ]
    }
   ],
   "execution_count": 59
  }
 ],
 "metadata": {
  "kernelspec": {
   "display_name": "Python 3",
   "language": "python",
   "name": "python3"
  },
  "language_info": {
   "codemirror_mode": {
    "name": "ipython",
    "version": 2
   },
   "file_extension": ".py",
   "mimetype": "text/x-python",
   "name": "python",
   "nbconvert_exporter": "python",
   "pygments_lexer": "ipython2",
   "version": "2.7.6"
  }
 },
 "nbformat": 4,
 "nbformat_minor": 5
}
