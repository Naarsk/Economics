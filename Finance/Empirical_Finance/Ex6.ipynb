{
 "cells": [
  {
   "metadata": {},
   "cell_type": "code",
   "source": [
    "import numpy as np\n",
    "import matplotlib.pyplot as plt"
   ],
   "id": "cadb97b192f338",
   "outputs": [],
   "execution_count": null
  },
  {
   "metadata": {},
   "cell_type": "markdown",
   "source": [
    "# Convergence to Expectation (v1)\n",
    "In this version, the generation in rerun for each max size"
   ],
   "id": "aae62864a20834ab"
  },
  {
   "metadata": {
    "collapsed": true
   },
   "cell_type": "code",
   "source": [
    "np.random.seed(100)\n",
    "\n",
    "max_size = 500\n",
    "\n",
    "size_array= np.arange(max_size)\n",
    "avg_array = np.zeros(max_size)\n",
    "\n",
    "for size in size_array:\n",
    "    np.random.seed(100+37*size)\n",
    "    chi_2 = np.random.chisquare(df=4, size=size+1)\n",
    "    avg_array[size] = chi_2.mean()"
   ],
   "id": "initial_id",
   "outputs": [],
   "execution_count": null
  },
  {
   "metadata": {},
   "cell_type": "code",
   "source": [
    "plt.scatter(size_array,avg_array, marker='.')\n",
    "plt.show()"
   ],
   "id": "84a427ba76f59515",
   "outputs": [],
   "execution_count": null
  },
  {
   "metadata": {},
   "cell_type": "markdown",
   "source": [
    "# Convergence to Expectation (v2)\n",
    "In this version, the cumulative average is used (i.e. a single random path is identified)"
   ],
   "id": "3bce1fb888e7973a"
  },
  {
   "metadata": {},
   "cell_type": "code",
   "source": [
    "import numpy as np\n",
    "import matplotlib.pyplot as plt\n",
    "\n",
    "# Set seed for reproducibility\n",
    "np.random.seed(1212)\n",
    "size = 500         # sample size\n",
    "df = 4         # parameter of the Bernoulli distribution\n",
    "\n",
    "# Simulation: Generate n Bernoulli trials\n",
    "x = np.random.chisquare(df=df, size=size)\n",
    "s = np.cumsum(x)                # cumulative sum\n",
    "r = s / np.arange(1, size + 1)       # elementwise division for running averages"
   ],
   "id": "da5f4a5233864ffb",
   "outputs": [],
   "execution_count": null
  },
  {
   "metadata": {},
   "cell_type": "code",
   "source": [
    "# Plot the simulation\n",
    "plt.figure(figsize=(10, 6))\n",
    "plt.plot(r, label=\"Sample Average\")\n",
    "plt.axhline(df, color=\"red\", linestyle=\"--\", label=\"Expectation (df=4)\")\n",
    "plt.title(\"Convergence of the Average to the Expectation\")\n",
    "plt.xlabel(\"Number of Trials\")\n",
    "plt.ylabel(\"Average of Heads\")\n",
    "plt.legend()\n",
    "plt.show()\n",
    "\n",
    "print(\"Final average (r[n]):\", r[-1])"
   ],
   "id": "26aaff53098129e3",
   "outputs": [],
   "execution_count": null
  },
  {
   "metadata": {},
   "cell_type": "markdown",
   "source": "# Monte Carlo distribution of final averages",
   "id": "da95eb74141122e8"
  },
  {
   "metadata": {},
   "cell_type": "code",
   "source": [
    "# Monte Carlo: Distribution of final averages\n",
    "m = 1000                        # number of simulation iterations\n",
    "p_last = np.empty(m)            # initialize vector to store final averages\n",
    "\n",
    "for i in range(m):\n",
    "    x = np.random.chisquare(df=df, size=size)\n",
    "    s = np.cumsum(x)                # cumulative sum\n",
    "    r = s / np.arange(1, size + 1)       # elementwise division for running averages\n",
    "    p_last[i] = r[-1]"
   ],
   "id": "28c43fe959745142",
   "outputs": [],
   "execution_count": null
  },
  {
   "metadata": {},
   "cell_type": "code",
   "source": [
    "plt.figure(figsize=(10, 6))\n",
    "plt.hist(p_last, bins=30, edgecolor=\"black\")\n",
    "plt.title(\"Distribution of Final Averages from Monte Carlo Simulation\")\n",
    "plt.xlabel(\"Final Average\")\n",
    "plt.ylabel(\"Frequency\")\n",
    "plt.show()"
   ],
   "id": "45cf8e23d0362b23",
   "outputs": [],
   "execution_count": null
  },
  {
   "metadata": {},
   "cell_type": "code",
   "source": [
    "def mc_simulation(sample_size, iterations):\n",
    "    mean_array = np.empty(iterations)            # initialize vector to store final averages\n",
    "    \n",
    "    for i in range(iterations):\n",
    "        generated_values = np.random.chisquare(df=df, size=sample_size)\n",
    "        cumulative_sum = np.cumsum(generated_values)                # cumulative sum\n",
    "        running_mean = cumulative_sum / np.arange(1, sample_size + 1)       # elementwise division for running averages\n",
    "        mean_array[i] = running_mean[-1]\n",
    "    \n",
    "    return mean_array\n",
    "    "
   ],
   "id": "a193cec7de5fb14b",
   "outputs": [],
   "execution_count": null
  },
  {
   "metadata": {},
   "cell_type": "code",
   "source": [
    "# Define the simulation parameters.\n",
    "sample_sizes = [10, 100, 1000, 100000]\n",
    "iterations = 1000\n",
    "\n",
    "# Run the simulations for each sample size.\n",
    "results = {size: mc_simulation(size, iterations) for size in sample_sizes}\n",
    "\n",
    "# Create a figure with 4 subplots.\n",
    "fig, axs = plt.subplots(2, 2, figsize=(12, 10))\n",
    "axs = axs.flatten()  # Flatten the 2D array of axes for easy iteration.\n",
    "\n",
    "# Plot a histogram for each sample size.\n",
    "for i, size in enumerate(sample_sizes):\n",
    "    axs[i].hist(results[size], bins=30, color='skyblue', edgecolor='black')\n",
    "    axs[i].set_title(f'Sample size = {size}')\n",
    "    axs[i].set_xlabel('Final Running Mean')\n",
    "    axs[i].set_ylabel('Frequency')\n",
    "\n",
    "plt.tight_layout()\n",
    "plt.show()\n"
   ],
   "id": "8c7bfd0fd92ae1a6",
   "outputs": [],
   "execution_count": null
  },
  {
   "metadata": {},
   "cell_type": "code",
   "source": [
    "# Create a single figure overlaying the 4 histograms.\n",
    "plt.figure(figsize=(12, 8))\n",
    "colors = ['yellow', 'red', 'green', 'skyblue']\n",
    "\n",
    "bin_edges = np.arange(2, 6 + 0.1, 0.1)\n",
    "\n",
    "for size, color in zip(sample_sizes[:-1], colors[:-1]):\n",
    "    plt.hist(results[size], bins =bin_edges, color=color, alpha=1, \n",
    "             label=f'Sample size = {size}', edgecolor='black')\n",
    "\n",
    "plt.xlabel('Final Running Mean')\n",
    "plt.ylabel('Frequency')\n",
    "plt.title('Overlaid Histograms of Final Running Means')\n",
    "plt.legend()\n",
    "plt.tight_layout()\n",
    "plt.show()"
   ],
   "id": "4e70792c0462ab15",
   "outputs": [],
   "execution_count": null
  },
  {
   "metadata": {},
   "cell_type": "markdown",
   "source": "# Cauchy Distribution",
   "id": "1ad59617f73c2295"
  },
  {
   "metadata": {},
   "cell_type": "code",
   "source": [
    "def mc_simulation_cauchy(sample_size, iterations):\n",
    "    mean_array = np.empty(iterations)            # initialize vector to store final averages\n",
    "    \n",
    "    for i in range(iterations):\n",
    "        generated_values = np.random.standard_cauchy(size=sample_size)\n",
    "        cumulative_sum = np.cumsum(generated_values)                # cumulative sum\n",
    "        running_mean = cumulative_sum / np.arange(1, sample_size + 1)       # elementwise division for running averages\n",
    "        mean_array[i] = running_mean[-1]\n",
    "    \n",
    "    return mean_array"
   ],
   "id": "40a5c2f88eb14099",
   "outputs": [],
   "execution_count": null
  },
  {
   "metadata": {},
   "cell_type": "code",
   "source": [
    "# Define the simulation parameters.\n",
    "sample_sizes = [10, 100, 1000, 100000]\n",
    "iterations = 1000\n",
    "\n",
    "# Run the simulations for each sample size.\n",
    "results = {size: mc_simulation_cauchy(size, iterations) for size in sample_sizes}"
   ],
   "id": "1875c0f846c2fc8f",
   "outputs": [],
   "execution_count": null
  },
  {
   "metadata": {},
   "cell_type": "code",
   "source": [
    "# Create a figure with 4 subplots.\n",
    "fig, axs = plt.subplots(2, 2, figsize=(12, 10))\n",
    "axs = axs.flatten()  # Flatten the 2D array of axes for easy iteration.\n",
    "\n",
    "# Plot a histogram for each sample size.\n",
    "for i, size in enumerate(sample_sizes):\n",
    "    axs[i].hist(results[size], bins=30, color='skyblue', edgecolor='black')\n",
    "    axs[i].set_title(f'Sample size = {size}')\n",
    "    axs[i].set_xlabel('Final Running Mean')\n",
    "    axs[i].set_ylabel('Frequency')\n",
    "    axs[i].set_xlim([-100,100])\n",
    "\n",
    "plt.tight_layout()\n",
    "plt.show()"
   ],
   "id": "cb68fa7ecff0d86f",
   "outputs": [],
   "execution_count": null
  }
 ],
 "metadata": {
  "kernelspec": {
   "display_name": "Python 3",
   "language": "python",
   "name": "python3"
  },
  "language_info": {
   "codemirror_mode": {
    "name": "ipython",
    "version": 2
   },
   "file_extension": ".py",
   "mimetype": "text/x-python",
   "name": "python",
   "nbconvert_exporter": "python",
   "pygments_lexer": "ipython2",
   "version": "2.7.6"
  }
 },
 "nbformat": 4,
 "nbformat_minor": 5
}
