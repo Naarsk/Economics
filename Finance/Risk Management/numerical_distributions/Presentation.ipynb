{
 "cells": [
  {
   "metadata": {},
   "cell_type": "markdown",
   "source": "# Truncated Skewed Levy Distribution",
   "id": "c4228cacfb1b24a8"
  },
  {
   "metadata": {
    "ExecuteTime": {
     "end_time": "2025-03-27T09:00:42.304821Z",
     "start_time": "2025-03-27T09:00:39.735417Z"
    }
   },
   "cell_type": "code",
   "source": [
    "from levy_distribution import pdf_from_cf, dump_levy, load_levy, kde_fit_levy\n",
    "import matplotlib.pyplot as plt\n",
    "import numpy as np\n",
    "import time\n",
    "from scipy.stats import gaussian_kde\n",
    "import pandas as pd\n",
    "from arch import arch_model"
   ],
   "id": "d8bfa498b10bb5c2",
   "outputs": [],
   "execution_count": 1
  },
  {
   "metadata": {},
   "cell_type": "markdown",
   "source": "## Training data",
   "id": "f690913646a5da6b"
  },
  {
   "metadata": {
    "ExecuteTime": {
     "end_time": "2025-03-27T09:08:28.196842Z",
     "start_time": "2025-03-27T09:08:24.954774Z"
    }
   },
   "cell_type": "code",
   "source": [
    "dfs = pd.read_excel('../Indices_Data.xlsx', sheet_name=None)\n",
    "\n",
    "euronext100 = dfs['Euronext100'][['Date', 'Close']]\n",
    "stoxx50e = dfs['Stoxx50E'][['Date', 'Close']]\n",
    "snp500 = dfs['S&P500'][['Date', 'Close']]\n",
    "data = snp500.copy()\n",
    "data = data[(data['Date'] > '2006-01-01') & (data['Date'] < '2017-12-31')].reset_index()\n",
    "\n",
    "data['Returns'] = np.log(data['Close'] / data['Close'].shift(1))*100\n",
    "data['10 Days Returns'] = data['Returns'].rolling(window=10).sum()\n",
    "data['210 Days Returns'] = data['Returns'].rolling(window=210).sum()\n",
    "data = data.iloc[251:].reset_index()"
   ],
   "id": "de0dad00e121b5af",
   "outputs": [],
   "execution_count": 8
  },
  {
   "metadata": {},
   "cell_type": "code",
   "source": "print(data[['Date','Returns']])",
   "id": "69d0b14cf8728546",
   "outputs": [],
   "execution_count": null
  },
  {
   "metadata": {},
   "cell_type": "markdown",
   "source": [
    "## Fit the Garch\n",
    "The Garch model:"
   ],
   "id": "38ef51a49f45acc0"
  },
  {
   "metadata": {
    "ExecuteTime": {
     "end_time": "2025-03-27T09:13:55.212291Z",
     "start_time": "2025-03-27T09:13:55.202384Z"
    }
   },
   "cell_type": "code",
   "source": [
    "def model(returns : pd.DataFrame, omega, alpha, gamma, beta, kappa):\n",
    "    t_max = len(returns)\n",
    "    epsilon = np.zeros(t_max)\n",
    "    sigma = np.zeros(t_max+1)\n",
    "\n",
    "    sigma[0]= returns.std()\n",
    "    \n",
    "    for t in range(t_max):\n",
    "        if returns[t]<0:\n",
    "            leverage=1\n",
    "        else:\n",
    "            leverage=0\n",
    "        epsilon[t] = returns[t]/sigma[t]\n",
    "        sigma[t+1] = np.power(omega + alpha*np.power(np.abs(epsilon[t]),kappa)+gamma*leverage*np.power(np.abs(epsilon[t]),kappa)+beta*np.power(sigma[t],kappa), 1/kappa)\n",
    "    return sigma"
   ],
   "id": "e3b95a196926b319",
   "outputs": [],
   "execution_count": 17
  },
  {
   "metadata": {},
   "cell_type": "code",
   "outputs": [],
   "execution_count": null,
   "source": [
    "garch = arch_model(data['Returns'], p=1, q=1, o=1, power=1.76, dist='normal')\n",
    "results=garch.fit()"
   ],
   "id": "dc304e6dcd621798"
  },
  {
   "metadata": {},
   "cell_type": "code",
   "outputs": [],
   "execution_count": null,
   "source": "results.summary()",
   "id": "5b9297eff0331840"
  },
  {
   "metadata": {},
   "cell_type": "code",
   "outputs": [],
   "execution_count": null,
   "source": "print(results.params)",
   "id": "bf9361b899b28541"
  },
  {
   "metadata": {},
   "cell_type": "code",
   "source": [
    "mean = results.params['mu']\n",
    "std_dev = model(data['Returns'],omega=results.params['omega'],alpha=results.params['alpha[1]'],gamma = results.params['gamma[1]'], beta=results.params['beta[1]'], kappa=1.76)"
   ],
   "id": "2825635e3aff256a",
   "outputs": [],
   "execution_count": null
  },
  {
   "metadata": {},
   "cell_type": "code",
   "source": [
    "data['Standardized Returns'] = (data['Returns']-mean)/std_dev[:-1]\n",
    "data['Volatilities'] = std_dev[:-1]"
   ],
   "id": "1ea291a33fa61568",
   "outputs": [],
   "execution_count": null
  },
  {
   "metadata": {},
   "cell_type": "code",
   "source": [
    "kde= gaussian_kde(data['Standardized Returns'])\n",
    "x_values = np.linspace(-5,5,1000)\n",
    "y_kde=kde(x_values)"
   ],
   "id": "1fe72280db6a7d",
   "outputs": [],
   "execution_count": null
  },
  {
   "metadata": {},
   "cell_type": "code",
   "source": [
    "plt.figure(figsize=(7, 5))\n",
    "plt.hist(data['Standardized Returns'], range=(-5, 5), bins=60, density=True, color='green')\n",
    "plt.plot(x_values,y_kde, color='red', linewidth = 2)\n",
    "plt.show()"
   ],
   "id": "3c238ec5924bc318",
   "outputs": [],
   "execution_count": null
  },
  {
   "metadata": {},
   "cell_type": "markdown",
   "source": [
    "## KDE Fit the PDF\n",
    "On the standardized normal"
   ],
   "id": "19bb782d9df7875"
  },
  {
   "metadata": {},
   "cell_type": "code",
   "source": [
    "n_points = 9\n",
    "alpha_grid = np.linspace(0.75,0.81,n_points)\n",
    "lam_grid = np.linspace(1.60,1.80,n_points)\n",
    "beta_grid = np.linspace(-0.12,-0.18,n_points)"
   ],
   "id": "a147f3e0e4dabe43",
   "outputs": [],
   "execution_count": null
  },
  {
   "metadata": {},
   "cell_type": "code",
   "source": "kde_opt = kde_fit_levy(data['Standardized Returns'],alpha_grid=alpha_grid, lam_grid=lam_grid, beta_grid=beta_grid, n = 100, x_max=15, k_max=15.0, ln_2_k_points=10)",
   "id": "d008d1418ba9ed0e",
   "outputs": [],
   "execution_count": null
  },
  {
   "metadata": {},
   "cell_type": "code",
   "source": "print(kde_opt)",
   "id": "d500ed99354dddd2",
   "outputs": [],
   "execution_count": null
  },
  {
   "metadata": {},
   "cell_type": "code",
   "source": [
    "x_values = np.linspace(-5, 5, 1000)\n",
    "start_time = time.time()\n",
    "y_values = pdf_from_cf(x_values, 0, 1, kde_opt[0], kde_opt[1], kde_opt[2], k_max=15.0, ln_2_k_points=12, x_lim=25)\n",
    "print(\"It took %s seconds for 1000 evaluations\" % (time.time() - start_time))"
   ],
   "id": "76c7478a2021dbfe",
   "outputs": [],
   "execution_count": null
  },
  {
   "metadata": {},
   "cell_type": "code",
   "source": [
    "fig, ax = plt.subplots(figsize=(15,7), facecolor = 'white',dpi=200)\n",
    "ax.grid(color='#E8E8E9', linestyle='-', linewidth=0.8)\n",
    "ax.hist(data['Standardized Returns'], bins=90, density=True, color='#E8E8E8', edgecolor='#000000', label='S&P500 Standardized Returns')\n",
    "ax.plot(x_values, y_kde, label='Kernel Density Estimation', color='#000000', linewidth=1.75)\n",
    "ax.plot(x_values, y_values, label='Fitted Truncated Lévy', color='#C00000', linewidth=1.75)\n",
    "\n",
    "ax.legend()\n",
    "\n",
    "#sns.despine(ax=ax, left=True, bottom=True)\n",
    "\n",
    "ax.set_title(\"Truncated Lévy: \" + str(np.round(0.00,2)) + ' ' +  str(np.round(1.00,2)) + ' ' +   str(np.round(kde_opt[0],2)) + ' ' +   str(np.round(kde_opt[1],2)) + ' ' +   str(np.round(kde_opt[2],2)))\n",
    "\n",
    "plt.show()"
   ],
   "id": "d33fcc61ec4f9afa",
   "outputs": [],
   "execution_count": null
  },
  {
   "metadata": {},
   "cell_type": "markdown",
   "source": "## Save the distribution points",
   "id": "1ced85c202d30b65"
  },
  {
   "metadata": {},
   "cell_type": "code",
   "source": "# dump_levy(0,1,kde_opt[0],kde_opt[1],kde_opt[2],x_min=-20,x_max=20,x_points=40000,k_max=50,ln_2_k_points=15)",
   "id": "836b34cf59850e4d",
   "outputs": [],
   "execution_count": null
  },
  {
   "metadata": {
    "ExecuteTime": {
     "end_time": "2025-03-27T09:00:58.231004Z",
     "start_time": "2025-03-27T09:00:46.990040Z"
    }
   },
   "cell_type": "code",
   "source": "levy=load_levy('truncated_levy_0_1_0.76_1.68_-0.16.npz')",
   "id": "c3b6655fe22c3037",
   "outputs": [],
   "execution_count": 2
  },
  {
   "metadata": {},
   "cell_type": "markdown",
   "source": "## VaR Calculation",
   "id": "d8bcf4813a4e2136"
  },
  {
   "metadata": {
    "ExecuteTime": {
     "end_time": "2025-03-27T09:13:49.774505Z",
     "start_time": "2025-03-27T09:13:49.565154Z"
    }
   },
   "cell_type": "code",
   "source": [
    "x = np.linspace(-5,5,1000)\n",
    "y= levy.cdf(x)\n",
    "plt.plot(x,y)\n",
    "plt.show()"
   ],
   "id": "8a63b806e75d0fef",
   "outputs": [
    {
     "data": {
      "text/plain": [
       "<Figure size 640x480 with 1 Axes>"
      ],
      "image/png": "[encoded data removed]"
     },
     "metadata": {},
     "output_type": "display_data"
    }
   ],
   "execution_count": 16
  },
  {
   "metadata": {
    "ExecuteTime": {
     "end_time": "2025-03-27T09:02:58.951856Z",
     "start_time": "2025-03-27T09:02:58.941442Z"
    }
   },
   "cell_type": "code",
   "source": [
    "first_percentile = levy.ppf(0.01, loc=0.0, scale=1.0)\n",
    "print(first_percentile)"
   ],
   "id": "ca62f304f67509ad",
   "outputs": [
    {
     "name": "stdout",
     "output_type": "stream",
     "text": [
      "-2.962705133886335\n"
     ]
    }
   ],
   "execution_count": 5
  },
  {
   "metadata": {
    "ExecuteTime": {
     "end_time": "2025-03-27T09:03:05.497264Z",
     "start_time": "2025-03-27T09:03:04.418451Z"
    }
   },
   "cell_type": "code",
   "source": "data['1 Day VaR'] = first_percentile*data['Volatilities']",
   "id": "9cf440e915197b56",
   "outputs": [
    {
     "ename": "NameError",
     "evalue": "name 'data' is not defined",
     "output_type": "error",
     "traceback": [
      "\u001B[1;31m---------------------------------------------------------------------------\u001B[0m",
      "\u001B[1;31mNameError\u001B[0m                                 Traceback (most recent call last)",
      "Cell \u001B[1;32mIn[6], line 1\u001B[0m\n\u001B[1;32m----> 1\u001B[0m data[\u001B[38;5;124m'\u001B[39m\u001B[38;5;124m1 Day VaR\u001B[39m\u001B[38;5;124m'\u001B[39m] \u001B[38;5;241m=\u001B[39m first_percentile\u001B[38;5;241m*\u001B[39m\u001B[43mdata\u001B[49m[\u001B[38;5;124m'\u001B[39m\u001B[38;5;124mVolatilities\u001B[39m\u001B[38;5;124m'\u001B[39m]\n",
      "\u001B[1;31mNameError\u001B[0m: name 'data' is not defined"
     ]
    }
   ],
   "execution_count": 6
  },
  {
   "metadata": {},
   "cell_type": "code",
   "source": [
    "plt.figure(figsize=(15,7))\n",
    "plt.plot(data['Date'],data['Returns'],label='1 Day Returns', color='black',linewidth = 0.3)\n",
    "plt.plot(data['Date'],data['1 Day VaR'],label='1 Day VaR', color = '#C00000', linewidth = 0.3)\n",
    "plt.title('Training Data')\n",
    "plt.legend()\n",
    "plt.show()"
   ],
   "id": "c138864f3d478988",
   "outputs": [],
   "execution_count": null
  },
  {
   "metadata": {},
   "cell_type": "code",
   "source": "data['Violations']=data['1 Day VaR'] > data['Returns']",
   "id": "4db0bcb79f42b79",
   "outputs": [],
   "execution_count": null
  },
  {
   "metadata": {},
   "cell_type": "code",
   "source": "violations=data['Violations'].mean()*100",
   "id": "44ecbc0b3dd634bc",
   "outputs": [],
   "execution_count": null
  },
  {
   "metadata": {},
   "cell_type": "code",
   "source": "print(violations,'%')",
   "id": "b27b1d1f9b81f421",
   "outputs": [],
   "execution_count": null
  },
  {
   "metadata": {},
   "cell_type": "markdown",
   "source": "## Test Data",
   "id": "38f8dfa318d282bc"
  },
  {
   "metadata": {},
   "cell_type": "code",
   "outputs": [],
   "execution_count": null,
   "source": [
    "test_data= snp500.copy()\n",
    "test_data = test_data[(test_data['Date'] > '2017-12-31') & (test_data['Date'] < '2024-12-31')].reset_index()\n",
    "test_data['Returns'] = np.log(test_data['Close'] / test_data['Close'].shift(1)) * 100\n",
    "test_data = test_data.dropna().reset_index()"
   ],
   "id": "96ef27a94bd99ecc"
  },
  {
   "metadata": {},
   "cell_type": "code",
   "source": "test_data['Returns']",
   "id": "3332bfc1262dea72",
   "outputs": [],
   "execution_count": null
  },
  {
   "metadata": {},
   "cell_type": "code",
   "source": [
    "mean = results.params['mu']\n",
    "test_std_dev = model(test_data['Returns'],omega=results.params['omega'],alpha=results.params['alpha[1]'],gamma = results.params['gamma[1]'], beta=results.params['beta[1]'], kappa=1.76)"
   ],
   "id": "abdc2e266b7f3aad",
   "outputs": [],
   "execution_count": null
  },
  {
   "metadata": {},
   "cell_type": "code",
   "source": "test_std_dev",
   "id": "da72274a5d7246b7",
   "outputs": [],
   "execution_count": null
  },
  {
   "metadata": {},
   "cell_type": "code",
   "source": [
    "test_data['Standardized Returns'] = (test_data['Returns']-mean)/test_std_dev[:-1]\n",
    "test_data['Volatilities'] = test_std_dev[:-1]\n",
    "test_data['1 Day VaR'] = first_percentile * test_data['Volatilities']\n",
    "test_data['Violations'] = test_data['1 Day VaR'] > test_data['Returns']\n",
    "test_violations=test_data['Violations'].mean()*100"
   ],
   "id": "824638d1f2d8d9e0",
   "outputs": [],
   "execution_count": null
  },
  {
   "metadata": {},
   "cell_type": "code",
   "source": "print(test_violations)",
   "id": "d3ded9f0784ef3c1",
   "outputs": [],
   "execution_count": null
  },
  {
   "metadata": {},
   "cell_type": "code",
   "source": [
    "plt.figure(figsize=(15,7))\n",
    "plt.plot(test_data['Date'],test_data['Returns'],label='1 Day Returns', color='black',linewidth = 0.3)\n",
    "plt.plot(test_data['Date'],test_data['1 Day VaR'],label='1 Day VaR', color = '#C00000', linewidth = 0.3)\n",
    "plt.title('Test Data')\n",
    "plt.legend()\n",
    "plt.show()"
   ],
   "id": "776c07d52b463b74",
   "outputs": [],
   "execution_count": null
  },
  {
   "metadata": {},
   "cell_type": "markdown",
   "source": "# Scaling to 10 Days VaR",
   "id": "6166313bbbffcda7"
  },
  {
   "metadata": {
    "ExecuteTime": {
     "end_time": "2025-03-27T09:12:19.934929Z",
     "start_time": "2025-03-27T09:12:19.845131Z"
    }
   },
   "cell_type": "code",
   "source": [
    "biweekly_garch = arch_model(data['10 Days Returns'], p=1, q=1, o=1, power=1.76, dist='normal')\n",
    "biweekly_results=garch.fit()"
   ],
   "id": "64352415ad45a321",
   "outputs": [
    {
     "name": "stdout",
     "output_type": "stream",
     "text": [
      "Iteration:      1,   Func. Count:      7,   Neg. LLF: 19971.475758929766\n",
      "Iteration:      2,   Func. Count:     18,   Neg. LLF: 6280561613.784792\n",
      "Iteration:      3,   Func. Count:     26,   Neg. LLF: 9000.12764159297\n",
      "Iteration:      4,   Func. Count:     34,   Neg. LLF: 6213.016089379715\n",
      "Iteration:      5,   Func. Count:     41,   Neg. LLF: 6082.262054177983\n",
      "Iteration:      6,   Func. Count:     49,   Neg. LLF: 6028.822240984374\n",
      "Iteration:      7,   Func. Count:     56,   Neg. LLF: 6090.965030451453\n",
      "Iteration:      8,   Func. Count:     63,   Neg. LLF: 6014.695000800369\n",
      "Iteration:      9,   Func. Count:     69,   Neg. LLF: 6014.571613324219\n",
      "Iteration:     10,   Func. Count:     75,   Neg. LLF: 6014.53200032488\n",
      "Iteration:     11,   Func. Count:     81,   Neg. LLF: 6014.52085854295\n",
      "Iteration:     12,   Func. Count:     87,   Neg. LLF: 6014.519598730594\n",
      "Iteration:     13,   Func. Count:     93,   Neg. LLF: 6014.518678514619\n",
      "Iteration:     14,   Func. Count:     99,   Neg. LLF: 6014.5181685471925\n",
      "Iteration:     15,   Func. Count:    105,   Neg. LLF: 6014.5180587738\n",
      "Iteration:     16,   Func. Count:    111,   Neg. LLF: 6014.518051351349\n",
      "Iteration:     17,   Func. Count:    116,   Neg. LLF: 6014.518051351522\n",
      "Optimization terminated successfully    (Exit mode 0)\n",
      "            Current function value: 6014.518051351349\n",
      "            Iterations: 17\n",
      "            Function evaluations: 116\n",
      "            Gradient evaluations: 17\n"
     ]
    }
   ],
   "execution_count": 13
  },
  {
   "metadata": {
    "ExecuteTime": {
     "end_time": "2025-03-27T09:12:26.367568Z",
     "start_time": "2025-03-27T09:12:26.318742Z"
    }
   },
   "cell_type": "code",
   "source": "biweekly_results.summary()",
   "id": "a73cd27003aa4b83",
   "outputs": [
    {
     "data": {
      "text/plain": [
       "<class 'statsmodels.iolib.summary.Summary'>\n",
       "\"\"\"\n",
       "               Constant Mean - Asym. Power GARCH (power: 1.8) Model Results               \n",
       "==========================================================================================\n",
       "Dep. Variable:                    10 Days Returns   R-squared:                       0.000\n",
       "Mean Model:                         Constant Mean   Adj. R-squared:                  0.000\n",
       "Vol Model:         Asym. Power GARCH (power: 1.8)   Log-Likelihood:               -6014.52\n",
       "Distribution:                              Normal   AIC:                           12039.0\n",
       "Method:                        Maximum Likelihood   BIC:                           12068.7\n",
       "                                                    No. Observations:                 2769\n",
       "Date:                            Thu, Mar 27 2025   Df Residuals:                     2768\n",
       "Time:                                    10:12:19   Df Model:                            1\n",
       "                               Mean Model                               \n",
       "========================================================================\n",
       "                 coef    std err          t      P>|t|  95.0% Conf. Int.\n",
       "------------------------------------------------------------------------\n",
       "mu             0.7806  8.621e-02      9.054  1.381e-19 [  0.612,  0.950]\n",
       "                             Volatility Model                             \n",
       "==========================================================================\n",
       "                 coef    std err          t      P>|t|    95.0% Conf. Int.\n",
       "--------------------------------------------------------------------------\n",
       "omega          0.5775      0.150      3.856  1.155e-04   [  0.284,  0.871]\n",
       "alpha[1]       0.6087  6.793e-02      8.961  3.211e-19   [  0.476,  0.742]\n",
       "gamma[1]       0.0918  4.210e-02      2.180  2.925e-02 [9.266e-03,  0.174]\n",
       "beta[1]        0.3108  8.135e-02      3.820  1.333e-04   [  0.151,  0.470]\n",
       "==========================================================================\n",
       "\n",
       "Covariance estimator: robust\n",
       "\"\"\""
      ],
      "text/html": [
       "<table class=\"simpletable\">\n",
       "<caption>Constant Mean - Asym. Power GARCH (power: 1.8) Model Results</caption>\n",
       "<tr>\n",
       "  <th>Dep. Variable:</th>         <td>10 Days Returns</td>        <th>  R-squared:         </th>  <td>   0.000</td> \n",
       "</tr>\n",
       "<tr>\n",
       "  <th>Mean Model:</th>             <td>Constant Mean</td>         <th>  Adj. R-squared:    </th>  <td>   0.000</td> \n",
       "</tr>\n",
       "<tr>\n",
       "  <th>Vol Model:</th>     <td>Asym. Power GARCH (power: 1.8)</td> <th>  Log-Likelihood:    </th> <td>  -6014.52</td>\n",
       "</tr>\n",
       "<tr>\n",
       "  <th>Distribution:</th>              <td>Normal</td>             <th>  AIC:               </th> <td>   12039.0</td>\n",
       "</tr>\n",
       "<tr>\n",
       "  <th>Method:</th>              <td>Maximum Likelihood</td>       <th>  BIC:               </th> <td>   12068.7</td>\n",
       "</tr>\n",
       "<tr>\n",
       "  <th></th>                              <td></td>                <th>  No. Observations:  </th>    <td>2769</td>   \n",
       "</tr>\n",
       "<tr>\n",
       "  <th>Date:</th>                 <td>Thu, Mar 27 2025</td>        <th>  Df Residuals:      </th>    <td>2768</td>   \n",
       "</tr>\n",
       "<tr>\n",
       "  <th>Time:</th>                     <td>10:12:19</td>            <th>  Df Model:          </th>      <td>1</td>    \n",
       "</tr>\n",
       "</table>\n",
       "<table class=\"simpletable\">\n",
       "<caption>Mean Model</caption>\n",
       "<tr>\n",
       "   <td></td>     <th>coef</th>     <th>std err</th>      <th>t</th>       <th>P>|t|</th>   <th>95.0% Conf. Int.</th> \n",
       "</tr>\n",
       "<tr>\n",
       "  <th>mu</th> <td>    0.7806</td> <td>8.621e-02</td> <td>    9.054</td> <td>1.381e-19</td> <td>[  0.612,  0.950]</td>\n",
       "</tr>\n",
       "</table>\n",
       "<table class=\"simpletable\">\n",
       "<caption>Volatility Model</caption>\n",
       "<tr>\n",
       "      <td></td>        <th>coef</th>     <th>std err</th>      <th>t</th>       <th>P>|t|</th>    <th>95.0% Conf. Int.</th>  \n",
       "</tr>\n",
       "<tr>\n",
       "  <th>omega</th>    <td>    0.5775</td> <td>    0.150</td> <td>    3.856</td> <td>1.155e-04</td>  <td>[  0.284,  0.871]</td> \n",
       "</tr>\n",
       "<tr>\n",
       "  <th>alpha[1]</th> <td>    0.6087</td> <td>6.793e-02</td> <td>    8.961</td> <td>3.211e-19</td>  <td>[  0.476,  0.742]</td> \n",
       "</tr>\n",
       "<tr>\n",
       "  <th>gamma[1]</th> <td>    0.0918</td> <td>4.210e-02</td> <td>    2.180</td> <td>2.925e-02</td> <td>[9.266e-03,  0.174]</td>\n",
       "</tr>\n",
       "<tr>\n",
       "  <th>beta[1]</th>  <td>    0.3108</td> <td>8.135e-02</td> <td>    3.820</td> <td>1.333e-04</td>  <td>[  0.151,  0.470]</td> \n",
       "</tr>\n",
       "</table><br/><br/>Covariance estimator: robust"
      ],
      "text/latex": "\\begin{center}\n\\begin{tabular}{lclc}\n\\toprule\n\\textbf{Dep. Variable:} &        10 Days Returns         & \\textbf{  R-squared:         } &     0.000   \\\\\n\\textbf{Mean Model:}    &         Constant Mean          & \\textbf{  Adj. R-squared:    } &     0.000   \\\\\n\\textbf{Vol Model:}     & Asym. Power GARCH (power: 1.8) & \\textbf{  Log-Likelihood:    } &   -6014.52  \\\\\n\\textbf{Distribution:}  &             Normal             & \\textbf{  AIC:               } &    12039.0  \\\\\n\\textbf{Method:}        &       Maximum Likelihood       & \\textbf{  BIC:               } &    12068.7  \\\\\n\\textbf{}               &                                & \\textbf{  No. Observations:  } &    2769     \\\\\n\\textbf{Date:}          &        Thu, Mar 27 2025        & \\textbf{  Df Residuals:      } &    2768     \\\\\n\\textbf{Time:}          &            10:12:19            & \\textbf{  Df Model:          } &     1       \\\\\n\\bottomrule\n\\end{tabular}\n\\begin{tabular}{lccccc}\n            & \\textbf{coef} & \\textbf{std err} & \\textbf{t} & \\textbf{P$> |$t$|$} & \\textbf{95.0\\% Conf. Int.}  \\\\\n\\midrule\n\\textbf{mu} &       0.7806  &    8.621e-02     &     9.054  &      1.381e-19       &     [  0.612,  0.950]       \\\\\n                  & \\textbf{coef} & \\textbf{std err} & \\textbf{t} & \\textbf{P$> |$t$|$} & \\textbf{95.0\\% Conf. Int.}  \\\\\n\\midrule\n\\textbf{omega}    &       0.5775  &        0.150     &     3.856  &      1.155e-04       &     [  0.284,  0.871]       \\\\\n\\textbf{alpha[1]} &       0.6087  &    6.793e-02     &     8.961  &      3.211e-19       &     [  0.476,  0.742]       \\\\\n\\textbf{gamma[1]} &       0.0918  &    4.210e-02     &     2.180  &      2.925e-02       &    [9.266e-03,  0.174]      \\\\\n\\textbf{beta[1]}  &       0.3108  &    8.135e-02     &     3.820  &      1.333e-04       &     [  0.151,  0.470]       \\\\\n\\bottomrule\n\\end{tabular}\n%\\caption{Constant Mean - Asym. Power GARCH (power: 1.8) Model Results}\n\\end{center}\n\nCovariance estimator: robust"
     },
     "execution_count": 14,
     "metadata": {},
     "output_type": "execute_result"
    }
   ],
   "execution_count": 14
  },
  {
   "metadata": {
    "ExecuteTime": {
     "end_time": "2025-03-27T09:15:35.940926Z",
     "start_time": "2025-03-27T09:15:35.882184Z"
    }
   },
   "cell_type": "code",
   "source": [
    "mean = biweekly_results.params['mu']\n",
    "std_dev = model(data['10 Days Returns'],omega=biweekly_results.params['omega'],alpha=biweekly_results.params['alpha[1]'],gamma = biweekly_results.params['gamma[1]'], beta=biweekly_results.params['beta[1]'], kappa=1.76)"
   ],
   "id": "1e6999f5d27093fa",
   "outputs": [],
   "execution_count": 19
  },
  {
   "metadata": {},
   "cell_type": "code",
   "outputs": [],
   "execution_count": null,
   "source": [
    "data['Standardized 10Returns'] = (data['Returns']-mean)/std_dev[:-1]\n",
    "data['Volatilities'] = std_dev[:-1]"
   ],
   "id": "827ac11f04e2b2a"
  }
 ],
 "metadata": {
  "kernelspec": {
   "display_name": "Python 3",
   "language": "python",
   "name": "python3"
  },
  "language_info": {
   "codemirror_mode": {
    "name": "ipython",
    "version": 2
   },
   "file_extension": ".py",
   "mimetype": "text/x-python",
   "name": "python",
   "nbconvert_exporter": "python",
   "pygments_lexer": "ipython2",
   "version": "2.7.6"
  }
 },
 "nbformat": 4,
 "nbformat_minor": 5
}
