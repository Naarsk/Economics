{
 "cells": [
  {
   "metadata": {},
   "cell_type": "markdown",
   "source": "# Truncated Skewed Levy Distribution",
   "id": "c4228cacfb1b24a8"
  },
  {
   "metadata": {
    "ExecuteTime": {
     "end_time": "2025-03-25T22:57:36.453551Z",
     "start_time": "2025-03-25T22:57:34.697517Z"
    }
   },
   "cell_type": "code",
   "source": [
    "from levy_distribution import pdf_from_cf, dump_levy, load_levy, histo_fit_levy, fit_levy\n",
    "import matplotlib.pyplot as plt\n",
    "import numpy as np\n",
    "import time\n",
    "from scipy.stats import norm\n",
    "import pandas as pd"
   ],
   "id": "d8bfa498b10bb5c2",
   "outputs": [],
   "execution_count": 1
  },
  {
   "metadata": {
    "collapsed": true
   },
   "cell_type": "code",
   "source": [
    "mu = 0.0\n",
    "c = 1\n",
    "alpha = 0.656\n",
    "lam = 0.8\n",
    "beta = -0.226"
   ],
   "id": "initial_id",
   "outputs": [],
   "execution_count": null
  },
  {
   "metadata": {},
   "cell_type": "markdown",
   "source": "## Evaluate at some points",
   "id": "a608e11b825b4adc"
  },
  {
   "metadata": {},
   "cell_type": "code",
   "source": [
    "x= [0.2, 2, -1]\n",
    "pdf_from_cf(x,mu,c,alpha,lam,beta)"
   ],
   "id": "1e1783669acf8d7d",
   "outputs": [],
   "execution_count": null
  },
  {
   "metadata": {},
   "cell_type": "markdown",
   "source": [
    "## Make a plot\n",
    "Takes around 4 seconds for 1000 points"
   ],
   "id": "ab134c2427702514"
  },
  {
   "metadata": {},
   "cell_type": "code",
   "source": [
    "x_values = np.linspace(-10, 10, 1000)\n",
    "start_time = time.time()\n",
    "y_values = pdf_from_cf(x_values, mu, c, alpha, lam, beta, k_max=25.0, ln_2_k_points=14, x_lim=250)\n",
    "print(\"It took %s seconds for 1000 evaluations\" % (time.time() - start_time))\n",
    "# It takes 4 seconds for 1000 evaluations\n",
    "\n",
    "pdf_gaussian = norm.pdf(x_values, loc=mu, scale=c)\n",
    "# Plot the resulting PDF:\n",
    "plt.figure(figsize=(7, 5))\n",
    "plt.plot(x_values, y_values, label='Truncated Lévy')\n",
    "plt.plot(x_values, pdf_gaussian, label='Gaussian')\n",
    "\n",
    "plt.title(\"Truncated Lévy vs Gaussian PDF\")\n",
    "plt.xlabel(\"x\")\n",
    "plt.ylabel(\"pdf(x)\")\n",
    "plt.legend()\n",
    "plt.grid(True)\n",
    "plt.show()"
   ],
   "id": "cd0b5548bd9edf0c",
   "outputs": [],
   "execution_count": null
  },
  {
   "metadata": {},
   "cell_type": "markdown",
   "source": [
    "## Dump the data points to a file\n",
    "Takes 40 seconds for 10000 points"
   ],
   "id": "fa6d1697d07e988b"
  },
  {
   "metadata": {},
   "cell_type": "code",
   "source": "path = dump_levy(mu,c,alpha, lam, beta, x_min=-15, x_max=15, x_points=10000, filename='data/my_levy', k_max=15, ln_2_k_points=12)",
   "id": "fc6bb42ee82acf72",
   "outputs": [],
   "execution_count": null
  },
  {
   "metadata": {},
   "cell_type": "markdown",
   "source": [
    "## Reload the saved data points\n",
    "This will give a scipy.stats distribution for the fixed parameters, which allows for various operations, like evaluating moments and also sampling"
   ],
   "id": "17a516d7ca7c9584"
  },
  {
   "metadata": {},
   "cell_type": "code",
   "source": [
    "filename = 'data/my_levy_' + str(np.round(mu,2)) + '_' +  str(np.round(c,2)) + '_' +   str(np.round(alpha,2)) + '_' +   str(np.round(lam,2)) + '_' +   str(np.round(beta,2))+'.npz'\n",
    "\n",
    "my_levy = load_levy('data/my_levy_0.0_1_0.67_0.84_-0.28.npz')"
   ],
   "id": "b83a820645abcdd1",
   "outputs": [],
   "execution_count": null
  },
  {
   "metadata": {},
   "cell_type": "markdown",
   "source": "Sample from the distribution, and plot the histogram",
   "id": "506e9fadfcdb4230"
  },
  {
   "metadata": {},
   "cell_type": "code",
   "source": "sample = my_levy.rvs(size = 1000)",
   "id": "fed430f73ba19ce3",
   "outputs": [],
   "execution_count": null
  },
  {
   "metadata": {},
   "cell_type": "code",
   "source": [
    "plt.figure(figsize=(7, 5))\n",
    "plt.hist(sample, bins=30, density=True)\n",
    "plt.plot(x_values, y_values, label='Truncated Lévy')\n",
    "plt.title(\"Truncated Lévy\")\n",
    "plt.xlabel(\"x\")\n",
    "plt.ylabel(\"pdf(x)\")\n",
    "plt.legend()\n",
    "plt.show()"
   ],
   "id": "269a40ec320460b8",
   "outputs": [],
   "execution_count": null
  },
  {
   "metadata": {},
   "cell_type": "markdown",
   "source": "## Real data",
   "id": "f690913646a5da6b"
  },
  {
   "metadata": {
    "ExecuteTime": {
     "end_time": "2025-03-25T22:58:16.036093Z",
     "start_time": "2025-03-25T22:58:13.212358Z"
    }
   },
   "cell_type": "code",
   "source": [
    "dfs = pd.read_excel('../Indices_Data.xlsx', sheet_name=None)\n",
    "\n",
    "euronext100 = dfs['Euronext100'][['Date', 'Close']]\n",
    "stoxx50e = dfs['Stoxx50E'][['Date', 'Close']]\n",
    "snp500 = dfs['S&P500'][['Date', 'Close']][18000:]\n",
    "data = snp500.copy()\n",
    "\n",
    "data['Returns'] = data['Close'].dropna().pct_change()\n",
    "\n",
    "std_dev = data['Returns'].std()\n",
    "mean = data['Returns'].mean()\n",
    "data['Scaled Returns'] = (data['Returns']-mean)/std_dev"
   ],
   "id": "de0dad00e121b5af",
   "outputs": [],
   "execution_count": 2
  },
  {
   "metadata": {},
   "cell_type": "code",
   "source": [
    "plt.figure(figsize=(7, 5))\n",
    "plt.hist(data['Scaled Returns'], range=(-5, 5), bins=30, density=True, color='green')\n",
    "plt.hist(sample,range=(-5, 5), bins=30, density=True, alpha=0.5, color='red')\n",
    "plt.plot(x_values, y_values, label='Truncated Lévy', color='red')\n",
    "plt.title(\"Truncated Lévy: \" + str(np.round(mu,2)) + ' ' +  str(np.round(c,2)) + ' ' +   str(np.round(alpha,2)) + ' ' +   str(np.round(lam,2)) + ' ' +   str(np.round(beta,2))\n",
    ")\n",
    "plt.show()"
   ],
   "id": "988949b361583d28",
   "outputs": [],
   "execution_count": null
  },
  {
   "metadata": {},
   "cell_type": "markdown",
   "source": "## Fit the PDF",
   "id": "e2b0d51def18a076"
  },
  {
   "metadata": {
    "jupyter": {
     "is_executing": true
    },
    "ExecuteTime": {
     "start_time": "2025-03-26T08:13:43.727776Z"
    }
   },
   "cell_type": "code",
   "source": [
    "n_points = 57\n",
    "alpha_grid = np.linspace(0.65,0.81,n_points)\n",
    "lam_grid = np.linspace(1.8,4.10,n_points)\n",
    "beta_grid = np.linspace(-0.29,-0.45,n_points)\n",
    "\n",
    "opt = histo_fit_levy(data['Scaled Returns'],alpha_grid=alpha_grid, lam_grid=lam_grid, beta_grid=beta_grid , n_bins = 30, k_max=15.0, ln_2_k_points=12)"
   ],
   "id": "948c0803fa0e8ecd",
   "outputs": [],
   "execution_count": null
  },
  {
   "metadata": {
    "ExecuteTime": {
     "end_time": "2025-03-25T22:50:28.071156Z",
     "start_time": "2025-03-25T22:50:27.484291Z"
    }
   },
   "cell_type": "code",
   "source": [
    "x_values = np.linspace(-5, 5, 1000)\n",
    "start_time = time.time()\n",
    "y_values = pdf_from_cf(x_values, 0, 1, opt[0], opt[1], opt[2], k_max=15.0, ln_2_k_points=12, x_lim=25)\n",
    "print(\"It took %s seconds for 1000 evaluations\" % (time.time() - start_time))"
   ],
   "id": "b07febb91b421e84",
   "outputs": [
    {
     "name": "stdout",
     "output_type": "stream",
     "text": [
      "It took 0.5808632373809814 seconds for 1000 evaluations\n"
     ]
    }
   ],
   "execution_count": 23
  },
  {
   "metadata": {
    "ExecuteTime": {
     "end_time": "2025-03-25T22:50:28.230492Z",
     "start_time": "2025-03-25T22:50:28.091006Z"
    }
   },
   "cell_type": "code",
   "source": [
    "plt.figure(figsize=(7, 5))\n",
    "plt.hist(data['Scaled Returns'], range=(-5, 5), bins=30, density=True, color='green')\n",
    "plt.plot(x_values, y_values, label='Truncated Lévy', color='red')\n",
    "plt.title(\"Truncated Lévy: \" + str(np.round(0,2)) + ' ' +  str(np.round(1,2)) + ' ' +   str(np.round(opt[0],3)) + ' ' +   str(np.round(opt[1],3)) + ' ' +   str(np.round(opt[2],3))\n",
    ")\n",
    "plt.show()"
   ],
   "id": "f7f697328f7af8ad",
   "outputs": [
    {
     "data": {
      "text/plain": [
       "<Figure size 700x500 with 1 Axes>"
      ],
      "image/png": "[encoded data removed]"
     },
     "metadata": {},
     "output_type": "display_data"
    }
   ],
   "execution_count": 24
  },
  {
   "metadata": {
    "ExecuteTime": {
     "end_time": "2025-03-25T23:36:06.012746Z",
     "start_time": "2025-03-25T22:58:21.112475Z"
    }
   },
   "cell_type": "code",
   "source": [
    "initial_guess = np.array([0.69, 2, -0.34])\n",
    "result = fit_levy(data['Scaled Returns'], initial_guess, k_max=15.0, ln_2_k_points=12)"
   ],
   "id": "2a3a361486d9918",
   "outputs": [
    {
     "name": "stderr",
     "output_type": "stream",
     "text": [
      "C:\\Users\\leocr\\Projects\\Economics\\.venv\\Lib\\site-packages\\scipy\\optimize\\_optimize.py:851: RuntimeWarning: invalid value encountered in subtract\n",
      "  np.max(np.abs(fsim[0] - fsim[1:])) <= fatol):\n"
     ]
    }
   ],
   "execution_count": 3
  },
  {
   "metadata": {},
   "cell_type": "code",
   "outputs": [],
   "execution_count": null,
   "source": "",
   "id": "42e93066c4d33caf"
  }
 ],
 "metadata": {
  "kernelspec": {
   "display_name": "Python 3",
   "language": "python",
   "name": "python3"
  },
  "language_info": {
   "codemirror_mode": {
    "name": "ipython",
    "version": 2
   },
   "file_extension": ".py",
   "mimetype": "text/x-python",
   "name": "python",
   "nbconvert_exporter": "python",
   "pygments_lexer": "ipython2",
   "version": "2.7.6"
  }
 },
 "nbformat": 4,
 "nbformat_minor": 5
}
