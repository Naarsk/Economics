{
 "cells": [
  {
   "metadata": {
    "ExecuteTime": {
     "end_time": "2024-10-22T13:43:33.968385Z",
     "start_time": "2024-10-22T13:43:32.223729Z"
    }
   },
   "cell_type": "code",
   "source": [
    "%matplotlib inline\n",
    "import matplotlib.pyplot as plt\n",
    "import numpy as np\n",
    "import pandas as pd\n",
    "import statsmodels.api as sm\n",
    "\n",
    "np.random.seed(9876789)\n"
   ],
   "id": "8f4cc8306f6abee",
   "outputs": [],
   "execution_count": 1
  },
  {
   "metadata": {
    "ExecuteTime": {
     "end_time": "2024-10-22T13:43:33.978089Z",
     "start_time": "2024-10-22T13:43:33.968385Z"
    }
   },
   "cell_type": "code",
   "source": [
    "n_points = 100\n",
    "# assume 'X' is your independent variable and 'y' is your dependent variable\n",
    "X = np.linspace(0, 10, n_points)  # your data here\n",
    "y = 5* X + 3*np.random.normal(0, 1, n_points) + 20 # your data here\n",
    "\n",
    "# add a constant to the independent value to get an intercept term\n",
    "X = sm.add_constant(X)\n",
    "\n",
    "# fit the model\n",
    "model = sm.OLS(y, X).fit()\n",
    "\n"
   ],
   "id": "8815c4ef8eedd3cc",
   "outputs": [],
   "execution_count": 2
  },
  {
   "metadata": {
    "ExecuteTime": {
     "end_time": "2024-10-22T13:43:34.266140Z",
     "start_time": "2024-10-22T13:43:34.164517Z"
    }
   },
   "cell_type": "code",
   "source": [
    "# get the predicted values\n",
    "y_pred = model.predict(X)\n",
    "\n",
    "# plot the data points\n",
    "plt.scatter(X[:, 1], y)\n",
    "\n",
    "# plot the regression line\n",
    "plt.plot(X[:, 1], y_pred, color='red')\n",
    "\n",
    "# show the plot\n",
    "plt.show()"
   ],
   "id": "b12a9708e2465f90",
   "outputs": [
    {
     "data": {
      "text/plain": [
       "<Figure size 640x480 with 1 Axes>"
      ],
      "image/png": "[encoded data removed]"
     },
     "metadata": {},
     "output_type": "display_data"
    }
   ],
   "execution_count": 3
  },
  {
   "metadata": {
    "ExecuteTime": {
     "end_time": "2024-10-22T13:43:34.333278Z",
     "start_time": "2024-10-22T13:43:34.316799Z"
    }
   },
   "cell_type": "code",
   "source": [
    "\n",
    "print(model.summary())\n"
   ],
   "id": "d00765d7f0674371",
   "outputs": [
    {
     "name": "stdout",
     "output_type": "stream",
     "text": [
      "                            OLS Regression Results                            \n",
      "==============================================================================\n",
      "Dep. Variable:                      y   R-squared:                       0.953\n",
      "Model:                            OLS   Adj. R-squared:                  0.953\n",
      "Method:                 Least Squares   F-statistic:                     2005.\n",
      "Date:                Tue, 22 Oct 2024   Prob (F-statistic):           4.68e-67\n",
      "Time:                        15:43:34   Log-Likelihood:                -256.65\n",
      "No. Observations:                 100   AIC:                             517.3\n",
      "Df Residuals:                      98   BIC:                             522.5\n",
      "Df Model:                           1                                         \n",
      "Covariance Type:            nonrobust                                         \n",
      "==============================================================================\n",
      "                 coef    std err          t      P>|t|      [0.025      0.975]\n",
      "------------------------------------------------------------------------------\n",
      "const         20.5195      0.632     32.480      0.000      19.266      21.773\n",
      "x1             4.8869      0.109     44.773      0.000       4.670       5.103\n",
      "==============================================================================\n",
      "Omnibus:                        1.739   Durbin-Watson:                   2.261\n",
      "Prob(Omnibus):                  0.419   Jarque-Bera (JB):                1.749\n",
      "Skew:                           0.257   Prob(JB):                        0.417\n",
      "Kurtosis:                       2.607   Cond. No.                         11.7\n",
      "==============================================================================\n",
      "\n",
      "Notes:\n",
      "[1] Standard Errors assume that the covariance matrix of the errors is correctly specified.\n"
     ]
    }
   ],
   "execution_count": 4
  },
  {
   "metadata": {
    "ExecuteTime": {
     "end_time": "2024-10-22T13:43:34.371464Z",
     "start_time": "2024-10-22T13:43:34.365050Z"
    }
   },
   "cell_type": "code",
   "source": [
    "print(\"Parameters: \", model.params)\n",
    "print(\"R2: \", model.rsquared)\n"
   ],
   "id": "bb6a7e6592efba45",
   "outputs": [
    {
     "name": "stdout",
     "output_type": "stream",
     "text": [
      "Parameters:  [20.51950541  4.88685875]\n",
      "R2:  0.9533916065950295\n"
     ]
    }
   ],
   "execution_count": 5
  }
 ],
 "metadata": {
  "kernelspec": {
   "display_name": "Python 3",
   "language": "python",
   "name": "python3"
  },
  "language_info": {
   "codemirror_mode": {
    "name": "ipython",
    "version": 2
   },
   "file_extension": ".py",
   "mimetype": "text/x-python",
   "name": "python",
   "nbconvert_exporter": "python",
   "pygments_lexer": "ipython2",
   "version": "2.7.6"
  }
 },
 "nbformat": 4,
 "nbformat_minor": 5
}
