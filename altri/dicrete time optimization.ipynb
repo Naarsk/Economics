{
 "cells": [
  {
   "cell_type": "code",
   "id": "initial_id",
   "metadata": {
    "collapsed": true,
    "ExecuteTime": {
     "end_time": "2024-10-27T16:50:27.401241Z",
     "start_time": "2024-10-27T16:50:27.385994Z"
    }
   },
   "source": [
    "from sympy import Interval, Symbol, S, sin, cos, pi, maximum, Lambda, ConditionSet, ProductSet, init_session,stationary_points, FiniteSet\n",
    "from sympy.plotting.intervalmath import interval\n",
    "\n",
    "\n",
    "init_session()"
   ],
   "outputs": [
    {
     "name": "stdout",
     "output_type": "stream",
     "text": [
      "IPython console for SymPy 1.13.3 (Python 3.12.7-64-bit) (ground types: python)\n",
      "\n",
      "These commands were executed:\n",
      ">>> from sympy import *\n",
      ">>> x, y, z, t = symbols('x y z t')\n",
      ">>> k, m, n = symbols('k m n', integer=True)\n",
      ">>> f, g, h = symbols('f g h', cls=Function)\n",
      ">>> init_printing()\n",
      "\n",
      "Documentation can be found at https://docs.sympy.org/1.13.3/\n",
      "\n"
     ]
    }
   ],
   "execution_count": 7
  },
  {
   "metadata": {
    "ExecuteTime": {
     "end_time": "2024-10-27T16:49:33.446268Z",
     "start_time": "2024-10-27T16:49:33.394390Z"
    }
   },
   "cell_type": "code",
   "source": [
    "Sin = Lambda((x,y), sin(x+y))\n",
    "domain=ProductSet(Interval(0,pi/4),Interval(0,pi/4));\n",
    "print(domain)"
   ],
   "id": "93daf8fad85ed6bc",
   "outputs": [
    {
     "name": "stdout",
     "output_type": "stream",
     "text": [
      "ProductSet(Interval(0, pi/4), Interval(0, pi/4))\n"
     ]
    }
   ],
   "execution_count": 3
  },
  {
   "metadata": {
    "ExecuteTime": {
     "end_time": "2024-10-27T16:49:33.533984Z",
     "start_time": "2024-10-27T16:49:33.522435Z"
    }
   },
   "cell_type": "code",
   "source": [
    "F=sin(x+y)\n",
    "print(F)"
   ],
   "id": "389b36a3c246c994",
   "outputs": [
    {
     "name": "stdout",
     "output_type": "stream",
     "text": [
      "sin(x + y)\n"
     ]
    }
   ],
   "execution_count": 4
  },
  {
   "metadata": {
    "ExecuteTime": {
     "end_time": "2024-10-27T16:49:33.656348Z",
     "start_time": "2024-10-27T16:49:33.629062Z"
    }
   },
   "cell_type": "code",
   "source": [
    "res= stationary_points(x*y+x**2+(x-y)**2,x, domain=S.Reals)\n",
    "\n",
    "print(res) "
   ],
   "id": "cc4228585d549139",
   "outputs": [
    {
     "name": "stdout",
     "output_type": "stream",
     "text": [
      "Intersection({y/4}, Reals)\n"
     ]
    }
   ],
   "execution_count": 5
  },
  {
   "metadata": {
    "ExecuteTime": {
     "end_time": "2024-10-27T16:49:33.727942Z",
     "start_time": "2024-10-27T16:49:33.715802Z"
    }
   },
   "cell_type": "code",
   "source": [
    "coin = FiniteSet('H', 'T')\n",
    "set(coin**2)"
   ],
   "id": "e406b0138e923ed",
   "outputs": [
    {
     "ename": "SyntaxError",
     "evalue": "invalid character '§' (U+00A7) (3555233079.py, line 1)",
     "output_type": "error",
     "traceback": [
      "\u001B[1;36m  Cell \u001B[1;32mIn[6], line 1\u001B[1;36m\u001B[0m\n\u001B[1;33m    §coin = FiniteSet('H', 'T')\u001B[0m\n\u001B[1;37m    ^\u001B[0m\n\u001B[1;31mSyntaxError\u001B[0m\u001B[1;31m:\u001B[0m invalid character '§' (U+00A7)\n"
     ]
    }
   ],
   "execution_count": 6
  },
  {
   "metadata": {
    "ExecuteTime": {
     "end_time": "2024-10-27T16:49:33.767994Z",
     "start_time": "2024-10-06T11:05:48.233735Z"
    }
   },
   "cell_type": "code",
   "source": [
    "import numpy as np\n",
    "\n",
    "def disc_time_opt(f,g,T,x0):\n",
    "    V=np.array(T)\n",
    "    x=np.array(T)\n",
    "    u=np.array(T)\n",
    "    \n",
    "    x[0]=x0\n",
    "    u[0]=0\n",
    "    \n",
    "    \n",
    "    for k in range(1,len(T)):\n",
    "        x[k]=f(x[k-1],u[k-1])\n",
    "        u[k]=g(x[k-1],u[k-1])\n",
    "    return x\n"
   ],
   "id": "e18869aafd761342",
   "outputs": [
    {
     "ename": "ModuleNotFoundError",
     "evalue": "No module named 'numpy'",
     "output_type": "error",
     "traceback": [
      "\u001B[1;31m---------------------------------------------------------------------------\u001B[0m",
      "\u001B[1;31mModuleNotFoundError\u001B[0m                       Traceback (most recent call last)",
      "Cell \u001B[1;32mIn[50], line 1\u001B[0m\n\u001B[1;32m----> 1\u001B[0m \u001B[38;5;28;01mimport\u001B[39;00m \u001B[38;5;21;01mnumpy\u001B[39;00m \u001B[38;5;28;01mas\u001B[39;00m \u001B[38;5;21;01mnp\u001B[39;00m\n\u001B[0;32m      3\u001B[0m \u001B[38;5;28;01mdef\u001B[39;00m \u001B[38;5;21mdisc_time_opt\u001B[39m(f,g,T,x0):\n\u001B[0;32m      4\u001B[0m     V\u001B[38;5;241m=\u001B[39mnp\u001B[38;5;241m.\u001B[39marray(T)\n",
      "\u001B[1;31mModuleNotFoundError\u001B[0m: No module named 'numpy'"
     ]
    }
   ],
   "execution_count": 50
  },
  {
   "metadata": {
    "ExecuteTime": {
     "end_time": "2024-10-27T16:49:33.768987200Z",
     "start_time": "2024-10-05T09:50:30.110695Z"
    }
   },
   "cell_type": "code",
   "source": [
    "from sympy import series\n",
    "t=Symbol('t')\n",
    "dt=Symbol('dt')\n",
    "\n",
    "series((t+dt)**(1/2),dt,t+dt)"
   ],
   "id": "c29b450091fe4c73",
   "outputs": [
    {
     "data": {
      "text/plain": [
       "0.348029118865254*t**0.5 + O(t**6)"
      ],
      "text/latex": "$\\displaystyle 0.348029118865254 t^{0.5} + O\\left(t^{6}\\right)$"
     },
     "execution_count": 8,
     "metadata": {},
     "output_type": "execute_result"
    }
   ],
   "execution_count": 8
  },
  {
   "metadata": {},
   "cell_type": "code",
   "outputs": [],
   "execution_count": null,
   "source": "",
   "id": "2bc85727af12c228"
  }
 ],
 "metadata": {
  "kernelspec": {
   "display_name": "Python 3",
   "language": "python",
   "name": "python3"
  },
  "language_info": {
   "codemirror_mode": {
    "name": "ipython",
    "version": 2
   },
   "file_extension": ".py",
   "mimetype": "text/x-python",
   "name": "python",
   "nbconvert_exporter": "python",
   "pygments_lexer": "ipython2",
   "version": "2.7.6"
  }
 },
 "nbformat": 4,
 "nbformat_minor": 5
}
