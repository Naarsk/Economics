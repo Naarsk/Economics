{
 "cells": [
  {
   "cell_type": "code",
   "id": "initial_id",
   "metadata": {
    "collapsed": true,
    "ExecuteTime": {
     "end_time": "2024-10-06T11:16:08.188800Z",
     "start_time": "2024-10-06T11:16:08.137521Z"
    }
   },
   "source": [
    "import sympy as sp\n",
    "\n",
    "def find_stationary_points(f, var):\n",
    "    # Get the derivative of the function with respect to the variable\n",
    "    df_dvar = sp.diff(f, var)\n",
    "\n",
    "    # Solve for the variable to get the stationary points\n",
    "    points = sp.solve(df_dvar, var)\n",
    "\n",
    "    # Create a new function that represents the stationary points\n",
    "    g = sp.Function('g')(var)\n",
    "    for point in points:\n",
    "        g = g.subs(var, point)\n",
    "\n",
    "    return g\n",
    "\n",
    "# Example usage\n",
    "x, y = sp.symbols('x y')\n",
    "f = sp.Function('f')(x, y)\n",
    "\n",
    "# Define the function f(x,y)\n",
    "f = x**2 + y**2\n",
    "\n",
    "# Find the stationary points of f(x,y) with respect to x\n",
    "g_x = find_stationary_points(f, x)\n",
    "\n",
    "print(g_x)"
   ],
   "outputs": [
    {
     "name": "stdout",
     "output_type": "stream",
     "text": [
      "g(0)\n"
     ]
    }
   ],
   "execution_count": 2
  },
  {
   "metadata": {
    "ExecuteTime": {
     "end_time": "2024-10-06T11:18:38.283405Z",
     "start_time": "2024-10-06T11:18:38.147319Z"
    }
   },
   "cell_type": "code",
   "source": [
    "import sympy as sp\n",
    "\n",
    "def find_stationary_points(f, var):\n",
    "    # Get the derivative of the function with respect to the variable\n",
    "    df_dvar = sp.diff(f, var)\n",
    "\n",
    "    # Solve for the variable to get the stationary points\n",
    "    points = sp.solve(df_dvar, var)\n",
    "\n",
    "    # Create a new function that represents the stationary points\n",
    "    if len(points) > 0:\n",
    "        point = points[0]\n",
    "        g = f.subs(var, point)\n",
    "    else:\n",
    "        g = None\n",
    "\n",
    "    return g\n",
    "\n",
    "# Example usage\n",
    "x, y = sp.symbols('x y')\n",
    "f = x**2 + y**2 + 2*x*y\n",
    "\n",
    "# Find the stationary points of f(x,y) with respect to x\n",
    "g_y = find_stationary_points(f, x)\n",
    "\n",
    "print(g_y)"
   ],
   "id": "b0c32ce2775fb0b6",
   "outputs": [
    {
     "name": "stdout",
     "output_type": "stream",
     "text": [
      "0\n"
     ]
    }
   ],
   "execution_count": 4
  },
  {
   "metadata": {},
   "cell_type": "code",
   "outputs": [],
   "execution_count": null,
   "source": "",
   "id": "27c1e99d3b7f8cb1"
  }
 ],
 "metadata": {
  "kernelspec": {
   "display_name": "Python 3",
   "language": "python",
   "name": "python3"
  },
  "language_info": {
   "codemirror_mode": {
    "name": "ipython",
    "version": 2
   },
   "file_extension": ".py",
   "mimetype": "text/x-python",
   "name": "python",
   "nbconvert_exporter": "python",
   "pygments_lexer": "ipython2",
   "version": "2.7.6"
  }
 },
 "nbformat": 4,
 "nbformat_minor": 5
}
