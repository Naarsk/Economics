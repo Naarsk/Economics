{
 "cells": [
  {
   "cell_type": "code",
   "id": "initial_id",
   "metadata": {
    "collapsed": true,
    "ExecuteTime": {
     "end_time": "2024-11-29T08:49:52.235889Z",
     "start_time": "2024-11-29T08:49:51.353820Z"
    }
   },
   "source": [
    "import numpy as np\n",
    "from scipy import optimize\n",
    "\n",
    "c1 = np.zeros(3) #agent 1\n",
    "c2 = np.zeros(3) #agent 2\n",
    "\n",
    "psi1 = 0\n",
    "psi2 = 0\n",
    "\n",
    "def equations(x):\n",
    "    c1 = x[:3]\n",
    "    c2 = x[3:6]\n",
    "    psi1 = x[6]\n",
    "    psi2 = x[7]\n",
    "    \n",
    "    eq_1 = c1[0] + c2[0] - 1\n",
    "    eq_2 = c1[1] + c2[1] - 7\n",
    "    eq_3 = c1[2] + c2[2] - 5\n",
    "    eq_4 = c1[0]*np.sqrt(c2[1]) - np.sqrt(c2[0])*c1[1]\n",
    "    eq_5 = c1[0]*np.sqrt(c2[2]) - np.sqrt(c2[0])*c1[2]\n",
    "    eq_6 = c1[0]+psi1 * c1[1] + psi2 * c1[2] - 0.5 - 2*psi1 - 4 * psi2\n",
    "    eq_7 = c2[0]+psi1 * c2[1] + psi2 * c2[2] - 0.5 - 5*psi1 - 1 * psi2\n",
    "    eq_8 = 2*c1[1]*psi1-c1[0]\n",
    "    \n",
    "    return np.array([eq_1, eq_2, eq_3, eq_4, eq_5, eq_6, eq_7, eq_8])\n",
    "\n",
    "sol = optimize.root(equations, 4*np.ones(8))\n",
    "    \n"
   ],
   "outputs": [
    {
     "name": "stderr",
     "output_type": "stream",
     "text": [
      "C:\\Users\\leocr\\AppData\\Local\\Temp\\ipykernel_11040\\4150079806.py:20: RuntimeWarning: invalid value encountered in sqrt\n",
      "  eq_5 = c1[0]*np.sqrt(c2[2]) - np.sqrt(c2[0])*c1[2]\n"
     ]
    }
   ],
   "execution_count": 1
  },
  {
   "metadata": {},
   "cell_type": "code",
   "outputs": [],
   "execution_count": null,
   "source": "",
   "id": "85e12d0c88701fc3"
  }
 ],
 "metadata": {
  "kernelspec": {
   "display_name": "Python 3",
   "language": "python",
   "name": "python3"
  },
  "language_info": {
   "codemirror_mode": {
    "name": "ipython",
    "version": 2
   },
   "file_extension": ".py",
   "mimetype": "text/x-python",
   "name": "python",
   "nbconvert_exporter": "python",
   "pygments_lexer": "ipython2",
   "version": "2.7.6"
  }
 },
 "nbformat": 4,
 "nbformat_minor": 5
}
