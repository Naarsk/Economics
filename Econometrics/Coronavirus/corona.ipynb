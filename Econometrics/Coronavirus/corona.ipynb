{
 "cells": [
  {
   "metadata": {},
   "cell_type": "markdown",
   "source": "WHO-COVID-19-global-daily-data",
   "id": "dfa6f476a5e0faa8"
  },
  {
   "metadata": {
    "jupyter": {
     "is_executing": true
    }
   },
   "cell_type": "code",
   "source": [
    "import numpy as np\n",
    "from scipy.integrate import odeint\n",
    "import matplotlib.pyplot as plt\n",
    "\n",
    "# define the model\n",
    "def model(x, t, a, b, c):\n",
    "    dxdt = a * x - b * x ** (1 + c)\n",
    "    return dxdt\n",
    "\n",
    "# parameters\n",
    "a = 0.5\n",
    "b = 0.2\n",
    "c = 0.1\n",
    "\n",
    "# initial condition\n",
    "x0 = 1.0\n",
    "\n",
    "# time points\n",
    "t = np.linspace(0, 10)\n",
    "\n",
    "# solve ODE\n",
    "x = odeint(model, x0, t, args=(a, b, c))\n",
    "\n",
    "# plot results\n",
    "plt.plot(t, x)\n",
    "plt.xlabel('t')\n",
    "plt.ylabel('x(t)')\n",
    "plt.title('Solution of the differential equation')\n",
    "plt.grid()\n",
    "plt.show()"
   ],
   "id": "3b0458d56412642d",
   "outputs": [],
   "execution_count": null
  },
  {
   "metadata": {
    "jupyter": {
     "is_executing": true
    }
   },
   "cell_type": "code",
   "source": [
    "import pandas as pd\n",
    "\n",
    "df= pd.read_csv('WHO-COVID-19-global-daily-data.csv')"
   ],
   "id": "e7ce2e90bb5a135b",
   "outputs": [],
   "execution_count": null
  },
  {
   "metadata": {},
   "cell_type": "code",
   "source": "",
   "id": "bb49c12694195b0b",
   "outputs": [],
   "execution_count": null
  }
 ],
 "metadata": {
  "kernelspec": {
   "display_name": "Python 3",
   "language": "python",
   "name": "python3"
  },
  "language_info": {
   "codemirror_mode": {
    "name": "ipython",
    "version": 2
   },
   "file_extension": ".py",
   "mimetype": "text/x-python",
   "name": "python",
   "nbconvert_exporter": "python",
   "pygments_lexer": "ipython2",
   "version": "2.7.6"
  }
 },
 "nbformat": 4,
 "nbformat_minor": 5
}
