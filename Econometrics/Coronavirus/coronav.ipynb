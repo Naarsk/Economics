{
 "cells": [
  {
   "metadata": {},
   "cell_type": "markdown",
   "source": "WHO-COVID-19-global-daily-data",
   "id": "dfa6f476a5e0faa8"
  },
  {
   "metadata": {},
   "cell_type": "code",
   "source": [
    "import numpy as np\n",
    "from scipy.integrate import odeint\n",
    "import matplotlib.pyplot as plt\n",
    "\n",
    "# define the model\n",
    "def model(x, t, a, b, c):\n",
    "    dxdt = a * x - b * x ** (1 + c)\n",
    "    return dxdt\n",
    "\n",
    "# parameters\n",
    "a = 0.5\n",
    "b = 0.2\n",
    "c = 0.1\n",
    "\n",
    "# initial condition\n",
    "x0 = 1.0\n",
    "\n",
    "# time points\n",
    "t = np.linspace(0, 150, 1000)\n",
    "\n",
    "# solve ODE\n",
    "x = odeint(model, x0, t, args=(a, b, c))\n",
    "\n",
    "# compute derivative of solution\n",
    "dxdt = a * x - b * x ** (1 + c)\n",
    "\n",
    "# create two subplots that share the same x-axis\n",
    "fig, axs = plt.subplots(2, 1, figsize=(12, 12), sharex=True)\n",
    "\n",
    "# plot the solution on the first subplot\n",
    "axs[0].plot(t, x)\n",
    "axs[0].set_ylabel('x(t)')\n",
    "axs[0].set_title('Solution of the differential equation')\n",
    "axs[0].grid()\n",
    "\n",
    "# plot the derivative on the second subplot\n",
    "axs[1].plot(t, dxdt)\n",
    "axs[1].set_xlabel('t')\n",
    "axs[1].set_ylabel(\"x'(t)\")\n",
    "axs[1].set_title(\"Derivative of the solution\")\n",
    "axs[1].grid()\n",
    "\n",
    "# layout so plots do not overlap\n",
    "fig.tight_layout()\n",
    "\n",
    "plt.show()"
   ],
   "id": "3b0458d56412642d",
   "outputs": [],
   "execution_count": null
  },
  {
   "metadata": {},
   "cell_type": "code",
   "source": [
    "import pandas as pd\n",
    "\n",
    "df= pd.read_csv('WHO-COVID-19-global-daily-data.csv')\n"
   ],
   "id": "e7ce2e90bb5a135b",
   "outputs": [],
   "execution_count": null
  },
  {
   "metadata": {},
   "cell_type": "code",
   "source": [
    "start_date = '2020-02-15'\n",
    "end_date = '2020-07-15'\n",
    "\n",
    "italy_df = df[(df['Country'] == 'Italy') & \n",
    "              (df['Date_reported'] >= start_date) & \n",
    "              (df['Date_reported'] <= end_date)]"
   ],
   "id": "1604015ac25bc5ae",
   "outputs": [],
   "execution_count": null
  },
  {
   "metadata": {},
   "cell_type": "code",
   "source": [
    "# Assuming 'date' is in datetime format, you can plot the data as follows:\n",
    "import matplotlib.dates as mdates\n",
    "\n",
    "\n",
    "plt.figure(figsize=(12,6))\n",
    "plt.plot(italy_df['Date_reported'], italy_df['New_cases'])  # Replace 'cases' with the actual column name\n",
    "plt.xlabel('Date')\n",
    "plt.ylabel('Cases')\n",
    "plt.title('COVID-19 cases in Italy over time')\n",
    "plt.grid()\n",
    "plt.gca().xaxis.set_major_locator(mdates.DayLocator(interval=30))\n",
    "\n",
    "plt.show()"
   ],
   "id": "bb49c12694195b0b",
   "outputs": [],
   "execution_count": null
  },
  {
   "metadata": {},
   "cell_type": "code",
   "source": [
    "from statsmodels.sandbox.regression.gmm import GMM\n",
    "\n",
    "class gmm(GMM):\n",
    "    def momcond(self, params):\n",
    "        print('params=',params)\n",
    "        alpha_1, alpha_2, epsilon = params\n",
    "        N_t,N_t_1 = self.exog.T\n",
    "        err = N_t - alpha_1*N_t_1 - alpha_2*N_t_1**(1+epsilon)\n",
    "        return err\n",
    "\n",
    "\n",
    "theta0 = np.array([1, 0.1, 0.3])\n",
    "\n",
    "dta=pd.DataFrame(italy_df['New_cases'].fillna(0))\n",
    "dta.insert(1, 'New_cases_lag_1', dta['New_cases'].shift(1).fillna(0))\n",
    "dta.insert(2, 'New_cases_lag_2', dta['New_cases'].shift(2).fillna(0))\n",
    "# dta.insert(0, 'Const', 1)\n",
    "\n",
    "print(dta[10:20])\n",
    "instrument_df = dta[['New_cases_lag_1', 'New_cases_lag_2']]\n",
    "endog_df = dta[['New_cases', 'New_cases_lag_1']]\n",
    "exog_df = endog_df\n",
    "endog, exog, instrument  = map(np.asarray, [endog_df, exog_df, instrument_df])\n",
    "endog1 = np.zeros(exog.shape[0])  \n",
    "model = gmm(exog = exog, endog= endog1, instrument=instrument, k_moms=3, k_params=3)\n",
    "\n",
    "model.fit(start_params=theta0,weights_method='hac')"
   ],
   "id": "cf41514338bc354d",
   "outputs": [],
   "execution_count": null
  },
  {
   "metadata": {},
   "cell_type": "code",
   "source": [
    "dta.to_stata('cases.dta')\n",
    "\n"
   ],
   "id": "5d1e0a0d0861f040",
   "outputs": [],
   "execution_count": null
  },
  {
   "metadata": {},
   "cell_type": "code",
   "source": "",
   "id": "87c74f3bc71bb483",
   "outputs": [],
   "execution_count": null
  }
 ],
 "metadata": {
  "kernelspec": {
   "display_name": "Python 3",
   "language": "python",
   "name": "python3"
  },
  "language_info": {
   "codemirror_mode": {
    "name": "ipython",
    "version": 2
   },
   "file_extension": ".py",
   "mimetype": "text/x-python",
   "name": "python",
   "nbconvert_exporter": "python",
   "pygments_lexer": "ipython2",
   "version": "2.7.6"
  }
 },
 "nbformat": 4,
 "nbformat_minor": 5
}
